{
  "cells": [
    {
      "cell_type": "code",
      "execution_count": null,
      "metadata": {
        "colab": {
          "base_uri": "https://localhost:8080/"
        },
        "id": "v-UHgEYPDg-B",
        "outputId": "aea8ed90-49d3-4b3a-bd2f-677fabc76833"
      },
      "outputs": [
        {
          "output_type": "stream",
          "name": "stdout",
          "text": [
            "Extrayendo /content/test-clean.tar.gz ...\n",
            "Extrayendo /content/dev-clean.tar.gz ...\n"
          ]
        }
      ],
      "source": [
        "import tarfile\n",
        "import os\n",
        "\n",
        "files_to_extract = {\n",
        "    \"/content/test-clean.tar.gz\": \"/content/LibriSpeech/\",\n",
        "    \"/content/dev-clean.tar.gz\": \"/content/LibriSpeech/\"\n",
        "}\n",
        "\n",
        "for file_path, extract_path in files_to_extract.items():\n",
        "    if os.path.exists(file_path):\n",
        "        print(f\"Extrayendo {file_path} ...\")\n",
        "        with tarfile.open(file_path, \"r:gz\") as tar:\n",
        "            tar.extractall(path=extract_path)\n",
        "    else:\n",
        "        print(f\"Archivo no encontrado: {file_path}\")\n",
        "\n",
        "\n",
        "\n"
      ]
    },
    {
      "cell_type": "code",
      "execution_count": null,
      "metadata": {
        "colab": {
          "base_uri": "https://localhost:8080/"
        },
        "id": "McA3H00tS9A9",
        "outputId": "144181aa-b684-4bd0-b323-6db96bd909aa"
      },
      "outputs": [
        {
          "output_type": "stream",
          "name": "stdout",
          "text": [
            "Archivo en: /content/LibriSpeech/LibriSpeech/\n"
          ]
        }
      ],
      "source": [
        "import zipfile\n",
        "import os\n",
        "\n",
        "zip_path = \"/content/train-clean-100.zip\"\n",
        "extract_to = \"/content/LibriSpeech/LibriSpeech/\"\n",
        "\n",
        "os.makedirs(extract_to, exist_ok=True)\n",
        "\n",
        "with zipfile.ZipFile(zip_path, 'r') as zip_ref:\n",
        "    zip_ref.extractall(extract_to)\n",
        "\n",
        "print(\"Archivo en:\", extract_to)\n"
      ]
    },
    {
      "cell_type": "markdown",
      "metadata": {
        "id": "lgMpdj78H2jl"
      },
      "source": [
        "#  Cargar audios + transcripciones (para entrenamiento)\n"
      ]
    },
    {
      "cell_type": "code",
      "execution_count": null,
      "metadata": {
        "id": "w6-H4A3lDqZj"
      },
      "outputs": [],
      "source": [
        "import os\n",
        "import torchaudio\n",
        "\n",
        "def load_librispeech_data(path):\n",
        "    all_data = []\n",
        "    for speaker in os.listdir(path):\n",
        "        speaker_path = os.path.join(path, speaker)\n",
        "        if not os.path.isdir(speaker_path):\n",
        "            continue\n",
        "        for chapter in os.listdir(speaker_path):\n",
        "            chapter_path = os.path.join(speaker_path, chapter)\n",
        "            if not os.path.isdir(chapter_path):\n",
        "                continue\n",
        "\n",
        "            # Archivo de transcripciones\n",
        "            trans_file = os.path.join(chapter_path, f\"{speaker}-{chapter}.trans.txt\")\n",
        "            if not os.path.exists(trans_file):\n",
        "                continue\n",
        "            with open(trans_file, \"r\") as f:\n",
        "                transcriptions = {\n",
        "                    line.split(\" \")[0]: \" \".join(line.strip().split(\" \")[1:])\n",
        "                    for line in f.readlines()\n",
        "                }\n",
        "\n",
        "            # Cargar audios y emparejar con texto\n",
        "            for file in os.listdir(chapter_path):\n",
        "                if file.endswith(\".flac\"):\n",
        "                    file_path = os.path.join(chapter_path, file)\n",
        "                    waveform, sample_rate = torchaudio.load(file_path)\n",
        "                    utt_id = file.replace(\".flac\", \"\")\n",
        "                    if utt_id in transcriptions:\n",
        "                        all_data.append((waveform, sample_rate, transcriptions[utt_id]))\n",
        "\n",
        "    return all_data\n",
        "\n"
      ]
    },
    {
      "cell_type": "code",
      "execution_count": null,
      "metadata": {
        "colab": {
          "base_uri": "https://localhost:8080/"
        },
        "id": "koeYl1uwH65g",
        "outputId": "520dbacd-b7a8-412b-dab1-bbdbac5e10a3"
      },
      "outputs": [
        {
          "output_type": "stream",
          "name": "stdout",
          "text": [
            "rain: 4178 muestras\n",
            "Valid: 2703 muestras\n",
            "Test : 2620 muestras\n"
          ]
        }
      ],
      "source": [
        "# Rutas\n",
        "train_path = \"/content/LibriSpeech/LibriSpeech/train-clean-100\"\n",
        "valid_path = \"/content/LibriSpeech/LibriSpeech/dev-clean\"\n",
        "test_path  = \"/content/LibriSpeech/LibriSpeech/test-clean\"\n",
        "\n",
        "train_data = load_librispeech_data(train_path)\n",
        "valid_data = load_librispeech_data(valid_path)\n",
        "test_data  = load_librispeech_data(test_path)\n",
        "\n",
        "print(f\"rain: {len(train_data)} muestras\")\n",
        "print(f\"Valid: {len(valid_data)} muestras\")\n",
        "print(f\"Test : {len(test_data)} muestras\")\n"
      ]
    },
    {
      "cell_type": "markdown",
      "metadata": {
        "id": "AYtgxYiPD3gj"
      },
      "source": [
        "#  Crear vocabulario y Dataset\n",
        "\n",
        "Para un modelo RNN, no usamos directamente la onda de audio. Lo que hacemos es extraer representaciones como:\n",
        "\n",
        "MFCCs (Mel Frequency Cepstral Coefficients): resumen espectral del audio.\n",
        "\n",
        "\n",
        "\n",
        "Vamos a:\n",
        "\n",
        "Extraer MFCCs de cada audio.\n",
        "\n",
        "Convertir cada texto a índices usando un vocabulario común.\n",
        "\n",
        "Preparar una clase Dataset personalizada de PyTorch para usar en el DataLoader.\n",
        "\n"
      ]
    },
    {
      "cell_type": "code",
      "execution_count": null,
      "metadata": {
        "colab": {
          "base_uri": "https://localhost:8080/"
        },
        "id": "fzK9rxmRD9_z",
        "outputId": "185d7977-136e-4a17-c9a6-6d0e2fcd7ace"
      },
      "outputs": [
        {
          "output_type": "stream",
          "name": "stdout",
          "text": [
            "Tamaño del vocabulario (con <BLANK>): 29\n",
            "{' ': 1, \"'\": 2, 'A': 3, 'B': 4, 'C': 5, 'D': 6, 'E': 7, 'F': 8, 'G': 9, 'H': 10, 'I': 11, 'J': 12, 'K': 13, 'L': 14, 'M': 15, 'N': 16, 'O': 17, 'P': 18, 'Q': 19, 'R': 20, 'S': 21, 'T': 22, 'U': 23, 'V': 24, 'W': 25, 'X': 26, 'Y': 27, 'Z': 28, '<BLANK>': 0}\n"
          ]
        }
      ],
      "source": [
        "# Crear vocabulario  a partir de todo el dataset\n",
        "all_text = \" \".join([text for _, _, text in train_data])\n",
        "unique_chars = sorted(set(all_text.replace(\" \", \"\") + \" \"))\n",
        "\n",
        "char_to_index = {char: idx + 1 for idx, char in enumerate(unique_chars)}\n",
        "index_to_char = {idx: char for char, idx in char_to_index.items()}\n",
        "char_to_index[\"<BLANK>\"] = 0\n",
        "index_to_char[0] = \"\"\n",
        "\n",
        "print(f\"Tamaño del vocabulario (con <BLANK>): {len(char_to_index)}\")\n",
        "print(char_to_index)\n"
      ]
    },
    {
      "cell_type": "markdown",
      "metadata": {
        "id": "DN5p8Z2KIZVm"
      },
      "source": [
        "Creamos un dataset PyTorch personalizado para:\n",
        "\n",
        "Convertir cada audio en MFCCs\n",
        "\n",
        "Convertir texto en secuencia de índices\n",
        "\n",
        "Devolver todo listo para usar en batches\n",
        "\n"
      ]
    },
    {
      "cell_type": "markdown",
      "metadata": {
        "id": "zXLEZrKnEO45"
      },
      "source": [
        "# Dataset y DataLoader\n"
      ]
    },
    {
      "cell_type": "code",
      "execution_count": null,
      "metadata": {
        "id": "xZMAERdXER_4"
      },
      "outputs": [],
      "source": [
        "from torch.utils.data import Dataset\n",
        "import torchaudio.transforms as T\n",
        "import torch\n",
        "\n",
        "class SpeechDataset(Dataset):\n",
        "    def __init__(self, data, char_to_index, sample_rate=16000, n_mfcc=13):\n",
        "        self.data = data\n",
        "        self.char_to_index = char_to_index\n",
        "        self.sample_rate = sample_rate\n",
        "        self.transform = T.MFCC(\n",
        "            sample_rate=sample_rate,\n",
        "            n_mfcc=n_mfcc,\n",
        "            melkwargs={\"n_fft\": 400, \"hop_length\": 160, \"n_mels\": 23}\n",
        "        )\n",
        "\n",
        "    def __len__(self):\n",
        "        return len(self.data)\n",
        "\n",
        "    def __getitem__(self, idx):\n",
        "        waveform, sample_rate, text = self.data[idx]\n",
        "\n",
        "        # Convertir audio a MFCCs\n",
        "        mfcc = self.transform(waveform).squeeze(0).transpose(0, 1)\n",
        "\n",
        "        # Convertir texto a índices\n",
        "        target = torch.tensor([self.char_to_index[c] for c in text], dtype=torch.long)\n",
        "\n",
        "        return mfcc, target\n"
      ]
    },
    {
      "cell_type": "markdown",
      "metadata": {
        "id": "_cjXfuFoIm4M"
      },
      "source": [
        "\n",
        "Collate function para batches (padding dinámico)\n",
        "\n"
      ]
    },
    {
      "cell_type": "code",
      "execution_count": null,
      "metadata": {
        "id": "_D6duNhJIntW"
      },
      "outputs": [],
      "source": [
        "def collate_fn(batch):\n",
        "    mfccs, targets = zip(*batch)\n",
        "\n",
        "    # Padding de inputs\n",
        "    input_lengths = torch.tensor([mfcc.shape[0] for mfcc in mfccs])\n",
        "    target_lengths = torch.tensor([target.shape[0] for target in targets])\n",
        "\n",
        "    padded_inputs = torch.nn.utils.rnn.pad_sequence(mfccs, batch_first=True)\n",
        "    padded_targets = torch.cat(targets)\n",
        "\n",
        "    return padded_inputs, padded_targets, input_lengths, target_lengths\n"
      ]
    },
    {
      "cell_type": "code",
      "execution_count": null,
      "metadata": {
        "colab": {
          "base_uri": "https://localhost:8080/"
        },
        "id": "JgPImY2aIqUQ",
        "outputId": "de69e670-e191-450c-f845-8e865069bdcd"
      },
      "outputs": [
        {
          "output_type": "stream",
          "name": "stdout",
          "text": [
            "DataLoaders creados.\n"
          ]
        }
      ],
      "source": [
        "from torch.utils.data import DataLoader\n",
        "\n",
        "batch_size = 16\n",
        "\n",
        "train_dataset = SpeechDataset(train_data, char_to_index)\n",
        "valid_dataset = SpeechDataset(valid_data, char_to_index)\n",
        "\n",
        "train_loader = DataLoader(train_dataset, batch_size=batch_size, shuffle=True, collate_fn=collate_fn)\n",
        "valid_loader = DataLoader(valid_dataset, batch_size=batch_size, shuffle=False, collate_fn=collate_fn)\n",
        "\n",
        "print(\"DataLoaders creados.\")\n"
      ]
    },
    {
      "cell_type": "markdown",
      "metadata": {
        "id": "ABNuNxMbExD-"
      },
      "source": [
        "# Entrenamiento con batches y validación\n",
        "\n"
      ]
    },
    {
      "cell_type": "code",
      "execution_count": null,
      "metadata": {
        "id": "YwxJsjzJEwrY"
      },
      "outputs": [],
      "source": [
        "import torch.nn as nn\n",
        "import torch.nn.functional as F\n",
        "\n",
        "class SpeechToTextRNN(nn.Module):\n",
        "    def __init__(self, input_dim, hidden_dim, output_dim, num_layers=2):\n",
        "        super(SpeechToTextRNN, self).__init__()\n",
        "        self.lstm = nn.LSTM(input_dim, hidden_dim, num_layers, batch_first=True, bidirectional=True)\n",
        "        self.fc = nn.Linear(hidden_dim * 2, output_dim)  # Bidireccional\n",
        "\n",
        "    def forward(self, x):\n",
        "        x, _ = self.lstm(x)\n",
        "        x = self.fc(x)\n",
        "        return F.log_softmax(x, dim=2)\n"
      ]
    },
    {
      "cell_type": "code",
      "execution_count": null,
      "metadata": {
        "id": "s-Ow-0NWI6lk"
      },
      "outputs": [],
      "source": [
        "device = torch.device(\"cuda\" if torch.cuda.is_available() else \"cpu\")\n",
        "model = SpeechToTextRNN(input_dim=13, hidden_dim=128, output_dim=len(char_to_index)).to(device)\n",
        "\n",
        "optimizer = torch.optim.Adam(model.parameters(), lr=0.001)\n",
        "ctc_loss = nn.CTCLoss(blank=0, zero_infinity=True)\n",
        "\n",
        "def train_epoch(loader):\n",
        "    model.train()\n",
        "    running_loss = 0.0\n",
        "    for inputs, targets, input_lengths, target_lengths in loader:\n",
        "        inputs, targets = inputs.to(device), targets.to(device)\n",
        "\n",
        "        optimizer.zero_grad()\n",
        "        outputs = model(inputs)  # (batch, time, classes)\n",
        "        outputs = outputs.permute(1, 0, 2)  # (time, batch, classes)\n",
        "\n",
        "        loss = ctc_loss(outputs, targets, input_lengths, target_lengths)\n",
        "        loss.backward()\n",
        "        optimizer.step()\n",
        "        running_loss += loss.item()\n",
        "    return running_loss / len(loader)\n",
        "\n",
        "def validate(loader):\n",
        "    model.eval()\n",
        "    val_loss = 0.0\n",
        "    with torch.no_grad():\n",
        "        for inputs, targets, input_lengths, target_lengths in loader:\n",
        "            inputs, targets = inputs.to(device), targets.to(device)\n",
        "            outputs = model(inputs).permute(1, 0, 2)\n",
        "            loss = ctc_loss(outputs, targets, input_lengths, target_lengths)\n",
        "            val_loss += loss.item()\n",
        "    return val_loss / len(loader)\n",
        "\n"
      ]
    },
    {
      "cell_type": "code",
      "execution_count": null,
      "metadata": {
        "colab": {
          "base_uri": "https://localhost:8080/"
        },
        "id": "N2bHehnpJfqy",
        "outputId": "efa59e3f-52c2-4f8b-c51f-2ad2bf2fbcac"
      },
      "outputs": [
        {
          "output_type": "stream",
          "name": "stdout",
          "text": [
            "Epoch [1/10] | Train Loss: 3.2078 | Val Loss: 2.8923\n",
            "Epoch [2/10] | Train Loss: 2.6730 | Val Loss: 2.4954\n",
            "Epoch [3/10] | Train Loss: 2.1555 | Val Loss: 2.0892\n",
            "Epoch [4/10] | Train Loss: 1.8131 | Val Loss: 1.9054\n",
            "Epoch [5/10] | Train Loss: 1.6053 | Val Loss: 1.7634\n",
            "Epoch [6/10] | Train Loss: 1.4696 | Val Loss: 1.6587\n",
            "Epoch [7/10] | Train Loss: 1.3742 | Val Loss: 1.6034\n",
            "Epoch [8/10] | Train Loss: 1.2973 | Val Loss: 1.5599\n",
            "Epoch [9/10] | Train Loss: 1.2334 | Val Loss: 1.5421\n",
            "Epoch [10/10] | Train Loss: 1.1820 | Val Loss: 1.4904\n",
            "Modelo guardado.\n"
          ]
        }
      ],
      "source": [
        "history = {\n",
        "    'train_loss': [],\n",
        "    'val_loss': []\n",
        "}\n",
        "\n",
        "rnn_simple_train_losses = []\n",
        "rnn_simple_val_losses = []\n",
        "\n",
        "\n",
        "num_epochs = 10\n",
        "for epoch in range(num_epochs):\n",
        "    train_loss = train_epoch(train_loader)\n",
        "    val_loss = validate(valid_loader)\n",
        "\n",
        "    rnn_simple_train_losses.append(train_loss)\n",
        "    rnn_simple_val_losses.append(val_loss)\n",
        "\n",
        "    history['train_loss'].append(train_loss)\n",
        "    history['val_loss'].append(val_loss)\n",
        "\n",
        "    print(f\"Epoch [{epoch+1}/{num_epochs}] | Train Loss: {train_loss:.4f} | Val Loss: {val_loss:.4f}\")\n",
        "\n",
        "torch.save(model.state_dict(), \"asr_batch_model.pth\")\n",
        "print(\"Modelo guardado.\")\n"
      ]
    },
    {
      "cell_type": "code",
      "execution_count": null,
      "metadata": {
        "colab": {
          "base_uri": "https://localhost:8080/",
          "height": 487
        },
        "id": "2M-uNdFxaXFu",
        "outputId": "1ad50d99-06d8-4d39-8b39-cf4f943f6561"
      },
      "outputs": [
        {
          "output_type": "display_data",
          "data": {
            "text/plain": [
              "<Figure size 1000x500 with 1 Axes>"
            ],
            "image/png": "[encoded data removed]"
          },
          "metadata": {}
        }
      ],
      "source": [
        "import matplotlib.pyplot as plt\n",
        "\n",
        "plt.figure(figsize=(10, 5))\n",
        "plt.plot(history['train_loss'], label='Train Loss')\n",
        "plt.plot(history['val_loss'], label='Validation Loss')\n",
        "plt.xlabel('Epoch')\n",
        "plt.ylabel('Loss')\n",
        "plt.title('Pérdida durante el entrenamiento')\n",
        "plt.legend()\n",
        "plt.grid(True)\n",
        "plt.show()\n"
      ]
    },
    {
      "cell_type": "code",
      "execution_count": null,
      "metadata": {
        "colab": {
          "base_uri": "https://localhost:8080/"
        },
        "id": "ifeorY6NaYnS",
        "outputId": "82ce6800-58b3-447a-fb77-ef236df57e55"
      },
      "outputs": [
        {
          "output_type": "stream",
          "name": "stdout",
          "text": [
            "Mejor pérdida de validación: 1.4904 en la epoch 10\n",
            "Última pérdida de entrenamiento: 1.1820\n",
            "Última pérdida de validación: 1.4904\n"
          ]
        }
      ],
      "source": [
        "best_val = min(history['val_loss'])\n",
        "best_epoch = history['val_loss'].index(best_val) + 1\n",
        "\n",
        "print(f\"Mejor pérdida de validación: {best_val:.4f} en la epoch {best_epoch}\")\n",
        "print(f\"Última pérdida de entrenamiento: {history['train_loss'][-1]:.4f}\")\n",
        "print(f\"Última pérdida de validación: {history['val_loss'][-1]:.4f}\")\n"
      ]
    },
    {
      "cell_type": "markdown",
      "metadata": {
        "id": "bAiOrWc-LjYf"
      },
      "source": [
        "# Inferencia en el conjunto de test\n",
        "Una muestra del test_loader, pasarla por el modelo y decodificar la salida a texto."
      ]
    },
    {
      "cell_type": "code",
      "execution_count": null,
      "metadata": {
        "colab": {
          "base_uri": "https://localhost:8080/"
        },
        "id": "CbwBua9TLka2",
        "outputId": "30fea078-9693-4a8e-ac2e-91d9a5a39285"
      },
      "outputs": [
        {
          "output_type": "stream",
          "name": "stdout",
          "text": [
            "\n",
            " Transcripción real:\n",
            "AND MINE IS WILL STUTELEY SHALL WE BE COMRADES\n",
            "\n",
            " Predicción del modelo:\n",
            "AND MIN IS MIS TULE SHAWY PBE COMRANS\n"
          ]
        }
      ],
      "source": [
        "def greedy_decoder(output, index_to_char):\n",
        "    pred_indices = torch.argmax(output, dim=2)\n",
        "    pred_indices = pred_indices[:, 0].tolist()\n",
        "\n",
        "    pred_text = []\n",
        "    prev_idx = None\n",
        "    for idx in pred_indices:\n",
        "        if idx != prev_idx and idx != 0:\n",
        "            pred_text.append(index_to_char.get(idx, \"\"))\n",
        "        prev_idx = idx\n",
        "    return \"\".join(pred_text)\n",
        "\n",
        "\n",
        "model.load_state_dict(torch.load(\"asr_batch_model.pth\"))\n",
        "model.eval()\n",
        "\n",
        "test_dataset = SpeechDataset(test_data, char_to_index)\n",
        "test_loader = DataLoader(test_dataset, batch_size=1, shuffle=True, collate_fn=collate_fn)\n",
        "\n",
        "inputs, targets, input_lengths, target_lengths = next(iter(test_loader))\n",
        "inputs = inputs.to(device)\n",
        "\n",
        "with torch.no_grad():\n",
        "    outputs = model(inputs)\n",
        "    outputs = outputs.permute(1, 0, 2)  # (time, batch, classes)\n",
        "\n",
        "# Decodificamos\n",
        "pred_text = greedy_decoder(outputs, index_to_char)\n",
        "\n",
        "# Texto original\n",
        "original_text = \"\".join([index_to_char[i.item()] for i in targets if i.item() != 0])\n",
        "\n",
        "print(\"\\n Transcripción real:\")\n",
        "print(original_text)\n",
        "\n",
        "print(\"\\n Predicción del modelo:\")\n",
        "print(pred_text)\n"
      ]
    },
    {
      "cell_type": "code",
      "execution_count": null,
      "metadata": {
        "colab": {
          "base_uri": "https://localhost:8080/",
          "height": 453
        },
        "id": "udKMRPMybbwN",
        "outputId": "0346ad32-d54d-444d-d216-4394f0b58b36"
      },
      "outputs": [
        {
          "output_type": "display_data",
          "data": {
            "text/plain": [
              "<Figure size 640x480 with 1 Axes>"
            ],
            "image/png": "[encoded data removed]"
          },
          "metadata": {}
        }
      ],
      "source": [
        "plt.bar([\"Real\", \"Predicción\"], [len(original_text), len(pred_text)], color=[\"green\", \"orange\"])\n",
        "plt.title(\"Comparación de longitud de transcripción\")\n",
        "plt.ylabel(\"Nº de caracteres\")\n",
        "plt.show()\n"
      ]
    },
    {
      "cell_type": "markdown",
      "metadata": {
        "id": "ZahPbvRAMMNy"
      },
      "source": [
        "# RNN MEJORADO\n",
        "Mejorar el modelo aumentando el batch size y la capacidad de las LSTM\n",
        "\n",
        "\n"
      ]
    },
    {
      "cell_type": "code",
      "execution_count": null,
      "metadata": {
        "id": "IBP3iikCMbn-"
      },
      "outputs": [],
      "source": [
        "class SpeechToTextRNN(nn.Module):\n",
        "    def __init__(self, input_dim, hidden_dim=256, output_dim=29, num_layers=4):\n",
        "        super(SpeechToTextRNN, self).__init__()\n",
        "        self.lstm = nn.LSTM(\n",
        "            input_dim, hidden_dim, num_layers=num_layers,\n",
        "            batch_first=True, bidirectional=True\n",
        "        )\n",
        "        self.fc = nn.Linear(hidden_dim * 2, output_dim)\n",
        "\n",
        "    def forward(self, x):\n",
        "        x, _ = self.lstm(x)\n",
        "        x = self.fc(x)\n",
        "        return F.log_softmax(x, dim=2)\n"
      ]
    },
    {
      "cell_type": "code",
      "execution_count": null,
      "metadata": {
        "id": "omsTIlOzMd-W"
      },
      "outputs": [],
      "source": [
        "batch_size = 64\n",
        "\n",
        "train_loader = DataLoader(train_dataset, batch_size=batch_size, shuffle=True, collate_fn=collate_fn)\n",
        "valid_loader = DataLoader(valid_dataset, batch_size=batch_size, shuffle=False, collate_fn=collate_fn)\n"
      ]
    },
    {
      "cell_type": "code",
      "execution_count": null,
      "metadata": {
        "colab": {
          "base_uri": "https://localhost:8080/"
        },
        "collapsed": true,
        "id": "nsFleVvhM_Ng",
        "outputId": "66f4ee2b-dcb4-4d82-9ba0-81eeaced509f"
      },
      "outputs": [
        {
          "output_type": "stream",
          "name": "stdout",
          "text": [
            "Epoch [1/20] | Train Loss: 3.6026 | Val Loss: 2.9272\n",
            " Modelo mejorado guardado.\n",
            "Epoch [2/20] | Train Loss: 2.8770 | Val Loss: 2.9272\n",
            " Modelo mejorado guardado.\n",
            "Epoch [3/20] | Train Loss: 2.8770 | Val Loss: 2.9286\n",
            "Epoch [4/20] | Train Loss: 2.8781 | Val Loss: 2.9277\n",
            "Epoch [5/20] | Train Loss: 2.8773 | Val Loss: 2.9268\n",
            " Modelo mejorado guardado.\n",
            "Epoch [6/20] | Train Loss: 2.8777 | Val Loss: 2.9263\n",
            " Modelo mejorado guardado.\n",
            "Epoch [7/20] | Train Loss: 2.8762 | Val Loss: 2.9225\n",
            " Modelo mejorado guardado.\n",
            "Epoch [8/20] | Train Loss: 2.8695 | Val Loss: 2.9127\n",
            " Modelo mejorado guardado.\n",
            "Epoch [9/20] | Train Loss: 2.8626 | Val Loss: 2.9047\n",
            " Modelo mejorado guardado.\n",
            "Epoch [10/20] | Train Loss: 2.8497 | Val Loss: 2.8847\n",
            " Modelo mejorado guardado.\n",
            "Epoch [11/20] | Train Loss: 2.8235 | Val Loss: 2.8512\n",
            " Modelo mejorado guardado.\n",
            "Epoch [12/20] | Train Loss: 2.7628 | Val Loss: 2.7480\n",
            " Modelo mejorado guardado.\n",
            "Epoch [13/20] | Train Loss: 2.5875 | Val Loss: 2.5130\n",
            " Modelo mejorado guardado.\n",
            "Epoch [14/20] | Train Loss: 2.2585 | Val Loss: 2.2058\n",
            " Modelo mejorado guardado.\n",
            "Epoch [15/20] | Train Loss: 1.8593 | Val Loss: 1.8700\n",
            " Modelo mejorado guardado.\n",
            "Epoch [16/20] | Train Loss: 1.5317 | Val Loss: 1.6892\n",
            " Modelo mejorado guardado.\n",
            "Epoch [17/20] | Train Loss: 1.3075 | Val Loss: 1.5484\n",
            " Modelo mejorado guardado.\n",
            "Epoch [18/20] | Train Loss: 1.1453 | Val Loss: 1.4441\n",
            " Modelo mejorado guardado.\n",
            "Epoch [19/20] | Train Loss: 1.0164 | Val Loss: 1.4060\n",
            " Modelo mejorado guardado.\n",
            "Epoch [20/20] | Train Loss: 0.9148 | Val Loss: 1.3523\n",
            " Modelo mejorado guardado.\n",
            "Entrenamiento finalizado.\n"
          ]
        }
      ],
      "source": [
        "model = SpeechToTextRNN(input_dim=13, output_dim=len(char_to_index)).to(device)\n",
        "optimizer = torch.optim.Adam(model.parameters(), lr=0.001)\n",
        "ctc_loss = nn.CTCLoss(blank=0, zero_infinity=True)\n",
        "\n",
        "num_epochs = 20\n",
        "patience = 5\n",
        "best_val_loss = float('inf')\n",
        "patience_counter = 0\n",
        "\n",
        "rnn_adv_train_losses = []\n",
        "rnn_adv_val_losses = []\n",
        "\n",
        "for epoch in range(num_epochs):\n",
        "    train_loss = train_epoch(train_loader)\n",
        "    val_loss = validate(valid_loader)\n",
        "\n",
        "    rnn_adv_train_losses.append(train_loss)\n",
        "    rnn_adv_val_losses.append(val_loss)\n",
        "\n",
        "\n",
        "    print(f\"Epoch [{epoch+1}/{num_epochs}] | Train Loss: {train_loss:.4f} | Val Loss: {val_loss:.4f}\")\n",
        "\n",
        "    if val_loss < best_val_loss:\n",
        "        best_val_loss = val_loss\n",
        "        patience_counter = 0\n",
        "        torch.save(model.state_dict(), \"asr_best_model.pth\")\n",
        "        print(\" Modelo mejorado guardado.\")\n",
        "    else:\n",
        "        patience_counter += 1\n",
        "\n",
        "    if patience_counter >= patience:\n",
        "        print(\"Early stopping\")\n",
        "        break\n",
        "\n",
        "print(\"Entrenamiento finalizado.\")\n",
        "\n"
      ]
    },
    {
      "cell_type": "code",
      "execution_count": null,
      "metadata": {
        "id": "lbWIIVqjcYlE"
      },
      "outputs": [],
      "source": [
        "# model.load_state_dict(torch.load(\"/content/asr_best_model.pth\"))\n",
        "# model.eval()\n"
      ]
    },
    {
      "cell_type": "markdown",
      "metadata": {
        "id": "Ge2hRIwEY4pX"
      },
      "source": [
        "# Inferencia final con el modelo guardado\n",
        "Vamos a probarlo ahora con el mejor modelo (asr_best_model.pth) en una muestra de test_loader."
      ]
    },
    {
      "cell_type": "code",
      "execution_count": null,
      "metadata": {
        "colab": {
          "base_uri": "https://localhost:8080/"
        },
        "id": "6N-iL89QY2LJ",
        "outputId": "04ec1471-96fb-4fc7-e60b-fee50762121f"
      },
      "outputs": [
        {
          "output_type": "stream",
          "name": "stdout",
          "text": [
            "\n",
            "Transcripción real:\n",
            "THE FARMER SAT GLOOMILY ON THE BENCH AND WOULD NOT EAT AND YOU CANNOT WONDER FOR HE SAW US PUTTING POTFULS OF HIS GOOD BEEF AND BASKET LOADS OF BREAD INTO OUR BIG MOUTHS\n",
            "\n",
            "Predicción del modelo:\n",
            "THE AERSED OMYM EBEG YO WE NOTY ANYONOUT ONER OR EOE POTING PIFUL OHIS GOD BE A BATEUEBRDEN DAR BE MO\n"
          ]
        }
      ],
      "source": [
        "# Cargar modelo entrenado por no volver a ejecutar el codigo\n",
        "model.load_state_dict(torch.load(\"asr_best_model.pth\"))\n",
        "model.eval()\n",
        "\n",
        "test_dataset = SpeechDataset(test_data, char_to_index)\n",
        "test_loader = DataLoader(test_dataset, batch_size=1, shuffle=True, collate_fn=collate_fn)\n",
        "\n",
        "# Obtener un batch\n",
        "inputs, targets, input_lengths, target_lengths = next(iter(test_loader))\n",
        "inputs = inputs.to(device)\n",
        "\n",
        "with torch.no_grad():\n",
        "    outputs = model(inputs)\n",
        "    outputs = outputs.permute(1, 0, 2)  # (time, batch, classes)\n",
        "\n",
        "# Decoder greedy\n",
        "def greedy_decoder(output, index_to_char):\n",
        "    pred_indices = torch.argmax(output, dim=2)[:, 0].tolist()\n",
        "    pred_text = []\n",
        "    prev_idx = None\n",
        "    for idx in pred_indices:\n",
        "        if idx != prev_idx and idx != 0:\n",
        "            pred_text.append(index_to_char.get(idx, \"\"))\n",
        "        prev_idx = idx\n",
        "    return \"\".join(pred_text)\n",
        "\n",
        "# Texto predicho y real\n",
        "pred_text = greedy_decoder(outputs, index_to_char)\n",
        "true_text = \"\".join([index_to_char[i.item()] for i in targets if i.item() != 0])\n",
        "\n",
        "print(\"\\nTranscripción real:\")\n",
        "print(true_text)\n",
        "print(\"\\nPredicción del modelo:\")\n",
        "print(pred_text)\n"
      ]
    },
    {
      "cell_type": "code",
      "execution_count": null,
      "metadata": {
        "colab": {
          "base_uri": "https://localhost:8080/",
          "height": 453
        },
        "id": "40Js3HXjcpdj",
        "outputId": "9e57ec2e-a155-4b82-fff7-00bd8274d853"
      },
      "outputs": [
        {
          "output_type": "display_data",
          "data": {
            "text/plain": [
              "<Figure size 640x480 with 1 Axes>"
            ],
            "image/png": "[encoded data removed]"
          },
          "metadata": {}
        }
      ],
      "source": [
        "plt.bar([\"Real\", \"Predicción\"], [len(true_text), len(pred_text)], color=[\"green\", \"orange\"])\n",
        "plt.title(\"Comparación de longitud de transcripción\")\n",
        "plt.ylabel(\"Nº de caracteres\")\n",
        "plt.show()"
      ]
    },
    {
      "cell_type": "code",
      "source": [
        "pip install gradio"
      ],
      "metadata": {
        "colab": {
          "base_uri": "https://localhost:8080/"
        },
        "collapsed": true,
        "id": "xsRZx_IAagh8",
        "outputId": "d9a56607-21d2-4b56-caea-7308c2fde5d1"
      },
      "execution_count": null,
      "outputs": [
        {
          "output_type": "stream",
          "name": "stdout",
          "text": [
            "Collecting gradio\n",
            "  Downloading gradio-5.22.0-py3-none-any.whl.metadata (16 kB)\n",
            "Collecting aiofiles<24.0,>=22.0 (from gradio)\n",
            "  Downloading aiofiles-23.2.1-py3-none-any.whl.metadata (9.7 kB)\n",
            "Requirement already satisfied: anyio<5.0,>=3.0 in /usr/local/lib/python3.11/dist-packages (from gradio) (4.9.0)\n",
            "Collecting fastapi<1.0,>=0.115.2 (from gradio)\n",
            "  Downloading fastapi-0.115.11-py3-none-any.whl.metadata (27 kB)\n",
            "Collecting ffmpy (from gradio)\n",
            "  Downloading ffmpy-0.5.0-py3-none-any.whl.metadata (3.0 kB)\n",
            "Collecting gradio-client==1.8.0 (from gradio)\n",
            "  Downloading gradio_client-1.8.0-py3-none-any.whl.metadata (7.1 kB)\n",
            "Collecting groovy~=0.1 (from gradio)\n",
            "  Downloading groovy-0.1.2-py3-none-any.whl.metadata (6.1 kB)\n",
            "Requirement already satisfied: httpx>=0.24.1 in /usr/local/lib/python3.11/dist-packages (from gradio) (0.28.1)\n",
            "Requirement already satisfied: huggingface-hub>=0.28.1 in /usr/local/lib/python3.11/dist-packages (from gradio) (0.29.3)\n",
            "Requirement already satisfied: jinja2<4.0 in /usr/local/lib/python3.11/dist-packages (from gradio) (3.1.6)\n",
            "Requirement already satisfied: markupsafe<4.0,>=2.0 in /usr/local/lib/python3.11/dist-packages (from gradio) (3.0.2)\n",
            "Requirement already satisfied: numpy<3.0,>=1.0 in /usr/local/lib/python3.11/dist-packages (from gradio) (2.0.2)\n",
            "Requirement already satisfied: orjson~=3.0 in /usr/local/lib/python3.11/dist-packages (from gradio) (3.10.15)\n",
            "Requirement already satisfied: packaging in /usr/local/lib/python3.11/dist-packages (from gradio) (24.2)\n",
            "Requirement already satisfied: pandas<3.0,>=1.0 in /usr/local/lib/python3.11/dist-packages (from gradio) (2.2.2)\n",
            "Requirement already satisfied: pillow<12.0,>=8.0 in /usr/local/lib/python3.11/dist-packages (from gradio) (11.1.0)\n",
            "Requirement already satisfied: pydantic>=2.0 in /usr/local/lib/python3.11/dist-packages (from gradio) (2.10.6)\n",
            "Collecting pydub (from gradio)\n",
            "  Downloading pydub-0.25.1-py2.py3-none-any.whl.metadata (1.4 kB)\n",
            "Collecting python-multipart>=0.0.18 (from gradio)\n",
            "  Downloading python_multipart-0.0.20-py3-none-any.whl.metadata (1.8 kB)\n",
            "Requirement already satisfied: pyyaml<7.0,>=5.0 in /usr/local/lib/python3.11/dist-packages (from gradio) (6.0.2)\n",
            "Collecting ruff>=0.9.3 (from gradio)\n",
            "  Downloading ruff-0.11.2-py3-none-manylinux_2_17_x86_64.manylinux2014_x86_64.whl.metadata (25 kB)\n",
            "Collecting safehttpx<0.2.0,>=0.1.6 (from gradio)\n",
            "  Downloading safehttpx-0.1.6-py3-none-any.whl.metadata (4.2 kB)\n",
            "Collecting semantic-version~=2.0 (from gradio)\n",
            "  Downloading semantic_version-2.10.0-py2.py3-none-any.whl.metadata (9.7 kB)\n",
            "Collecting starlette<1.0,>=0.40.0 (from gradio)\n",
            "  Downloading starlette-0.46.1-py3-none-any.whl.metadata (6.2 kB)\n",
            "Collecting tomlkit<0.14.0,>=0.12.0 (from gradio)\n",
            "  Downloading tomlkit-0.13.2-py3-none-any.whl.metadata (2.7 kB)\n",
            "Requirement already satisfied: typer<1.0,>=0.12 in /usr/local/lib/python3.11/dist-packages (from gradio) (0.15.2)\n",
            "Requirement already satisfied: typing-extensions~=4.0 in /usr/local/lib/python3.11/dist-packages (from gradio) (4.12.2)\n",
            "Collecting uvicorn>=0.14.0 (from gradio)\n",
            "  Downloading uvicorn-0.34.0-py3-none-any.whl.metadata (6.5 kB)\n",
            "Requirement already satisfied: fsspec in /usr/local/lib/python3.11/dist-packages (from gradio-client==1.8.0->gradio) (2025.3.0)\n",
            "Requirement already satisfied: websockets<16.0,>=10.0 in /usr/local/lib/python3.11/dist-packages (from gradio-client==1.8.0->gradio) (14.2)\n",
            "Requirement already satisfied: idna>=2.8 in /usr/local/lib/python3.11/dist-packages (from anyio<5.0,>=3.0->gradio) (3.10)\n",
            "Requirement already satisfied: sniffio>=1.1 in /usr/local/lib/python3.11/dist-packages (from anyio<5.0,>=3.0->gradio) (1.3.1)\n",
            "Requirement already satisfied: certifi in /usr/local/lib/python3.11/dist-packages (from httpx>=0.24.1->gradio) (2025.1.31)\n",
            "Requirement already satisfied: httpcore==1.* in /usr/local/lib/python3.11/dist-packages (from httpx>=0.24.1->gradio) (1.0.7)\n",
            "Requirement already satisfied: h11<0.15,>=0.13 in /usr/local/lib/python3.11/dist-packages (from httpcore==1.*->httpx>=0.24.1->gradio) (0.14.0)\n",
            "Requirement already satisfied: filelock in /usr/local/lib/python3.11/dist-packages (from huggingface-hub>=0.28.1->gradio) (3.18.0)\n",
            "Requirement already satisfied: requests in /usr/local/lib/python3.11/dist-packages (from huggingface-hub>=0.28.1->gradio) (2.32.3)\n",
            "Requirement already satisfied: tqdm>=4.42.1 in /usr/local/lib/python3.11/dist-packages (from huggingface-hub>=0.28.1->gradio) (4.67.1)\n",
            "Requirement already satisfied: python-dateutil>=2.8.2 in /usr/local/lib/python3.11/dist-packages (from pandas<3.0,>=1.0->gradio) (2.8.2)\n",
            "Requirement already satisfied: pytz>=2020.1 in /usr/local/lib/python3.11/dist-packages (from pandas<3.0,>=1.0->gradio) (2025.1)\n",
            "Requirement already satisfied: tzdata>=2022.7 in /usr/local/lib/python3.11/dist-packages (from pandas<3.0,>=1.0->gradio) (2025.1)\n",
            "Requirement already satisfied: annotated-types>=0.6.0 in /usr/local/lib/python3.11/dist-packages (from pydantic>=2.0->gradio) (0.7.0)\n",
            "Requirement already satisfied: pydantic-core==2.27.2 in /usr/local/lib/python3.11/dist-packages (from pydantic>=2.0->gradio) (2.27.2)\n",
            "Requirement already satisfied: click>=8.0.0 in /usr/local/lib/python3.11/dist-packages (from typer<1.0,>=0.12->gradio) (8.1.8)\n",
            "Requirement already satisfied: shellingham>=1.3.0 in /usr/local/lib/python3.11/dist-packages (from typer<1.0,>=0.12->gradio) (1.5.4)\n",
            "Requirement already satisfied: rich>=10.11.0 in /usr/local/lib/python3.11/dist-packages (from typer<1.0,>=0.12->gradio) (13.9.4)\n",
            "Requirement already satisfied: six>=1.5 in /usr/local/lib/python3.11/dist-packages (from python-dateutil>=2.8.2->pandas<3.0,>=1.0->gradio) (1.17.0)\n",
            "Requirement already satisfied: markdown-it-py>=2.2.0 in /usr/local/lib/python3.11/dist-packages (from rich>=10.11.0->typer<1.0,>=0.12->gradio) (3.0.0)\n",
            "Requirement already satisfied: pygments<3.0.0,>=2.13.0 in /usr/local/lib/python3.11/dist-packages (from rich>=10.11.0->typer<1.0,>=0.12->gradio) (2.18.0)\n",
            "Requirement already satisfied: charset-normalizer<4,>=2 in /usr/local/lib/python3.11/dist-packages (from requests->huggingface-hub>=0.28.1->gradio) (3.4.1)\n",
            "Requirement already satisfied: urllib3<3,>=1.21.1 in /usr/local/lib/python3.11/dist-packages (from requests->huggingface-hub>=0.28.1->gradio) (2.3.0)\n",
            "Requirement already satisfied: mdurl~=0.1 in /usr/local/lib/python3.11/dist-packages (from markdown-it-py>=2.2.0->rich>=10.11.0->typer<1.0,>=0.12->gradio) (0.1.2)\n",
            "Downloading gradio-5.22.0-py3-none-any.whl (46.2 MB)\n",
            "\u001b[2K   \u001b[90m━━━━━━━━━━━━━━━━━━━━━━━━━━━━━━━━━━━━━━━━\u001b[0m \u001b[32m46.2/46.2 MB\u001b[0m \u001b[31m50.4 MB/s\u001b[0m eta \u001b[36m0:00:00\u001b[0m\n",
            "\u001b[?25hDownloading gradio_client-1.8.0-py3-none-any.whl (322 kB)\n",
            "\u001b[2K   \u001b[90m━━━━━━━━━━━━━━━━━━━━━━━━━━━━━━━━━━━━━━━━\u001b[0m \u001b[32m322.2/322.2 kB\u001b[0m \u001b[31m28.9 MB/s\u001b[0m eta \u001b[36m0:00:00\u001b[0m\n",
            "\u001b[?25hDownloading aiofiles-23.2.1-py3-none-any.whl (15 kB)\n",
            "Downloading fastapi-0.115.11-py3-none-any.whl (94 kB)\n",
            "\u001b[2K   \u001b[90m━━━━━━━━━━━━━━━━━━━━━━━━━━━━━━━━━━━━━━━━\u001b[0m \u001b[32m94.9/94.9 kB\u001b[0m \u001b[31m10.3 MB/s\u001b[0m eta \u001b[36m0:00:00\u001b[0m\n",
            "\u001b[?25hDownloading groovy-0.1.2-py3-none-any.whl (14 kB)\n",
            "Downloading python_multipart-0.0.20-py3-none-any.whl (24 kB)\n",
            "Downloading ruff-0.11.2-py3-none-manylinux_2_17_x86_64.manylinux2014_x86_64.whl (11.3 MB)\n",
            "\u001b[2K   \u001b[90m━━━━━━━━━━━━━━━━━━━━━━━━━━━━━━━━━━━━━━━━\u001b[0m \u001b[32m11.3/11.3 MB\u001b[0m \u001b[31m120.7 MB/s\u001b[0m eta \u001b[36m0:00:00\u001b[0m\n",
            "\u001b[?25hDownloading safehttpx-0.1.6-py3-none-any.whl (8.7 kB)\n",
            "Downloading semantic_version-2.10.0-py2.py3-none-any.whl (15 kB)\n",
            "Downloading starlette-0.46.1-py3-none-any.whl (71 kB)\n",
            "\u001b[2K   \u001b[90m━━━━━━━━━━━━━━━━━━━━━━━━━━━━━━━━━━━━━━━━\u001b[0m \u001b[32m72.0/72.0 kB\u001b[0m \u001b[31m7.7 MB/s\u001b[0m eta \u001b[36m0:00:00\u001b[0m\n",
            "\u001b[?25hDownloading tomlkit-0.13.2-py3-none-any.whl (37 kB)\n",
            "Downloading uvicorn-0.34.0-py3-none-any.whl (62 kB)\n",
            "\u001b[2K   \u001b[90m━━━━━━━━━━━━━━━━━━━━━━━━━━━━━━━━━━━━━━━━\u001b[0m \u001b[32m62.3/62.3 kB\u001b[0m \u001b[31m6.4 MB/s\u001b[0m eta \u001b[36m0:00:00\u001b[0m\n",
            "\u001b[?25hDownloading ffmpy-0.5.0-py3-none-any.whl (6.0 kB)\n",
            "Downloading pydub-0.25.1-py2.py3-none-any.whl (32 kB)\n",
            "Installing collected packages: pydub, uvicorn, tomlkit, semantic-version, ruff, python-multipart, groovy, ffmpy, aiofiles, starlette, safehttpx, gradio-client, fastapi, gradio\n",
            "Successfully installed aiofiles-23.2.1 fastapi-0.115.11 ffmpy-0.5.0 gradio-5.22.0 gradio-client-1.8.0 groovy-0.1.2 pydub-0.25.1 python-multipart-0.0.20 ruff-0.11.2 safehttpx-0.1.6 semantic-version-2.10.0 starlette-0.46.1 tomlkit-0.13.2 uvicorn-0.34.0\n"
          ]
        }
      ]
    },
    {
      "cell_type": "code",
      "source": [
        "rnn_simple = SpeechToTextRNN(input_dim=13, hidden_dim=128, output_dim=len(char_to_index), num_layers=2)\n",
        "rnn_simple.load_state_dict(torch.load(\"/content/asr_batch_model.pth\"))\n",
        "rnn_simple.eval()\n",
        "\n",
        "rnn_best = SpeechToTextRNN(input_dim=13, hidden_dim=256, output_dim=len(char_to_index), num_layers=4)\n",
        "rnn_best.load_state_dict(torch.load(\"/content/asr_best_model.pth\"))\n",
        "rnn_best.eval()"
      ],
      "metadata": {
        "colab": {
          "base_uri": "https://localhost:8080/"
        },
        "id": "diuHyS8Ma7az",
        "outputId": "a253fc22-844f-46a0-d723-e587b88062cf"
      },
      "execution_count": null,
      "outputs": [
        {
          "output_type": "execute_result",
          "data": {
            "text/plain": [
              "SpeechToTextRNN(\n",
              "  (lstm): LSTM(13, 256, num_layers=4, batch_first=True, bidirectional=True)\n",
              "  (fc): Linear(in_features=512, out_features=29, bias=True)\n",
              ")"
            ]
          },
          "metadata": {},
          "execution_count": 27
        }
      ]
    },
    {
      "cell_type": "code",
      "source": [
        "device = torch.device(\"cuda\" if torch.cuda.is_available() else \"cpu\")\n"
      ],
      "metadata": {
        "id": "gwb-Y2d6bRBd"
      },
      "execution_count": null,
      "outputs": []
    },
    {
      "cell_type": "code",
      "execution_count": null,
      "metadata": {
        "colab": {
          "base_uri": "https://localhost:8080/",
          "height": 750
        },
        "id": "do8y_6NGJrAz",
        "outputId": "d953ccc3-539d-4287-dbba-1ca22430d2a3"
      },
      "outputs": [
        {
          "output_type": "stream",
          "name": "stdout",
          "text": [
            "Colab notebook detected. This cell will run indefinitely so that you can see errors and logs. To turn off, set debug=False in launch().\n",
            "* Running on public URL: https://51dce3600db62b9c05.gradio.live\n",
            "\n",
            "This share link expires in 72 hours. For free permanent hosting and GPU upgrades, run `gradio deploy` from the terminal in the working directory to deploy to Hugging Face Spaces (https://huggingface.co/spaces)\n"
          ]
        },
        {
          "output_type": "display_data",
          "data": {
            "text/plain": [
              "<IPython.core.display.HTML object>"
            ],
            "text/html": [
              "<div><iframe src=\"https://51dce3600db62b9c05.gradio.live\" width=\"100%\" height=\"500\" allow=\"autoplay; camera; microphone; clipboard-read; clipboard-write;\" frameborder=\"0\" allowfullscreen></iframe></div>"
            ]
          },
          "metadata": {}
        },
        {
          "output_type": "stream",
          "name": "stdout",
          "text": [
            "MFCC shape: torch.Size([1, 313, 13])\n",
            "Output shape: torch.Size([313, 1, 29])\n",
            "Texto predicho: \n",
            "MFCC shape: torch.Size([1, 313, 13])\n",
            "Output shape: torch.Size([313, 1, 29])\n",
            "Texto predicho: \n",
            "Keyboard interruption in main thread... closing server.\n",
            "Killing tunnel 127.0.0.1:7860 <> https://51dce3600db62b9c05.gradio.live\n"
          ]
        },
        {
          "output_type": "execute_result",
          "data": {
            "text/plain": []
          },
          "metadata": {},
          "execution_count": 31
        }
      ],
      "source": [
        "import gradio as gr\n",
        "import torchaudio\n",
        "import torch\n",
        "import torchaudio.transforms as T\n",
        "\n",
        "\n",
        "def greedy_decoder(output, index_to_char):\n",
        "    pred_indices = torch.argmax(output, dim=2)[0].tolist()\n",
        "    pred_text = []\n",
        "    prev_idx = None\n",
        "    for idx in pred_indices:\n",
        "        if idx != prev_idx and idx != 0:  # 0 = <BLANK>\n",
        "            pred_text.append(index_to_char.get(idx, \"\"))\n",
        "        prev_idx = idx\n",
        "    return \"\".join(pred_text)\n",
        "\n",
        "import torchaudio.transforms as T\n",
        "\n",
        "mfcc_transform = T.MFCC(\n",
        "    sample_rate=16000,\n",
        "    n_mfcc=13,\n",
        "    melkwargs={\"n_fft\": 400, \"hop_length\": 160, \"n_mels\": 23}\n",
        ")\n",
        "\n",
        "\n",
        "def transcribe_rnn_demo(audio_path, model_name):\n",
        "    waveform, sample_rate = torchaudio.load(audio_path)\n",
        "\n",
        "    # 1. Convertir a mono si es estéreo\n",
        "    if waveform.shape[0] > 1:\n",
        "        waveform = torch.mean(waveform, dim=0, keepdim=True)\n",
        "\n",
        "    # 2. Resamplear si no es 16kHz\n",
        "    if sample_rate != 16000:\n",
        "        resampler = torchaudio.transforms.Resample(orig_freq=sample_rate, new_freq=16000)\n",
        "        waveform = resampler(waveform)\n",
        "        sample_rate = 16000\n",
        "\n",
        "    # 3. Extraer MFCCs\n",
        "    mfcc = mfcc_transform(waveform).squeeze(0).transpose(0, 1).unsqueeze(0).to(device)\n",
        "    print(\"MFCC shape:\", mfcc.shape)\n",
        "\n",
        "\n",
        "    # 4. Elegir modelo\n",
        "    if model_name == \"RNN Simple\":\n",
        "        model = rnn_simple.to(device)\n",
        "    elif model_name == \"RNN Mejorado\":\n",
        "        model = rnn_best.to(device)\n",
        "    else:\n",
        "        return \"Modelo no válido\"\n",
        "\n",
        "\n",
        "    model.eval()\n",
        "    with torch.no_grad():\n",
        "        output = model(mfcc).permute(1, 0, 2)  # (time, batch, classes)\n",
        "        print(\"Output shape:\", output.shape)\n",
        "        pred_text = greedy_decoder(output, index_to_char)\n",
        "        print(\"Texto predicho:\", pred_text)\n",
        "\n",
        "\n",
        "\n",
        "    transcription = greedy_decoder(output, index_to_char)\n",
        "    return transcription\n",
        "\n",
        "\n",
        "# Interfaz Gradio\n",
        "demo = gr.Interface(\n",
        "    fn=transcribe_rnn_demo,\n",
        "    inputs=[\n",
        "        gr.Audio(type=\"filepath\", label=\"Sube tu archivo de audio (.wav)\"),\n",
        "        gr.Dropdown(choices=[\"RNN Simple\", \"RNN Mejorado\"], label=\"--> Elige el modelo\")\n",
        "    ],\n",
        "    outputs=gr.Textbox(label=\"Transcripción\"),\n",
        "    title=\"Demo de reconocimiento de voz con RNN\",\n",
        "    description=\"Sube un archivo de audio (WAV, 16kHz) y elige el modelo RNN para generar la transcripción automática.\"\n",
        ")\n",
        "\n",
        "demo.launch(debug=True, share=True)\n"
      ]
    },
    {
      "cell_type": "code",
      "execution_count": null,
      "metadata": {
        "id": "07Ib6-QAMdk9"
      },
      "outputs": [],
      "source": [
        "import torchaudio\n",
        "\n",
        "def transcribe_with_rnn(model, audio_path, mfcc_transform, device=\"cuda\" if torch.cuda.is_available() else \"cpu\"):\n",
        "    waveform, sample_rate = torchaudio.load(audio_path)\n",
        "\n",
        "    if sample_rate != 16000:\n",
        "        resampler = torchaudio.transforms.Resample(orig_freq=sample_rate, new_freq=16000)\n",
        "        waveform = resampler(waveform)\n",
        "    if waveform.shape[0] > 1:\n",
        "        waveform = waveform.mean(dim=0, keepdim=True)\n",
        "\n",
        "    # MFCCs\n",
        "    mfcc = mfcc_transform(waveform).squeeze(0).transpose(0, 1).unsqueeze(0).to(device)\n",
        "    print(\"MFCC shape:\", mfcc.shape)\n",
        "\n",
        "    # Inferencia\n",
        "    model.eval()\n",
        "    with torch.no_grad():\n",
        "        output = model(mfcc).permute(1, 0, 2)  # (time, batch, vocab)\n",
        "        print(\"Output shape:\", output.shape)\n",
        "\n",
        "    # Decodificación greedy\n",
        "    pred_indices = torch.argmax(output, dim=2)[:, 0].tolist()\n",
        "    print(\"Predicted indices:\", pred_indices)\n",
        "\n",
        "    pred_text = []\n",
        "    prev_idx = None\n",
        "    for idx in pred_indices:\n",
        "        if idx != prev_idx and idx != 0:\n",
        "            pred_text.append(index_to_char.get(idx, \"\"))\n",
        "        prev_idx = idx\n",
        "\n",
        "    return \"\".join(pred_text)\n"
      ]
    },
    {
      "cell_type": "markdown",
      "metadata": {
        "id": "3xx8DOHvaIvR"
      },
      "source": [
        "# Fine-tuneado de Wav2Vec2 sobre nuestro dataset"
      ]
    },
    {
      "cell_type": "markdown",
      "metadata": {
        "id": "dGwZgVXcaM6X"
      },
      "source": [
        " Convertir  dataset a datasets.Dataset\n"
      ]
    },
    {
      "cell_type": "code",
      "execution_count": null,
      "metadata": {
        "colab": {
          "base_uri": "https://localhost:8080/"
        },
        "id": "MKdwjr_YalMB",
        "outputId": "574acd96-df5a-4979-e3b2-efa149c896fe"
      },
      "outputs": [
        {
          "output_type": "stream",
          "name": "stdout",
          "text": [
            "CSV guardado: /content/train.csv (4178 filas)\n",
            "CSV guardado: /content/validation.csv (2703 filas)\n",
            "CSV guardado: /content/test.csv (2620 filas)\n"
          ]
        }
      ],
      "source": [
        "import os\n",
        "import csv\n",
        "\n",
        "def generate_csv_from_librispeech(set_name, input_path, output_path):\n",
        "    rows = []\n",
        "    for speaker in os.listdir(input_path):\n",
        "        speaker_path = os.path.join(input_path, speaker)\n",
        "        if not os.path.isdir(speaker_path):\n",
        "            continue\n",
        "        for chapter in os.listdir(speaker_path):\n",
        "            chapter_path = os.path.join(speaker_path, chapter)\n",
        "            if not os.path.isdir(chapter_path):\n",
        "                continue\n",
        "            trans_file = os.path.join(chapter_path, f\"{speaker}-{chapter}.trans.txt\")\n",
        "            if not os.path.exists(trans_file):\n",
        "                continue\n",
        "            with open(trans_file, \"r\") as f:\n",
        "                transcriptions = {\n",
        "                    line.split(\" \")[0]: \" \".join(line.strip().split(\" \")[1:])\n",
        "                    for line in f.readlines()\n",
        "                }\n",
        "            for file in os.listdir(chapter_path):\n",
        "                if file.endswith(\".flac\"):\n",
        "                    utt_id = file.replace(\".flac\", \"\")\n",
        "                    audio_path = os.path.join(chapter_path, file)\n",
        "                    if utt_id in transcriptions:\n",
        "                        rows.append({\n",
        "                            \"path\": audio_path,\n",
        "                            \"text\": transcriptions[utt_id]\n",
        "                        })\n",
        "\n",
        "    # Guardar CSV\n",
        "    csv_file = os.path.join(output_path, f\"{set_name}.csv\")\n",
        "    with open(csv_file, mode='w', newline='') as f:\n",
        "        writer = csv.DictWriter(f, fieldnames=[\"path\", \"text\"])\n",
        "        writer.writeheader()\n",
        "        writer.writerows(rows)\n",
        "\n",
        "    print(f\"CSV guardado: {csv_file} ({len(rows)} filas)\")\n",
        "\n",
        "# Ejecutamos para cada set\n",
        "generate_csv_from_librispeech(\"train\", \"/content/LibriSpeech/LibriSpeech/train-clean-100\", \"/content\")\n",
        "generate_csv_from_librispeech(\"validation\", \"/content/LibriSpeech//LibriSpeech/dev-clean\", \"/content\")\n",
        "generate_csv_from_librispeech(\"test\", \"/content/LibriSpeech/LibriSpeech/test-clean\", \"/content\")\n"
      ]
    },
    {
      "cell_type": "code",
      "execution_count": null,
      "metadata": {
        "colab": {
          "base_uri": "https://localhost:8080/"
        },
        "collapsed": true,
        "id": "Ydwzkjasc9XF",
        "outputId": "84c49403-1a82-4d15-8f1e-401b05c5fc8d"
      },
      "outputs": [
        {
          "output_type": "stream",
          "name": "stdout",
          "text": [
            "Collecting datasets\n",
            "  Downloading datasets-3.4.1-py3-none-any.whl.metadata (19 kB)\n",
            "Requirement already satisfied: filelock in /usr/local/lib/python3.11/dist-packages (from datasets) (3.18.0)\n",
            "Requirement already satisfied: numpy>=1.17 in /usr/local/lib/python3.11/dist-packages (from datasets) (2.0.2)\n",
            "Requirement already satisfied: pyarrow>=15.0.0 in /usr/local/lib/python3.11/dist-packages (from datasets) (18.1.0)\n",
            "Collecting dill<0.3.9,>=0.3.0 (from datasets)\n",
            "  Downloading dill-0.3.8-py3-none-any.whl.metadata (10 kB)\n",
            "Requirement already satisfied: pandas in /usr/local/lib/python3.11/dist-packages (from datasets) (2.2.2)\n",
            "Requirement already satisfied: requests>=2.32.2 in /usr/local/lib/python3.11/dist-packages (from datasets) (2.32.3)\n",
            "Requirement already satisfied: tqdm>=4.66.3 in /usr/local/lib/python3.11/dist-packages (from datasets) (4.67.1)\n",
            "Collecting xxhash (from datasets)\n",
            "  Downloading xxhash-3.5.0-cp311-cp311-manylinux_2_17_x86_64.manylinux2014_x86_64.whl.metadata (12 kB)\n",
            "Collecting multiprocess<0.70.17 (from datasets)\n",
            "  Downloading multiprocess-0.70.16-py311-none-any.whl.metadata (7.2 kB)\n",
            "Collecting fsspec<=2024.12.0,>=2023.1.0 (from fsspec[http]<=2024.12.0,>=2023.1.0->datasets)\n",
            "  Downloading fsspec-2024.12.0-py3-none-any.whl.metadata (11 kB)\n",
            "Requirement already satisfied: aiohttp in /usr/local/lib/python3.11/dist-packages (from datasets) (3.11.14)\n",
            "Requirement already satisfied: huggingface-hub>=0.24.0 in /usr/local/lib/python3.11/dist-packages (from datasets) (0.29.3)\n",
            "Requirement already satisfied: packaging in /usr/local/lib/python3.11/dist-packages (from datasets) (24.2)\n",
            "Requirement already satisfied: pyyaml>=5.1 in /usr/local/lib/python3.11/dist-packages (from datasets) (6.0.2)\n",
            "Requirement already satisfied: aiohappyeyeballs>=2.3.0 in /usr/local/lib/python3.11/dist-packages (from aiohttp->datasets) (2.6.1)\n",
            "Requirement already satisfied: aiosignal>=1.1.2 in /usr/local/lib/python3.11/dist-packages (from aiohttp->datasets) (1.3.2)\n",
            "Requirement already satisfied: attrs>=17.3.0 in /usr/local/lib/python3.11/dist-packages (from aiohttp->datasets) (25.3.0)\n",
            "Requirement already satisfied: frozenlist>=1.1.1 in /usr/local/lib/python3.11/dist-packages (from aiohttp->datasets) (1.5.0)\n",
            "Requirement already satisfied: multidict<7.0,>=4.5 in /usr/local/lib/python3.11/dist-packages (from aiohttp->datasets) (6.2.0)\n",
            "Requirement already satisfied: propcache>=0.2.0 in /usr/local/lib/python3.11/dist-packages (from aiohttp->datasets) (0.3.0)\n",
            "Requirement already satisfied: yarl<2.0,>=1.17.0 in /usr/local/lib/python3.11/dist-packages (from aiohttp->datasets) (1.18.3)\n",
            "Requirement already satisfied: typing-extensions>=3.7.4.3 in /usr/local/lib/python3.11/dist-packages (from huggingface-hub>=0.24.0->datasets) (4.12.2)\n",
            "Requirement already satisfied: charset-normalizer<4,>=2 in /usr/local/lib/python3.11/dist-packages (from requests>=2.32.2->datasets) (3.4.1)\n",
            "Requirement already satisfied: idna<4,>=2.5 in /usr/local/lib/python3.11/dist-packages (from requests>=2.32.2->datasets) (3.10)\n",
            "Requirement already satisfied: urllib3<3,>=1.21.1 in /usr/local/lib/python3.11/dist-packages (from requests>=2.32.2->datasets) (2.3.0)\n",
            "Requirement already satisfied: certifi>=2017.4.17 in /usr/local/lib/python3.11/dist-packages (from requests>=2.32.2->datasets) (2025.1.31)\n",
            "Requirement already satisfied: python-dateutil>=2.8.2 in /usr/local/lib/python3.11/dist-packages (from pandas->datasets) (2.8.2)\n",
            "Requirement already satisfied: pytz>=2020.1 in /usr/local/lib/python3.11/dist-packages (from pandas->datasets) (2025.1)\n",
            "Requirement already satisfied: tzdata>=2022.7 in /usr/local/lib/python3.11/dist-packages (from pandas->datasets) (2025.1)\n",
            "Requirement already satisfied: six>=1.5 in /usr/local/lib/python3.11/dist-packages (from python-dateutil>=2.8.2->pandas->datasets) (1.17.0)\n",
            "Downloading datasets-3.4.1-py3-none-any.whl (487 kB)\n",
            "\u001b[2K   \u001b[90m━━━━━━━━━━━━━━━━━━━━━━━━━━━━━━━━━━━━━━━━\u001b[0m \u001b[32m487.4/487.4 kB\u001b[0m \u001b[31m10.4 MB/s\u001b[0m eta \u001b[36m0:00:00\u001b[0m\n",
            "\u001b[?25hDownloading dill-0.3.8-py3-none-any.whl (116 kB)\n",
            "\u001b[2K   \u001b[90m━━━━━━━━━━━━━━━━━━━━━━━━━━━━━━━━━━━━━━━━\u001b[0m \u001b[32m116.3/116.3 kB\u001b[0m \u001b[31m11.4 MB/s\u001b[0m eta \u001b[36m0:00:00\u001b[0m\n",
            "\u001b[?25hDownloading fsspec-2024.12.0-py3-none-any.whl (183 kB)\n",
            "\u001b[2K   \u001b[90m━━━━━━━━━━━━━━━━━━━━━━━━━━━━━━━━━━━━━━━━\u001b[0m \u001b[32m183.9/183.9 kB\u001b[0m \u001b[31m18.8 MB/s\u001b[0m eta \u001b[36m0:00:00\u001b[0m\n",
            "\u001b[?25hDownloading multiprocess-0.70.16-py311-none-any.whl (143 kB)\n",
            "\u001b[2K   \u001b[90m━━━━━━━━━━━━━━━━━━━━━━━━━━━━━━━━━━━━━━━━\u001b[0m \u001b[32m143.5/143.5 kB\u001b[0m \u001b[31m13.8 MB/s\u001b[0m eta \u001b[36m0:00:00\u001b[0m\n",
            "\u001b[?25hDownloading xxhash-3.5.0-cp311-cp311-manylinux_2_17_x86_64.manylinux2014_x86_64.whl (194 kB)\n",
            "\u001b[2K   \u001b[90m━━━━━━━━━━━━━━━━━━━━━━━━━━━━━━━━━━━━━━━━\u001b[0m \u001b[32m194.8/194.8 kB\u001b[0m \u001b[31m19.5 MB/s\u001b[0m eta \u001b[36m0:00:00\u001b[0m\n",
            "\u001b[?25hInstalling collected packages: xxhash, fsspec, dill, multiprocess, datasets\n",
            "  Attempting uninstall: fsspec\n",
            "    Found existing installation: fsspec 2025.3.0\n",
            "    Uninstalling fsspec-2025.3.0:\n",
            "      Successfully uninstalled fsspec-2025.3.0\n",
            "\u001b[31mERROR: pip's dependency resolver does not currently take into account all the packages that are installed. This behaviour is the source of the following dependency conflicts.\n",
            "gcsfs 2025.3.0 requires fsspec==2025.3.0, but you have fsspec 2024.12.0 which is incompatible.\n",
            "torch 2.6.0+cu124 requires nvidia-cublas-cu12==12.4.5.8; platform_system == \"Linux\" and platform_machine == \"x86_64\", but you have nvidia-cublas-cu12 12.5.3.2 which is incompatible.\n",
            "torch 2.6.0+cu124 requires nvidia-cuda-cupti-cu12==12.4.127; platform_system == \"Linux\" and platform_machine == \"x86_64\", but you have nvidia-cuda-cupti-cu12 12.5.82 which is incompatible.\n",
            "torch 2.6.0+cu124 requires nvidia-cuda-nvrtc-cu12==12.4.127; platform_system == \"Linux\" and platform_machine == \"x86_64\", but you have nvidia-cuda-nvrtc-cu12 12.5.82 which is incompatible.\n",
            "torch 2.6.0+cu124 requires nvidia-cuda-runtime-cu12==12.4.127; platform_system == \"Linux\" and platform_machine == \"x86_64\", but you have nvidia-cuda-runtime-cu12 12.5.82 which is incompatible.\n",
            "torch 2.6.0+cu124 requires nvidia-cudnn-cu12==9.1.0.70; platform_system == \"Linux\" and platform_machine == \"x86_64\", but you have nvidia-cudnn-cu12 9.3.0.75 which is incompatible.\n",
            "torch 2.6.0+cu124 requires nvidia-cufft-cu12==11.2.1.3; platform_system == \"Linux\" and platform_machine == \"x86_64\", but you have nvidia-cufft-cu12 11.2.3.61 which is incompatible.\n",
            "torch 2.6.0+cu124 requires nvidia-curand-cu12==10.3.5.147; platform_system == \"Linux\" and platform_machine == \"x86_64\", but you have nvidia-curand-cu12 10.3.6.82 which is incompatible.\n",
            "torch 2.6.0+cu124 requires nvidia-cusolver-cu12==11.6.1.9; platform_system == \"Linux\" and platform_machine == \"x86_64\", but you have nvidia-cusolver-cu12 11.6.3.83 which is incompatible.\n",
            "torch 2.6.0+cu124 requires nvidia-cusparse-cu12==12.3.1.170; platform_system == \"Linux\" and platform_machine == \"x86_64\", but you have nvidia-cusparse-cu12 12.5.1.3 which is incompatible.\n",
            "torch 2.6.0+cu124 requires nvidia-nvjitlink-cu12==12.4.127; platform_system == \"Linux\" and platform_machine == \"x86_64\", but you have nvidia-nvjitlink-cu12 12.5.82 which is incompatible.\u001b[0m\u001b[31m\n",
            "\u001b[0mSuccessfully installed datasets-3.4.1 dill-0.3.8 fsspec-2024.12.0 multiprocess-0.70.16 xxhash-3.5.0\n"
          ]
        }
      ],
      "source": [
        "!pip install datasets"
      ]
    },
    {
      "cell_type": "code",
      "execution_count": null,
      "metadata": {
        "colab": {
          "base_uri": "https://localhost:8080/",
          "height": 356,
          "referenced_widgets": [
            "a1fcea1173d94146b06d2edb5361622f",
            "cb4563a45ffe41f6888b7af0c91d7e33",
            "b160222ae40a42358e55f3d0ad728ffa",
            "3e51c276ccf444f58319a1d044b66dcb",
            "4a90d2515e9b46ebb8e0ef1d65530d84",
            "9c733a911f00492cac63eb83184fed88",
            "cdeb9b3b1fda40629d7594eef67c76c4",
            "c3fbedfbf74b42c7a48f271fc06ba744",
            "4de4c258219f45d988ee5c42ce0ec71e",
            "ef4e00dc7a5642c4b41678302e906b0f",
            "febb8ff6de1746cc9da30ea173578732",
            "8b4c6b579be54c9d953cb290411942d0",
            "8987d75f337e424f91492c11a35e9a10",
            "f9e0746a328e4d04aba2cee3e411ca7f",
            "31bf68b4f95949d98bfc7ac348cb6212",
            "4bc45458a1dd4c61bfcb3603e99d8c6d",
            "3d7a85b447464907be22feedcb8a327b",
            "d43e7d8aaa45493487e90d4b693eda42",
            "54d9f0604ed34a82b87f1ccdca352b31",
            "8888d373e74c49b1bbbe5b8327cc0993",
            "d36eb89807c745acb14ba6e353c89c27",
            "24594dfd956e4bd4904caa9e3db77e95",
            "b23f53c1c1624f21ba15ece1482c34a9",
            "9221b53d0e9e4cc0b721fed7328bfdc6",
            "5adbd8ba68c4455ca4dda68bc33df438",
            "130c8ec077424cfa8bc75385c81dc802",
            "03228cfeeed146129b5066c9848d90cc",
            "26cf0f3532934fe9ba3b23b1bfdd953e",
            "3540f64b949f4ca280711e384ae51952",
            "d2feea5a27744f6188322c02cb383b90",
            "9b09647f90094b05aabc2920509c1550",
            "2a95cdc2bb954703963284f4eb263c4b",
            "da7e65e03c7b4e1c9b2886f55d00c5aa"
          ]
        },
        "id": "vb1CgLqHgM2N",
        "outputId": "36bb7ab8-1ee7-407f-b34c-b01a3f4a169a"
      },
      "outputs": [
        {
          "output_type": "display_data",
          "data": {
            "text/plain": [
              "Generating train split: 0 examples [00:00, ? examples/s]"
            ],
            "application/vnd.jupyter.widget-view+json": {
              "version_major": 2,
              "version_minor": 0,
              "model_id": "a1fcea1173d94146b06d2edb5361622f"
            }
          },
          "metadata": {}
        },
        {
          "output_type": "display_data",
          "data": {
            "text/plain": [
              "Generating train split: 0 examples [00:00, ? examples/s]"
            ],
            "application/vnd.jupyter.widget-view+json": {
              "version_major": 2,
              "version_minor": 0,
              "model_id": "8b4c6b579be54c9d953cb290411942d0"
            }
          },
          "metadata": {}
        },
        {
          "output_type": "display_data",
          "data": {
            "text/plain": [
              "Generating train split: 0 examples [00:00, ? examples/s]"
            ],
            "application/vnd.jupyter.widget-view+json": {
              "version_major": 2,
              "version_minor": 0,
              "model_id": "b23f53c1c1624f21ba15ece1482c34a9"
            }
          },
          "metadata": {}
        },
        {
          "output_type": "execute_result",
          "data": {
            "text/plain": [
              "DatasetDict({\n",
              "    train: Dataset({\n",
              "        features: ['path', 'text'],\n",
              "        num_rows: 4178\n",
              "    })\n",
              "    validation: Dataset({\n",
              "        features: ['path', 'text'],\n",
              "        num_rows: 2703\n",
              "    })\n",
              "    test: Dataset({\n",
              "        features: ['path', 'text'],\n",
              "        num_rows: 2620\n",
              "    })\n",
              "})"
            ]
          },
          "metadata": {},
          "execution_count": 37
        }
      ],
      "source": [
        "from datasets import load_dataset, Audio, DatasetDict\n",
        "\n",
        "# Cargar desde CSV\n",
        "dataset = DatasetDict({\n",
        "    \"train\": load_dataset(\"csv\", data_files=\"/content/train.csv\", split=\"train\"),\n",
        "    \"validation\": load_dataset(\"csv\", data_files=\"/content/validation.csv\", split=\"train\"),\n",
        "    \"test\": load_dataset(\"csv\", data_files=\"/content/test.csv\", split=\"train\")\n",
        "})\n",
        "\n",
        "# Convertir columna 'path' a audio real\n",
        "dataset = dataset.cast_column(\"path\", Audio(sampling_rate=16000))\n",
        "\n",
        "# Verificamos\n",
        "dataset\n"
      ]
    },
    {
      "cell_type": "markdown",
      "metadata": {
        "id": "Z7fYmaIJaWEj"
      },
      "source": [
        "Preprocesamiento con Wav2Vec2Processor\n",
        "\n",
        "\n",
        "path → input_values\n",
        "\n"
      ]
    },
    {
      "cell_type": "code",
      "execution_count": null,
      "metadata": {
        "colab": {
          "base_uri": "https://localhost:8080/",
          "height": 397,
          "referenced_widgets": [
            "221899e386a24c98b6b387e83e7e4576",
            "0ed383ee70af4e508f9ca09abe5ef6fe",
            "38c8544902194e038986e33301c7ccc8",
            "e409cee0cec44ee9a78f0560a0d59966",
            "beeb6687be774202b26cea17eb3552d0",
            "d068e8db1c274494b2525d44a355e942",
            "0d6c5fe77e1c4d5c9fc8e146c2d9399f",
            "9dde0f2104dc4ddaab5bce7ae9786310",
            "4f7b1b875bae4d45aeeeb2c532ea5743",
            "3d170d049b3b44d291e3d9210141c24c",
            "bc2f7888846c4090bb2eca9617a8684d",
            "28d8b137c2e34d4d9cdfe9563fbf69b7",
            "e8b762255d644325a4c5561f6726e7a0",
            "b3017f19f72941618e06d5d784c5b9e1",
            "63a06866be6d4756baff0c62a87a033e",
            "2326edf5bce14134a8acfbb379d50bda",
            "9cb0066875004efdb7c1f85066ce4e47",
            "0c6a836169d44c0abf407c388663e75a",
            "66bed04880de4c7bac4154a4644a1bce",
            "609bb6b3b3604d158028b2637bf31803",
            "867edc41969d4ee4bf7d2c6c2ad0a220",
            "d9714c1a49dd45daa45eaafcbc4ebee8",
            "b23ce56fc3e7417f8cf82f69d09fc0b7",
            "55b6e7c567644f93b323df1951e315b1",
            "b5dd4df278c94a2e91674f97bda76411",
            "612d71ab917f40ccadd0d33e898554de",
            "b819c76031774363ab2de0b6b3d77c65",
            "5c69c2694246428abccb2c5252767190",
            "e35340d889b9454abefa918f106f7845",
            "0a92d8ad3ace4e35b9c7291cae0040b9",
            "474bc232024543588cdc84406354c8c5",
            "87a9fd42ce6842868fe476144f2d734e",
            "6b0334bae722490f9811ca8f20f7aa2e",
            "524938ef560d4c6c8d650e8ed6db9d8a",
            "c24638e8916f47d683f4e9502786bf36",
            "24feaf9fe554427583f645525704b189",
            "cb2814dd832f4d4492b2c0aed7c7d62d",
            "157039ca55ee40699e7b80e6fe580e2b",
            "7edb6f53e5df45caad083981d33d3eea",
            "e21c9837adf74feeab950be06ab3308f",
            "50edf5a477ea4fe2b8fdd7bfb9a01076",
            "d5d9a811c1e840618e81471c4612da4c",
            "7c1039c48d224c84a18ad3bb201edf65",
            "03329069fbdc44d4a3be48f48ef56f73",
            "ca5d030eb90c431f8cda750168963903",
            "d778ae27e83141ba912a08f299a8ce00",
            "5371215b372f4d8caf6a234323f61ae3",
            "a25371077519472791ed3b133387efef",
            "d584bf0af65c46f8836b989391b8cdda",
            "0b54dc3c93bd480d8b7e83fa911aabec",
            "44aa6a88a95544be8a7162eff3ffb3a7",
            "8bd7ff15ebe4477085083aacc522ed9e",
            "c634b0b7d2b64b6a86cd176c4e3faa93",
            "38abc2f13f1e4d22bf48375587609eb6",
            "8d1c33872643493da0d61cfdb9b63f9a",
            "66d5ca6a39014fbd829dd1d430f1e0bc",
            "c3da7e438d174e89a6d3526309653d4c",
            "2b7b31d8d631443a92592e90150184a8",
            "c259348d90c0404896c32d94012f4af2",
            "6718204d89bb4ccfac35d515e5046977",
            "20544d60142e4520833f0581db69b4b8",
            "3234a33b76a84dccb43af4cbc4162701",
            "0d3e05c0abc643fd999757d4c495d2d5",
            "2215068bf26f4d59b2a082d92fb0db48",
            "3ccbdce3e8d9424c931bffd01f9debaf",
            "d359a40c12524be19db2f1518bf9c1a6",
            "8194a5c8cb2c4cb68f2d2a397f423e55",
            "b8e8305efcfa4e48bbe68f3b72ae4565",
            "91dd2afd159f403b9cd35818188360dc",
            "d43634afce38424194a61b1bc890c50a",
            "f2a8ac530f954f8899049eafc83f4e25",
            "713043495f064cb8904cb83b21de0071",
            "1f4a09a2e1ad45cbaaa6553f1a6e07eb",
            "142ddbe9c0fa43d68a483561ba76259b",
            "ab5aa7435f554b9a966006108761b365",
            "2f6b69fba9c040d1965af368b2310c09",
            "bfd9b0c71d3f493887feda77a15d9296",
            "8cce11ecdfc445b88f6ea4842f8f44e3",
            "a89351ce3bc342218e929fe6feee67ef",
            "56bfe2a7172844dc9f3828a830311d36",
            "8fcea3efafb34a7d947c200faacbd5e7",
            "840150c57bd4423ba97db3c5b12fc912",
            "0b7766eaa0f14d0a9ec68b58850fb761",
            "ea855c34758742619bd194562fe50e0c",
            "5c46f5b538a741329f5256f10556744d",
            "f6b6556824334deab30367bcd65900cf",
            "29b928198cdc4539b99e79889466e3b3",
            "baf52c5776f34a0b8717c919dcaaa304"
          ]
        },
        "id": "592Y72sOaW-e",
        "outputId": "4da6c611-6acb-4eb7-9aaa-2f48d0d336bc"
      },
      "outputs": [
        {
          "output_type": "stream",
          "name": "stderr",
          "text": [
            "/usr/local/lib/python3.11/dist-packages/huggingface_hub/utils/_auth.py:94: UserWarning: \n",
            "The secret `HF_TOKEN` does not exist in your Colab secrets.\n",
            "To authenticate with the Hugging Face Hub, create a token in your settings tab (https://huggingface.co/settings/tokens), set it as secret in your Google Colab and restart your session.\n",
            "You will be able to reuse this secret in all of your notebooks.\n",
            "Please note that authentication is recommended but still optional to access public models or datasets.\n",
            "  warnings.warn(\n"
          ]
        },
        {
          "output_type": "display_data",
          "data": {
            "text/plain": [
              "preprocessor_config.json:   0%|          | 0.00/159 [00:00<?, ?B/s]"
            ],
            "application/vnd.jupyter.widget-view+json": {
              "version_major": 2,
              "version_minor": 0,
              "model_id": "221899e386a24c98b6b387e83e7e4576"
            }
          },
          "metadata": {}
        },
        {
          "output_type": "display_data",
          "data": {
            "text/plain": [
              "tokenizer_config.json:   0%|          | 0.00/163 [00:00<?, ?B/s]"
            ],
            "application/vnd.jupyter.widget-view+json": {
              "version_major": 2,
              "version_minor": 0,
              "model_id": "28d8b137c2e34d4d9cdfe9563fbf69b7"
            }
          },
          "metadata": {}
        },
        {
          "output_type": "display_data",
          "data": {
            "text/plain": [
              "config.json:   0%|          | 0.00/1.60k [00:00<?, ?B/s]"
            ],
            "application/vnd.jupyter.widget-view+json": {
              "version_major": 2,
              "version_minor": 0,
              "model_id": "b23ce56fc3e7417f8cf82f69d09fc0b7"
            }
          },
          "metadata": {}
        },
        {
          "output_type": "display_data",
          "data": {
            "text/plain": [
              "vocab.json:   0%|          | 0.00/291 [00:00<?, ?B/s]"
            ],
            "application/vnd.jupyter.widget-view+json": {
              "version_major": 2,
              "version_minor": 0,
              "model_id": "524938ef560d4c6c8d650e8ed6db9d8a"
            }
          },
          "metadata": {}
        },
        {
          "output_type": "display_data",
          "data": {
            "text/plain": [
              "special_tokens_map.json:   0%|          | 0.00/85.0 [00:00<?, ?B/s]"
            ],
            "application/vnd.jupyter.widget-view+json": {
              "version_major": 2,
              "version_minor": 0,
              "model_id": "ca5d030eb90c431f8cda750168963903"
            }
          },
          "metadata": {}
        },
        {
          "output_type": "display_data",
          "data": {
            "text/plain": [
              "Map:   0%|          | 0/4178 [00:00<?, ? examples/s]"
            ],
            "application/vnd.jupyter.widget-view+json": {
              "version_major": 2,
              "version_minor": 0,
              "model_id": "66d5ca6a39014fbd829dd1d430f1e0bc"
            }
          },
          "metadata": {}
        },
        {
          "output_type": "display_data",
          "data": {
            "text/plain": [
              "Map:   0%|          | 0/2703 [00:00<?, ? examples/s]"
            ],
            "application/vnd.jupyter.widget-view+json": {
              "version_major": 2,
              "version_minor": 0,
              "model_id": "8194a5c8cb2c4cb68f2d2a397f423e55"
            }
          },
          "metadata": {}
        },
        {
          "output_type": "display_data",
          "data": {
            "text/plain": [
              "Map:   0%|          | 0/2620 [00:00<?, ? examples/s]"
            ],
            "application/vnd.jupyter.widget-view+json": {
              "version_major": 2,
              "version_minor": 0,
              "model_id": "8cce11ecdfc445b88f6ea4842f8f44e3"
            }
          },
          "metadata": {}
        }
      ],
      "source": [
        "from transformers import Wav2Vec2Processor\n",
        "\n",
        "# Cargamos el processor\n",
        "processor = Wav2Vec2Processor.from_pretrained(\"facebook/wav2vec2-base-960h\")\n",
        "\n",
        "def prepare_batch(batch):\n",
        "    audio = batch[\"path\"]\n",
        "    batch[\"input_values\"] = processor(audio[\"array\"], sampling_rate=audio[\"sampling_rate\"]).input_values[0]\n",
        "    batch[\"labels\"] = processor.tokenizer(batch[\"text\"]).input_ids\n",
        "    return batch\n",
        "\n",
        "dataset = dataset.map(prepare_batch, remove_columns=[\"path\", \"text\"])\n"
      ]
    },
    {
      "cell_type": "markdown",
      "metadata": {
        "id": "MI32PR3raav6"
      },
      "source": [
        "# Entrenamiento con Trainer\n"
      ]
    },
    {
      "cell_type": "code",
      "execution_count": null,
      "metadata": {
        "id": "lf3dnyY6aaP5"
      },
      "outputs": [],
      "source": [
        "from dataclasses import dataclass\n",
        "from typing import Any, Dict, List, Union\n",
        "import torch\n",
        "\n",
        "@dataclass\n",
        "class DataCollatorCTCWithPadding:\n",
        "    processor: Wav2Vec2Processor\n",
        "    padding: Union[bool, str] = True\n",
        "\n",
        "    def __call__(self, features: List[Dict[str, Any]]) -> Dict[str, Any]:\n",
        "        input_features = [{\"input_values\": f[\"input_values\"]} for f in features]\n",
        "        label_features = [{\"input_ids\": f[\"labels\"]} for f in features]\n",
        "\n",
        "        batch = self.processor.pad(\n",
        "            input_features,\n",
        "            padding=self.padding,\n",
        "            return_tensors=\"pt\",\n",
        "        )\n",
        "\n",
        "        with self.processor.as_target_processor():\n",
        "            labels_batch = self.processor.pad(\n",
        "                label_features,\n",
        "                padding=self.padding,\n",
        "                return_tensors=\"pt\",\n",
        "            )\n",
        "\n",
        "        labels = labels_batch[\"input_ids\"].masked_fill(labels_batch[\"input_ids\"] == self.processor.tokenizer.pad_token_id, -100)\n",
        "        batch[\"labels\"] = labels\n",
        "\n",
        "        return batch\n"
      ]
    },
    {
      "cell_type": "code",
      "execution_count": null,
      "metadata": {
        "id": "X9XG49xGlMoX"
      },
      "outputs": [],
      "source": [
        "data_collator = DataCollatorCTCWithPadding(processor=processor, padding=True)\n"
      ]
    },
    {
      "cell_type": "code",
      "execution_count": null,
      "metadata": {
        "colab": {
          "base_uri": "https://localhost:8080/"
        },
        "id": "1qTnKsGUlTJw",
        "outputId": "0764c9da-cd32-4722-d376-cb4685936bb8"
      },
      "outputs": [
        {
          "output_type": "stream",
          "name": "stderr",
          "text": [
            "/usr/local/lib/python3.11/dist-packages/transformers/training_args.py:1594: FutureWarning: `evaluation_strategy` is deprecated and will be removed in version 4.46 of 🤗 Transformers. Use `eval_strategy` instead\n",
            "  warnings.warn(\n"
          ]
        }
      ],
      "source": [
        "from transformers import TrainingArguments\n",
        "\n",
        "training_args = TrainingArguments(\n",
        "    output_dir=\"./wav2vec2-librispeech\",\n",
        "    group_by_length=True,\n",
        "    per_device_train_batch_size=8,\n",
        "    per_device_eval_batch_size=8,\n",
        "    evaluation_strategy=\"epoch\",\n",
        "    save_strategy=\"epoch\",\n",
        "    logging_strategy=\"epoch\",\n",
        "    num_train_epochs=2, # sino tarda muchisimo\n",
        "    fp16=torch.cuda.is_available(),\n",
        "    learning_rate=1e-4,\n",
        "    weight_decay=0.005,\n",
        "    warmup_steps=500,\n",
        "    save_total_limit=2,\n",
        "    logging_dir=\"./logs\",\n",
        "    report_to=\"none\"\n",
        ")\n"
      ]
    },
    {
      "cell_type": "markdown",
      "metadata": {
        "id": "J1noEg1FlZIc"
      },
      "source": [
        "# Crear el Trainer y lanzar el entrenamiento\n",
        "\n"
      ]
    },
    {
      "cell_type": "code",
      "execution_count": null,
      "metadata": {
        "colab": {
          "base_uri": "https://localhost:8080/",
          "height": 1000,
          "referenced_widgets": [
            "5a41bad147b0484494d4c14fd61fc408",
            "cb85e469983e439eab111318f90c95da",
            "313bf941a622412b907528626e1e342a",
            "c0112cf85afe4081bf765b330d1f1b30",
            "b3351ba6d04e473f821db6aecfc79c80",
            "71a88060bed244aa9f749e8adf44b0ac",
            "96c930a7e41545149302850b920f3fa6",
            "f844552dd25f454eb4052c938ae7b214",
            "37f90b6bb276409b90feb990901279d0",
            "baacf35b11fd4db2ba7bd6d253c35f72",
            "035f5b746ddc47bc91f6ba6850e1d848"
          ]
        },
        "id": "9F0FfggUlova",
        "outputId": "5cd528b2-6861-4659-dd20-f166eb1a5e71"
      },
      "outputs": [
        {
          "output_type": "display_data",
          "data": {
            "text/plain": [
              "model.safetensors:   0%|          | 0.00/378M [00:00<?, ?B/s]"
            ],
            "application/vnd.jupyter.widget-view+json": {
              "version_major": 2,
              "version_minor": 0,
              "model_id": "5a41bad147b0484494d4c14fd61fc408"
            }
          },
          "metadata": {}
        },
        {
          "output_type": "stream",
          "name": "stderr",
          "text": [
            "Some weights of Wav2Vec2ForCTC were not initialized from the model checkpoint at facebook/wav2vec2-base-960h and are newly initialized: ['wav2vec2.masked_spec_embed']\n",
            "You should probably TRAIN this model on a down-stream task to be able to use it for predictions and inference.\n"
          ]
        },
        {
          "output_type": "execute_result",
          "data": {
            "text/plain": [
              "Wav2Vec2ForCTC(\n",
              "  (wav2vec2): Wav2Vec2Model(\n",
              "    (feature_extractor): Wav2Vec2FeatureEncoder(\n",
              "      (conv_layers): ModuleList(\n",
              "        (0): Wav2Vec2GroupNormConvLayer(\n",
              "          (conv): Conv1d(1, 512, kernel_size=(10,), stride=(5,), bias=False)\n",
              "          (activation): GELUActivation()\n",
              "          (layer_norm): GroupNorm(512, 512, eps=1e-05, affine=True)\n",
              "        )\n",
              "        (1-4): 4 x Wav2Vec2NoLayerNormConvLayer(\n",
              "          (conv): Conv1d(512, 512, kernel_size=(3,), stride=(2,), bias=False)\n",
              "          (activation): GELUActivation()\n",
              "        )\n",
              "        (5-6): 2 x Wav2Vec2NoLayerNormConvLayer(\n",
              "          (conv): Conv1d(512, 512, kernel_size=(2,), stride=(2,), bias=False)\n",
              "          (activation): GELUActivation()\n",
              "        )\n",
              "      )\n",
              "    )\n",
              "    (feature_projection): Wav2Vec2FeatureProjection(\n",
              "      (layer_norm): LayerNorm((512,), eps=1e-05, elementwise_affine=True)\n",
              "      (projection): Linear(in_features=512, out_features=768, bias=True)\n",
              "      (dropout): Dropout(p=0.1, inplace=False)\n",
              "    )\n",
              "    (encoder): Wav2Vec2Encoder(\n",
              "      (pos_conv_embed): Wav2Vec2PositionalConvEmbedding(\n",
              "        (conv): ParametrizedConv1d(\n",
              "          768, 768, kernel_size=(128,), stride=(1,), padding=(64,), groups=16\n",
              "          (parametrizations): ModuleDict(\n",
              "            (weight): ParametrizationList(\n",
              "              (0): _WeightNorm()\n",
              "            )\n",
              "          )\n",
              "        )\n",
              "        (padding): Wav2Vec2SamePadLayer()\n",
              "        (activation): GELUActivation()\n",
              "      )\n",
              "      (layer_norm): LayerNorm((768,), eps=1e-05, elementwise_affine=True)\n",
              "      (dropout): Dropout(p=0.1, inplace=False)\n",
              "      (layers): ModuleList(\n",
              "        (0-11): 12 x Wav2Vec2EncoderLayer(\n",
              "          (attention): Wav2Vec2SdpaAttention(\n",
              "            (k_proj): Linear(in_features=768, out_features=768, bias=True)\n",
              "            (v_proj): Linear(in_features=768, out_features=768, bias=True)\n",
              "            (q_proj): Linear(in_features=768, out_features=768, bias=True)\n",
              "            (out_proj): Linear(in_features=768, out_features=768, bias=True)\n",
              "          )\n",
              "          (dropout): Dropout(p=0.1, inplace=False)\n",
              "          (layer_norm): LayerNorm((768,), eps=1e-05, elementwise_affine=True)\n",
              "          (feed_forward): Wav2Vec2FeedForward(\n",
              "            (intermediate_dropout): Dropout(p=0.1, inplace=False)\n",
              "            (intermediate_dense): Linear(in_features=768, out_features=3072, bias=True)\n",
              "            (intermediate_act_fn): GELUActivation()\n",
              "            (output_dense): Linear(in_features=3072, out_features=768, bias=True)\n",
              "            (output_dropout): Dropout(p=0.1, inplace=False)\n",
              "          )\n",
              "          (final_layer_norm): LayerNorm((768,), eps=1e-05, elementwise_affine=True)\n",
              "        )\n",
              "      )\n",
              "    )\n",
              "  )\n",
              "  (dropout): Dropout(p=0.1, inplace=False)\n",
              "  (lm_head): Linear(in_features=768, out_features=32, bias=True)\n",
              ")"
            ]
          },
          "metadata": {},
          "execution_count": 42
        }
      ],
      "source": [
        "from transformers import Wav2Vec2ForCTC\n",
        "\n",
        "model = Wav2Vec2ForCTC.from_pretrained(\n",
        "    \"facebook/wav2vec2-base-960h\",\n",
        "    ctc_loss_reduction=\"mean\",\n",
        "    pad_token_id=processor.tokenizer.pad_token_id,\n",
        ")\n",
        "model.to(\"cuda\" if torch.cuda.is_available() else \"cpu\")\n"
      ]
    },
    {
      "cell_type": "code",
      "execution_count": null,
      "metadata": {
        "collapsed": true,
        "id": "UOSaxKUml8HO"
      },
      "outputs": [],
      "source": [
        "!pip install datasets evaluate\n",
        "!pip install jiwer\n",
        "pip install evaluate"
      ]
    },
    {
      "cell_type": "code",
      "execution_count": null,
      "metadata": {
        "id": "-8JlQb3kl0t_"
      },
      "outputs": [],
      "source": [
        "from evaluate import load\n",
        "\n",
        "# métrica Word Error Rate\n",
        "wer_metric = load(\"wer\")\n",
        "\n",
        "def compute_metrics(pred):\n",
        "    import torch\n",
        "    pred_ids = torch.argmax(torch.tensor(pred.predictions), dim=-1)\n",
        "    pred_str = processor.batch_decode(pred_ids)\n",
        "    label_str = processor.batch_decode(pred.label_ids, group_tokens=False)\n",
        "    return {\"wer\": wer_metric.compute(predictions=pred_str, references=label_str)}"
      ]
    },
    {
      "cell_type": "markdown",
      "metadata": {
        "id": "cEVarEn0gHhJ"
      },
      "source": [
        "**NO COMPLAR  ESTOOOOO QUE TARDA COMO 2 HORAS**"
      ]
    },
    {
      "cell_type": "code",
      "execution_count": null,
      "metadata": {
        "colab": {
          "base_uri": "https://localhost:8080/",
          "height": 401
        },
        "id": "NP7SsqDTlYkd",
        "outputId": "92a73f8d-3917-4c0e-e887-7d4643e51ebe"
      },
      "outputs": [
        {
          "output_type": "stream",
          "name": "stderr",
          "text": [
            "<ipython-input-49-ff83dd30984c>:3: FutureWarning: `tokenizer` is deprecated and will be removed in version 5.0.0 for `Trainer.__init__`. Use `processing_class` instead.\n",
            "  trainer = Trainer(\n",
            "/usr/local/lib/python3.11/dist-packages/transformers/models/wav2vec2/processing_wav2vec2.py:174: UserWarning: `as_target_processor` is deprecated and will be removed in v5 of Transformers. You can process your labels by using the argument `text` of the regular `__call__` method (either in the same call as your audio inputs, or in a separate call.\n",
            "  warnings.warn(\n"
          ]
        },
        {
          "output_type": "display_data",
          "data": {
            "text/plain": [
              "<IPython.core.display.HTML object>"
            ],
            "text/html": [
              "\n",
              "    <div>\n",
              "      \n",
              "      <progress value='1046' max='1046' style='width:300px; height:20px; vertical-align: middle;'></progress>\n",
              "      [1046/1046 26:40, Epoch 2/2]\n",
              "    </div>\n",
              "    <table border=\"1\" class=\"dataframe\">\n",
              "  <thead>\n",
              " <tr style=\"text-align: left;\">\n",
              "      <th>Epoch</th>\n",
              "      <th>Training Loss</th>\n",
              "      <th>Validation Loss</th>\n",
              "      <th>Wer</th>\n",
              "    </tr>\n",
              "  </thead>\n",
              "  <tbody>\n",
              "    <tr>\n",
              "      <td>1</td>\n",
              "      <td>0.114900</td>\n",
              "      <td>0.080870</td>\n",
              "      <td>0.098654</td>\n",
              "    </tr>\n",
              "    <tr>\n",
              "      <td>2</td>\n",
              "      <td>0.080400</td>\n",
              "      <td>0.065922</td>\n",
              "      <td>0.088195</td>\n",
              "    </tr>\n",
              "  </tbody>\n",
              "</table><p>"
            ]
          },
          "metadata": {}
        },
        {
          "output_type": "stream",
          "name": "stderr",
          "text": [
            "Trainer.tokenizer is now deprecated. You should use Trainer.processing_class instead.\n",
            "Trainer.tokenizer is now deprecated. You should use Trainer.processing_class instead.\n",
            "/usr/local/lib/python3.11/dist-packages/transformers/models/wav2vec2/processing_wav2vec2.py:174: UserWarning: `as_target_processor` is deprecated and will be removed in v5 of Transformers. You can process your labels by using the argument `text` of the regular `__call__` method (either in the same call as your audio inputs, or in a separate call.\n",
            "  warnings.warn(\n",
            "Trainer.tokenizer is now deprecated. You should use Trainer.processing_class instead.\n",
            "Trainer.tokenizer is now deprecated. You should use Trainer.processing_class instead.\n",
            "/usr/local/lib/python3.11/dist-packages/transformers/models/wav2vec2/processing_wav2vec2.py:174: UserWarning: `as_target_processor` is deprecated and will be removed in v5 of Transformers. You can process your labels by using the argument `text` of the regular `__call__` method (either in the same call as your audio inputs, or in a separate call.\n",
            "  warnings.warn(\n"
          ]
        },
        {
          "output_type": "execute_result",
          "data": {
            "text/plain": [
              "TrainOutput(global_step=1046, training_loss=0.0976374172115873, metrics={'train_runtime': 1604.0788, 'train_samples_per_second': 5.209, 'train_steps_per_second': 0.652, 'total_flos': 9.553258949758157e+17, 'train_loss': 0.0976374172115873, 'epoch': 2.0})"
            ]
          },
          "metadata": {},
          "execution_count": 49
        }
      ],
      "source": [
        "from transformers import Trainer\n",
        "\n",
        "trainer = Trainer(\n",
        "    model=model,\n",
        "    args=training_args,\n",
        "    train_dataset=dataset[\"train\"],\n",
        "    eval_dataset=dataset[\"validation\"],\n",
        "    tokenizer=processor.feature_extractor,\n",
        "    data_collator=data_collator,\n",
        "    compute_metrics=compute_metrics\n",
        ")\n",
        "\n",
        "trainer.train()\n"
      ]
    },
    {
      "cell_type": "code",
      "execution_count": null,
      "metadata": {
        "id": "7VyGhDopfmDs",
        "colab": {
          "base_uri": "https://localhost:8080/"
        },
        "outputId": "9e08ee8c-7bce-4823-ce5e-0c45e8004fac"
      },
      "outputs": [
        {
          "output_type": "execute_result",
          "data": {
            "text/plain": [
              "[]"
            ]
          },
          "metadata": {},
          "execution_count": 50
        }
      ],
      "source": [
        "trainer.save_model(\"wav2vec2-checkpoint\")\n",
        "processor.save_pretrained(\"wav2vec2-finetuned-librispeech\")"
      ]
    },
    {
      "cell_type": "code",
      "execution_count": null,
      "metadata": {
        "colab": {
          "base_uri": "https://localhost:8080/",
          "height": 124
        },
        "id": "sE8XemLhfvQ9",
        "outputId": "f2306347-0c71-418f-cd09-9162a781c277"
      },
      "outputs": [
        {
          "output_type": "stream",
          "name": "stderr",
          "text": [
            "Trainer.tokenizer is now deprecated. You should use Trainer.processing_class instead.\n",
            "Trainer.tokenizer is now deprecated. You should use Trainer.processing_class instead.\n",
            "/usr/local/lib/python3.11/dist-packages/transformers/models/wav2vec2/processing_wav2vec2.py:174: UserWarning: `as_target_processor` is deprecated and will be removed in v5 of Transformers. You can process your labels by using the argument `text` of the regular `__call__` method (either in the same call as your audio inputs, or in a separate call.\n",
            "  warnings.warn(\n"
          ]
        },
        {
          "output_type": "display_data",
          "data": {
            "text/plain": [
              "<IPython.core.display.HTML object>"
            ],
            "text/html": []
          },
          "metadata": {}
        },
        {
          "output_type": "stream",
          "name": "stdout",
          "text": [
            "WER en test: 0.0897\n"
          ]
        }
      ],
      "source": [
        "preds = trainer.predict(dataset[\"test\"])\n",
        "test_wer = compute_metrics(preds)\n",
        "print(f\"WER en test: {test_wer['wer']:.4f}\")"
      ]
    },
    {
      "cell_type": "code",
      "execution_count": null,
      "metadata": {
        "id": "FB43bsawfP4B",
        "colab": {
          "base_uri": "https://localhost:8080/",
          "height": 88
        },
        "outputId": "1b161150-21de-4aa4-dabb-4f5722b6cf5d"
      },
      "outputs": [
        {
          "output_type": "execute_result",
          "data": {
            "text/plain": [
              "'\\n# Lista de archivos ZIP y su ruta de destino\\nzip_files = {\\n    \"/content/wav2vec2-checkpoint.zip\": \"/content/wav2vec2-checkpoint\",\\n    \"/content/wav2vec2-finetuned-librispeech.zip\": \"/content/wav2vec2-finetuned-librispeech\"\\n}\\n\\nfor zip_path, extract_to in zip_files.items():\\n  #f zipfile.is_zipfile(zip_path):\\n       with zipfile.ZipFile(zip_path, \\'r\\') as zip_ref:\\n           zip_ref.extractall(extract_to)\\n   else:\\n      print(f\"{zip_path} no es un archivo zip válido.\")\\n'"
            ],
            "application/vnd.google.colaboratory.intrinsic+json": {
              "type": "string"
            }
          },
          "metadata": {},
          "execution_count": 52
        }
      ],
      "source": [
        "import zipfile\n",
        "import os\n",
        "\"\"\"\n",
        "# Lista de archivos ZIP y su ruta de destino\n",
        "zip_files = {\n",
        "    \"/content/wav2vec2-checkpoint.zip\": \"/content/wav2vec2-checkpoint\",\n",
        "    \"/content/wav2vec2-finetuned-librispeech.zip\": \"/content/wav2vec2-finetuned-librispeech\"\n",
        "}\n",
        "\n",
        "for zip_path, extract_to in zip_files.items():\n",
        "  #f zipfile.is_zipfile(zip_path):\n",
        "       with zipfile.ZipFile(zip_path, 'r') as zip_ref:\n",
        "           zip_ref.extractall(extract_to)\n",
        "   else:\n",
        "      print(f\"{zip_path} no es un archivo zip válido.\")\n",
        "\"\"\""
      ]
    },
    {
      "cell_type": "code",
      "execution_count": null,
      "metadata": {
        "colab": {
          "base_uri": "https://localhost:8080/"
        },
        "id": "P1a2gW-U0XkX",
        "outputId": "9d890abd-cc93-4497-96a9-b4045d455b4a"
      },
      "outputs": [
        {
          "output_type": "stream",
          "name": "stdout",
          "text": [
            "Modelo Wav2Vec2 cargado correctamente\n"
          ]
        }
      ],
      "source": [
        "from transformers import Wav2Vec2ForCTC, Wav2Vec2Processor\n",
        "import torch\n",
        "\n",
        "# Cargar processor y modelo entrenado\n",
        "\n",
        "processor = Wav2Vec2Processor.from_pretrained(\"/content/wav2vec2-finetuned-librispeech\")\n",
        "model = Wav2Vec2ForCTC.from_pretrained(\"/content/wav2vec2-checkpoint\")\n",
        "model.to(\"cuda\" if torch.cuda.is_available() else \"cpu\")\n",
        "\n",
        "print(\"Modelo Wav2Vec2 cargado correctamente\")\n"
      ]
    },
    {
      "cell_type": "code",
      "execution_count": null,
      "metadata": {
        "id": "XTb2HF8IfMEP",
        "colab": {
          "base_uri": "https://localhost:8080/",
          "height": 123
        },
        "outputId": "293a814e-67e8-413c-b8dc-f9ee6db71cbb"
      },
      "outputs": [
        {
          "output_type": "execute_result",
          "data": {
            "text/plain": [
              "'\\nwer_metric = load(\"wer\")\\n\\ndef compute_wer_on_dataset(dataset_split):\\n    predictions = []\\n    references = []\\n\\n    for example in dataset_split:\\n        input_values = torch.tensor(example[\"input_values\"]).unsqueeze(0).to(model.device)\\n        with torch.no_grad():\\n            logits = model(input_values).logits\\n        pred_ids = torch.argmax(logits, dim=-1)\\n        pred_str = processor.batch_decode(pred_ids)[0]\\n\\n        label_ids = example[\"labels\"]\\n        label_ids = [id for id in label_ids if id != -100]\\n        label_str = processor.tokenizer.decode(label_ids, skip_special_tokens=True)\\n\\n        predictions.append(pred_str.lower())\\n        references.append(label_str.lower())\\n\\n    return wer_metric.compute(predictions=predictions, references=references)\\n'"
            ],
            "application/vnd.google.colaboratory.intrinsic+json": {
              "type": "string"
            }
          },
          "metadata": {},
          "execution_count": 54
        }
      ],
      "source": [
        "from evaluate import load\n",
        "import torch\n",
        "\n",
        "\n",
        "\"\"\"\n",
        "wer_metric = load(\"wer\")\n",
        "\n",
        "def compute_wer_on_dataset(dataset_split):\n",
        "    predictions = []\n",
        "    references = []\n",
        "\n",
        "    for example in dataset_split:\n",
        "        input_values = torch.tensor(example[\"input_values\"]).unsqueeze(0).to(model.device)\n",
        "        with torch.no_grad():\n",
        "            logits = model(input_values).logits\n",
        "        pred_ids = torch.argmax(logits, dim=-1)\n",
        "        pred_str = processor.batch_decode(pred_ids)[0]\n",
        "\n",
        "        label_ids = example[\"labels\"]\n",
        "        label_ids = [id for id in label_ids if id != -100]\n",
        "        label_str = processor.tokenizer.decode(label_ids, skip_special_tokens=True)\n",
        "\n",
        "        predictions.append(pred_str.lower())\n",
        "        references.append(label_str.lower())\n",
        "\n",
        "    return wer_metric.compute(predictions=predictions, references=references)\n",
        "\"\"\""
      ]
    },
    {
      "cell_type": "code",
      "execution_count": null,
      "metadata": {
        "colab": {
          "base_uri": "https://localhost:8080/",
          "height": 36
        },
        "id": "f1cq742nf78R",
        "outputId": "91b2968c-f42f-4da7-ddb3-04760e9c64c6"
      },
      "outputs": [
        {
          "output_type": "execute_result",
          "data": {
            "text/plain": [
              "'test_wer = compute_wer_on_dataset(dataset[\"test\"])\\nprint(f\"WER en test: {test_wer:.4f}\")\\n'"
            ],
            "application/vnd.google.colaboratory.intrinsic+json": {
              "type": "string"
            }
          },
          "metadata": {},
          "execution_count": 55
        }
      ],
      "source": [
        "\"\"\"test_wer = compute_wer_on_dataset(dataset[\"test\"])\n",
        "print(f\"WER en test: {test_wer:.4f}\")\n",
        "\"\"\""
      ]
    },
    {
      "cell_type": "code",
      "execution_count": null,
      "metadata": {
        "colab": {
          "base_uri": "https://localhost:8080/"
        },
        "id": "YLNIUc3d1_yO",
        "outputId": "f84241f7-eb46-4f90-98c3-c0e500b45d00"
      },
      "outputs": [
        {
          "output_type": "stream",
          "name": "stdout",
          "text": [
            "\n",
            "Transcripción real:\n",
            "IF THE WINE CHANGE INTO VINEGAR AND THE HOST CRUMBLE INTO CORRUPTION AFTER THEY HAVE BEEN CONSECRATED IS JESUS CHRIST STILL PRESENT UNDER THEIR SPECIES AS GOD AND AS MAN\n",
            "\n",
            "Predicción Wav2Vec2 fine-tuned:\n",
            "IF THE WINE CHANGE INTO VINEGAR AND THE HOST CRUMBLE INTO CORRUPTION AFTER THEY HAVE BEEN CONSECRATED IS JESUS CHRIST STILL PRESENT UNDER THEIR SPECIES AS GOD AND AS MAN\n"
          ]
        }
      ],
      "source": [
        "waveform, sample_rate, text = test_data[1]\n",
        "\n",
        "def transcribe_audio(waveform, sample_rate=16000):\n",
        "    if sample_rate != 16000:\n",
        "        waveform = torchaudio.transforms.Resample(orig_freq=sample_rate, new_freq=16000)(waveform)\n",
        "    input_values = processor(waveform.squeeze().numpy(), return_tensors=\"pt\", sampling_rate=16000).input_values.to(model.device)\n",
        "    with torch.no_grad():\n",
        "        logits = model(input_values).logits\n",
        "    predicted_ids = torch.argmax(logits, dim=-1)\n",
        "    transcription = processor.batch_decode(predicted_ids)[0]\n",
        "    return transcription\n",
        "\n",
        "# Transcripción real y predicha\n",
        "print(\"\\nTranscripción real:\")\n",
        "print(text)\n",
        "\n",
        "predicted_text = transcribe_audio(waveform, sample_rate)\n",
        "print(\"\\nPredicción Wav2Vec2 fine-tuned:\")\n",
        "print(predicted_text)\n"
      ]
    },
    {
      "cell_type": "code",
      "execution_count": null,
      "metadata": {
        "colab": {
          "base_uri": "https://localhost:8080/"
        },
        "id": "5kq61_ue2U0M",
        "outputId": "5998e4a6-62ab-418d-d311-4de1f9981812"
      },
      "outputs": [
        {
          "output_type": "stream",
          "name": "stdout",
          "text": [
            "\n",
            "Transcripción real:\n",
            "A GREAT SAINT SAINT FRANCIS XAVIER\n",
            "\n",
            "Predicción Wav2Vec2 fine-tuned:\n",
            "A GREAT SAINT SAINT FRANCES ZAVIER\n"
          ]
        }
      ],
      "source": [
        "waveform, sample_rate, text = test_data[2]\n",
        "\n",
        "def transcribe_audio(waveform, sample_rate=16000):\n",
        "    if sample_rate != 16000:\n",
        "        waveform = torchaudio.transforms.Resample(orig_freq=sample_rate, new_freq=16000)(waveform)\n",
        "    input_values = processor(waveform.squeeze().numpy(), return_tensors=\"pt\", sampling_rate=16000).input_values.to(model.device)\n",
        "    with torch.no_grad():\n",
        "        logits = model(input_values).logits\n",
        "    predicted_ids = torch.argmax(logits, dim=-1)\n",
        "    transcription = processor.batch_decode(predicted_ids)[0]\n",
        "    return transcription\n",
        "\n",
        "# Transcripción real y predicha\n",
        "print(\"\\nTranscripción real:\")\n",
        "print(text)\n",
        "\n",
        "predicted_text = transcribe_audio(waveform, sample_rate)\n",
        "print(\"\\nPredicción Wav2Vec2 fine-tuned:\")\n",
        "print(predicted_text)\n"
      ]
    },
    {
      "cell_type": "markdown",
      "metadata": {
        "id": "BMe95tZa2rMS"
      },
      "source": [
        "# Evaluar en todo el test set\n",
        "\n"
      ]
    },
    {
      "cell_type": "code",
      "execution_count": null,
      "metadata": {
        "colab": {
          "base_uri": "https://localhost:8080/",
          "height": 69
        },
        "id": "NlmqO3wY2t0q",
        "outputId": "79b23417-2a79-4743-a59a-f12fd8443886"
      },
      "outputs": [
        {
          "output_type": "stream",
          "name": "stderr",
          "text": [
            "Trainer.tokenizer is now deprecated. You should use Trainer.processing_class instead.\n",
            "Trainer.tokenizer is now deprecated. You should use Trainer.processing_class instead.\n"
          ]
        },
        {
          "output_type": "display_data",
          "data": {
            "text/plain": [
              "<IPython.core.display.HTML object>"
            ],
            "text/html": []
          },
          "metadata": {}
        },
        {
          "output_type": "stream",
          "name": "stdout",
          "text": [
            "WER en test: 0.0895\n"
          ]
        }
      ],
      "source": [
        "from evaluate import load\n",
        "\n",
        "\n",
        "wer_metric = load(\"wer\")\n",
        "\n",
        "# Predicción masiva\n",
        "preds = trainer.predict(dataset[\"test\"])\n",
        "pred_ids = torch.argmax(torch.tensor(preds.predictions), dim=-1)\n",
        "pred_texts = processor.batch_decode(pred_ids)\n",
        "label_texts = processor.batch_decode(preds.label_ids, group_tokens=False)\n",
        "\n",
        "wer_score = wer_metric.compute(predictions=pred_texts, references=label_texts)\n",
        "print(f\"WER en test: {wer_score:.4f}\")\n"
      ]
    },
    {
      "cell_type": "code",
      "execution_count": null,
      "metadata": {
        "colab": {
          "base_uri": "https://localhost:8080/"
        },
        "id": "ytUHyTRn7Aby",
        "outputId": "1c8af543-0bd1-4eec-d1b5-fa99517b23f7"
      },
      "outputs": [
        {
          "output_type": "execute_result",
          "data": {
            "text/plain": [
              "Wav2Vec2ForCTC(\n",
              "  (wav2vec2): Wav2Vec2Model(\n",
              "    (feature_extractor): Wav2Vec2FeatureEncoder(\n",
              "      (conv_layers): ModuleList(\n",
              "        (0): Wav2Vec2GroupNormConvLayer(\n",
              "          (conv): Conv1d(1, 512, kernel_size=(10,), stride=(5,), bias=False)\n",
              "          (activation): GELUActivation()\n",
              "          (layer_norm): GroupNorm(512, 512, eps=1e-05, affine=True)\n",
              "        )\n",
              "        (1-4): 4 x Wav2Vec2NoLayerNormConvLayer(\n",
              "          (conv): Conv1d(512, 512, kernel_size=(3,), stride=(2,), bias=False)\n",
              "          (activation): GELUActivation()\n",
              "        )\n",
              "        (5-6): 2 x Wav2Vec2NoLayerNormConvLayer(\n",
              "          (conv): Conv1d(512, 512, kernel_size=(2,), stride=(2,), bias=False)\n",
              "          (activation): GELUActivation()\n",
              "        )\n",
              "      )\n",
              "    )\n",
              "    (feature_projection): Wav2Vec2FeatureProjection(\n",
              "      (layer_norm): LayerNorm((512,), eps=1e-05, elementwise_affine=True)\n",
              "      (projection): Linear(in_features=512, out_features=768, bias=True)\n",
              "      (dropout): Dropout(p=0.1, inplace=False)\n",
              "    )\n",
              "    (encoder): Wav2Vec2Encoder(\n",
              "      (pos_conv_embed): Wav2Vec2PositionalConvEmbedding(\n",
              "        (conv): ParametrizedConv1d(\n",
              "          768, 768, kernel_size=(128,), stride=(1,), padding=(64,), groups=16\n",
              "          (parametrizations): ModuleDict(\n",
              "            (weight): ParametrizationList(\n",
              "              (0): _WeightNorm()\n",
              "            )\n",
              "          )\n",
              "        )\n",
              "        (padding): Wav2Vec2SamePadLayer()\n",
              "        (activation): GELUActivation()\n",
              "      )\n",
              "      (layer_norm): LayerNorm((768,), eps=1e-05, elementwise_affine=True)\n",
              "      (dropout): Dropout(p=0.1, inplace=False)\n",
              "      (layers): ModuleList(\n",
              "        (0-11): 12 x Wav2Vec2EncoderLayer(\n",
              "          (attention): Wav2Vec2SdpaAttention(\n",
              "            (k_proj): Linear(in_features=768, out_features=768, bias=True)\n",
              "            (v_proj): Linear(in_features=768, out_features=768, bias=True)\n",
              "            (q_proj): Linear(in_features=768, out_features=768, bias=True)\n",
              "            (out_proj): Linear(in_features=768, out_features=768, bias=True)\n",
              "          )\n",
              "          (dropout): Dropout(p=0.1, inplace=False)\n",
              "          (layer_norm): LayerNorm((768,), eps=1e-05, elementwise_affine=True)\n",
              "          (feed_forward): Wav2Vec2FeedForward(\n",
              "            (intermediate_dropout): Dropout(p=0.1, inplace=False)\n",
              "            (intermediate_dense): Linear(in_features=768, out_features=3072, bias=True)\n",
              "            (intermediate_act_fn): GELUActivation()\n",
              "            (output_dense): Linear(in_features=3072, out_features=768, bias=True)\n",
              "            (output_dropout): Dropout(p=0.1, inplace=False)\n",
              "          )\n",
              "          (final_layer_norm): LayerNorm((768,), eps=1e-05, elementwise_affine=True)\n",
              "        )\n",
              "      )\n",
              "    )\n",
              "  )\n",
              "  (dropout): Dropout(p=0.1, inplace=False)\n",
              "  (lm_head): Linear(in_features=768, out_features=32, bias=True)\n",
              ")"
            ]
          },
          "metadata": {},
          "execution_count": 59
        }
      ],
      "source": [
        "# Wav2Vec2 fine-tuned\n",
        "\n",
        "from transformers import Wav2Vec2ForCTC, Wav2Vec2Processor\n",
        "\n",
        "processor = Wav2Vec2Processor.from_pretrained(\"/content/wav2vec2-finetuned-librispeech\")\n",
        "wav2vec2_model = Wav2Vec2ForCTC.from_pretrained(\"/content/wav2vec2-checkpoint\")\n",
        "wav2vec2_model.to(device)\n",
        "wav2vec2_model.eval()\n",
        "\n"
      ]
    },
    {
      "cell_type": "code",
      "execution_count": null,
      "metadata": {
        "id": "6WTH2spY6wMi"
      },
      "outputs": [],
      "source": [
        "from evaluate import load\n",
        "wer_metric = load(\"wer\")\n",
        "\n",
        "def transcribe_rnn(model, dataset_idx):\n",
        "    model = model.to(device)  # Mueve el modelo al mismo dispositivo que los datos que sino da error a veces\n",
        "    mfcc, target = SpeechDataset(test_data, char_to_index)[dataset_idx]\n",
        "    mfcc = mfcc.unsqueeze(0).to(device)\n",
        "    with torch.no_grad():\n",
        "        output = model(mfcc).permute(1, 0, 2)\n",
        "    pred_text = greedy_decoder(output, index_to_char)\n",
        "    true_text = \"\".join([index_to_char[i.item()] for i in target if i.item() != 0])\n",
        "    wer = wer_metric.compute(predictions=[pred_text], references=[true_text])\n",
        "    return pred_text, true_text, wer\n",
        "\n",
        "\n",
        "def transcribe_wav2vec2(waveform, sample_rate, true_text):\n",
        "    if sample_rate != 16000:\n",
        "        waveform = torchaudio.transforms.Resample(orig_freq=sample_rate, new_freq=16000)(waveform)\n",
        "    input_values = processor(waveform.squeeze().numpy(), return_tensors=\"pt\", sampling_rate=16000).input_values.to(device)\n",
        "    with torch.no_grad():\n",
        "        logits = wav2vec2_model(input_values).logits\n",
        "    predicted_ids = torch.argmax(logits, dim=-1)\n",
        "    pred_text = processor.batch_decode(predicted_ids)[0]\n",
        "    wer = wer_metric.compute(predictions=[pred_text], references=[true_text])\n",
        "    return pred_text, wer\n"
      ]
    },
    {
      "cell_type": "code",
      "execution_count": null,
      "metadata": {
        "colab": {
          "base_uri": "https://localhost:8080/"
        },
        "collapsed": true,
        "id": "ReS2R12lilOP",
        "outputId": "767dd4de-5a43-477d-cbd1-4c919d407d23"
      },
      "outputs": [
        {
          "output_type": "execute_result",
          "data": {
            "text/plain": [
              "Wav2Vec2ForCTC(\n",
              "  (wav2vec2): Wav2Vec2Model(\n",
              "    (feature_extractor): Wav2Vec2FeatureEncoder(\n",
              "      (conv_layers): ModuleList(\n",
              "        (0): Wav2Vec2GroupNormConvLayer(\n",
              "          (conv): Conv1d(1, 512, kernel_size=(10,), stride=(5,), bias=False)\n",
              "          (activation): GELUActivation()\n",
              "          (layer_norm): GroupNorm(512, 512, eps=1e-05, affine=True)\n",
              "        )\n",
              "        (1-4): 4 x Wav2Vec2NoLayerNormConvLayer(\n",
              "          (conv): Conv1d(512, 512, kernel_size=(3,), stride=(2,), bias=False)\n",
              "          (activation): GELUActivation()\n",
              "        )\n",
              "        (5-6): 2 x Wav2Vec2NoLayerNormConvLayer(\n",
              "          (conv): Conv1d(512, 512, kernel_size=(2,), stride=(2,), bias=False)\n",
              "          (activation): GELUActivation()\n",
              "        )\n",
              "      )\n",
              "    )\n",
              "    (feature_projection): Wav2Vec2FeatureProjection(\n",
              "      (layer_norm): LayerNorm((512,), eps=1e-05, elementwise_affine=True)\n",
              "      (projection): Linear(in_features=512, out_features=768, bias=True)\n",
              "      (dropout): Dropout(p=0.1, inplace=False)\n",
              "    )\n",
              "    (encoder): Wav2Vec2Encoder(\n",
              "      (pos_conv_embed): Wav2Vec2PositionalConvEmbedding(\n",
              "        (conv): ParametrizedConv1d(\n",
              "          768, 768, kernel_size=(128,), stride=(1,), padding=(64,), groups=16\n",
              "          (parametrizations): ModuleDict(\n",
              "            (weight): ParametrizationList(\n",
              "              (0): _WeightNorm()\n",
              "            )\n",
              "          )\n",
              "        )\n",
              "        (padding): Wav2Vec2SamePadLayer()\n",
              "        (activation): GELUActivation()\n",
              "      )\n",
              "      (layer_norm): LayerNorm((768,), eps=1e-05, elementwise_affine=True)\n",
              "      (dropout): Dropout(p=0.1, inplace=False)\n",
              "      (layers): ModuleList(\n",
              "        (0-11): 12 x Wav2Vec2EncoderLayer(\n",
              "          (attention): Wav2Vec2SdpaAttention(\n",
              "            (k_proj): Linear(in_features=768, out_features=768, bias=True)\n",
              "            (v_proj): Linear(in_features=768, out_features=768, bias=True)\n",
              "            (q_proj): Linear(in_features=768, out_features=768, bias=True)\n",
              "            (out_proj): Linear(in_features=768, out_features=768, bias=True)\n",
              "          )\n",
              "          (dropout): Dropout(p=0.1, inplace=False)\n",
              "          (layer_norm): LayerNorm((768,), eps=1e-05, elementwise_affine=True)\n",
              "          (feed_forward): Wav2Vec2FeedForward(\n",
              "            (intermediate_dropout): Dropout(p=0.1, inplace=False)\n",
              "            (intermediate_dense): Linear(in_features=768, out_features=3072, bias=True)\n",
              "            (intermediate_act_fn): GELUActivation()\n",
              "            (output_dense): Linear(in_features=3072, out_features=768, bias=True)\n",
              "            (output_dropout): Dropout(p=0.1, inplace=False)\n",
              "          )\n",
              "          (final_layer_norm): LayerNorm((768,), eps=1e-05, elementwise_affine=True)\n",
              "        )\n",
              "      )\n",
              "    )\n",
              "  )\n",
              "  (dropout): Dropout(p=0.1, inplace=False)\n",
              "  (lm_head): Linear(in_features=768, out_features=32, bias=True)\n",
              ")"
            ]
          },
          "metadata": {},
          "execution_count": 61
        }
      ],
      "source": [
        "from transformers import Wav2Vec2ForCTC\n",
        "\n",
        "wav2vec2_model = Wav2Vec2ForCTC.from_pretrained(\n",
        "    \"/content/wav2vec2-checkpoint\",\n",
        "    ctc_loss_reduction=\"mean\",\n",
        "    pad_token_id=processor.tokenizer.pad_token_id,\n",
        ")\n",
        "wav2vec2_model.to(device)\n",
        "wav2vec2_model.eval()\n"
      ]
    },
    {
      "cell_type": "code",
      "execution_count": null,
      "metadata": {
        "colab": {
          "base_uri": "https://localhost:8080/"
        },
        "id": "oufoIpX16ycH",
        "outputId": "fc3cbdbc-c2e0-4692-c8d6-8156258e5592"
      },
      "outputs": [
        {
          "output_type": "stream",
          "name": "stdout",
          "text": [
            "Muestra 2619\n",
            "Texto real:\n",
            "YES THE CHARACTER WHICH YOUR ROYAL HIGHNESS ASSUMED IS IN PERFECT HARMONY WITH YOUR OWN\n",
            "\n",
            "RNN Simple:\n",
            "  \n",
            "WER: 1.000\n",
            "\n",
            "RNN Mejorado:\n",
            "  \n",
            "WER: 1.000\n",
            "\n",
            "Wav2Vec2 Fine-tuned:\n",
            " YES THE CHARACTER WHICH YOUR ROYAL HIGHNESS ASSUMED IS IN PERFECT HARMONY WITH YOUR OWN \n",
            "WER: 0.000\n"
          ]
        }
      ],
      "source": [
        "import random\n",
        "\n",
        "# Seleccionamos una muestra aleatoria\n",
        "sample_idx = random.randint(0, len(test_data)-1)\n",
        "waveform, sample_rate, true_text = test_data[sample_idx]\n",
        "\n",
        "# --- RNN simple ---\n",
        "rnn_pred_1, _, wer_rnn_simple = transcribe_rnn(rnn_simple, sample_idx)\n",
        "\n",
        "# --- RNN mejorado ---\n",
        "rnn_pred_2, true_text, wer_rnn_best = transcribe_rnn(rnn_best, sample_idx)\n",
        "\n",
        "# --- Wav2Vec2 ---\n",
        "wav2vec2_pred, wer_wav2vec2 = transcribe_wav2vec2(waveform, sample_rate, true_text)\n",
        "\n",
        "# Mostrar resultados\n",
        "print(f\"Muestra {sample_idx}\")\n",
        "print(\"Texto real:\")\n",
        "print(true_text)\n",
        "print(\"\\nRNN Simple:\\n\", rnn_pred_1, f\"\\nWER: {wer_rnn_simple:.3f}\")\n",
        "print(\"\\nRNN Mejorado:\\n\", rnn_pred_2, f\"\\nWER: {wer_rnn_best:.3f}\")\n",
        "print(\"\\nWav2Vec2 Fine-tuned:\\n\", wav2vec2_pred, f\"\\nWER: {wer_wav2vec2:.3f}\")\n"
      ]
    },
    {
      "cell_type": "code",
      "execution_count": null,
      "metadata": {
        "colab": {
          "base_uri": "https://localhost:8080/",
          "height": 391
        },
        "id": "pNG9_SE361j1",
        "outputId": "953b2c3b-fbdb-4bfd-d8c8-42708a304f0c"
      },
      "outputs": [
        {
          "output_type": "display_data",
          "data": {
            "text/plain": [
              "<Figure size 600x400 with 1 Axes>"
            ],
            "image/png": "[encoded data removed]"
          },
          "metadata": {}
        }
      ],
      "source": [
        "import matplotlib.pyplot as plt\n",
        "\n",
        "model_names = [\"RNN Simple\", \"RNN Mejorado\", \"Wav2Vec2\"]\n",
        "wer_scores = [wer_rnn_simple, wer_rnn_best, wer_wav2vec2]\n",
        "\n",
        "plt.figure(figsize=(6, 4))\n",
        "plt.bar(model_names, wer_scores, color=[\"orange\", \"blue\", \"green\"])\n",
        "plt.title(\"Comparativa Word Error Rate (WER)\")\n",
        "plt.ylabel(\"WER\")\n",
        "plt.ylim(0, 1)\n",
        "for i, val in enumerate(wer_scores):\n",
        "    plt.text(i, val + 0.02, f\"{val:.2f}\", ha='center')\n",
        "plt.show()\n"
      ]
    },
    {
      "cell_type": "code",
      "execution_count": null,
      "metadata": {
        "id": "sHuYxd40lRZ7"
      },
      "outputs": [],
      "source": [
        "# muestra de test\n",
        "inputs, targets, input_lengths, target_lengths = next(iter(test_loader))\n",
        "inputs = inputs.to(device)\n",
        "targets = targets.to(device)\n",
        "\n",
        "# Salidas RNN Simple\n",
        "output_rnn_simple = rnn_simple(inputs).permute(1, 0, 2)\n",
        "\n",
        "# Salidas RNN Mejorado\n",
        "output_rnn_adv = rnn_best(inputs).permute(1, 0, 2)\n"
      ]
    },
    {
      "cell_type": "code",
      "execution_count": null,
      "metadata": {
        "colab": {
          "base_uri": "https://localhost:8080/",
          "height": 565
        },
        "id": "hhkj-JuSi7kr",
        "outputId": "cf39863e-d69d-401c-895e-6fb7358534f9"
      },
      "outputs": [
        {
          "output_type": "display_data",
          "data": {
            "text/plain": [
              "<Figure size 1000x600 with 1 Axes>"
            ],
            "image/png": "[encoded data removed]"
          },
          "metadata": {}
        }
      ],
      "source": [
        "import matplotlib.pyplot as plt\n",
        "\n",
        "#  Curvas de pérdida\n",
        "plt.figure(figsize=(10, 6))\n",
        "plt.plot(rnn_simple_train_losses, label=\"RNN Simple - Train Loss\")\n",
        "plt.plot(rnn_simple_val_losses, label=\"RNN Simple - Val Loss\")\n",
        "plt.plot(rnn_adv_train_losses, label=\"RNN Mejorado - Train Loss\")\n",
        "plt.plot(rnn_adv_val_losses, label=\"RNN Mejorado - Val Loss\")\n",
        "\n",
        "# Wav2Vec2 último eval_loss\n",
        "if hasattr(trainer.state, \"log_history\"):\n",
        "    wav2vec2_val_losses = [log[\"eval_loss\"] for log in trainer.state.log_history if \"eval_loss\" in log]\n",
        "    if wav2vec2_val_losses:\n",
        "        plt.axhline(y=min(wav2vec2_val_losses), linestyle='--', color='red', label=\"Wav2Vec2 - Val Loss\")\n",
        "\n",
        "plt.title(\"Curvas de pérdida por epoch\")\n",
        "plt.xlabel(\"Epoch\")\n",
        "plt.ylabel(\"CTC Loss\")\n",
        "plt.grid(True)\n",
        "plt.legend()\n",
        "plt.show()\n",
        "\n",
        "\n"
      ]
    },
    {
      "cell_type": "code",
      "source": [
        "from google.colab import files\n",
        "files.download('/content/wav2vec2-librispeech')\n",
        "files.download('/content/wav2vec2-finetuned-librispeech')\n",
        "files.download('/content/wav2vec2-checkpoint')"
      ],
      "metadata": {
        "colab": {
          "base_uri": "https://localhost:8080/",
          "height": 69
        },
        "id": "VFIMpQTInY8Z",
        "outputId": "6a5b9983-c6ed-4493-c0cf-9d8bfa8dbf1b"
      },
      "execution_count": null,
      "outputs": [
        {
          "output_type": "display_data",
          "data": {
            "text/plain": [
              "<IPython.core.display.Javascript object>"
            ],
            "application/javascript": [
              "\n",
              "    async function download(id, filename, size) {\n",
              "      if (!google.colab.kernel.accessAllowed) {\n",
              "        return;\n",
              "      }\n",
              "      const div = document.createElement('div');\n",
              "      const label = document.createElement('label');\n",
              "      label.textContent = `Downloading \"${filename}\": `;\n",
              "      div.appendChild(label);\n",
              "      const progress = document.createElement('progress');\n",
              "      progress.max = size;\n",
              "      div.appendChild(progress);\n",
              "      document.body.appendChild(div);\n",
              "\n",
              "      const buffers = [];\n",
              "      let downloaded = 0;\n",
              "\n",
              "      const channel = await google.colab.kernel.comms.open(id);\n",
              "      // Send a message to notify the kernel that we're ready.\n",
              "      channel.send({})\n",
              "\n",
              "      for await (const message of channel.messages) {\n",
              "        // Send a message to notify the kernel that we're ready.\n",
              "        channel.send({})\n",
              "        if (message.buffers) {\n",
              "          for (const buffer of message.buffers) {\n",
              "            buffers.push(buffer);\n",
              "            downloaded += buffer.byteLength;\n",
              "            progress.value = downloaded;\n",
              "          }\n",
              "        }\n",
              "      }\n",
              "      const blob = new Blob(buffers, {type: 'application/binary'});\n",
              "      const a = document.createElement('a');\n",
              "      a.href = window.URL.createObjectURL(blob);\n",
              "      a.download = filename;\n",
              "      div.appendChild(a);\n",
              "      a.click();\n",
              "      div.remove();\n",
              "    }\n",
              "  "
            ]
          },
          "metadata": {}
        },
        {
          "output_type": "display_data",
          "data": {
            "text/plain": [
              "<IPython.core.display.Javascript object>"
            ],
            "application/javascript": [
              "download(\"download_e0920215-e2d7-4086-bb07-e638d525abd1\", \"wav2vec2-librispeech\", 4096)"
            ]
          },
          "metadata": {}
        },
        {
          "output_type": "display_data",
          "data": {
            "text/plain": [
              "<IPython.core.display.Javascript object>"
            ],
            "application/javascript": [
              "\n",
              "    async function download(id, filename, size) {\n",
              "      if (!google.colab.kernel.accessAllowed) {\n",
              "        return;\n",
              "      }\n",
              "      const div = document.createElement('div');\n",
              "      const label = document.createElement('label');\n",
              "      label.textContent = `Downloading \"${filename}\": `;\n",
              "      div.appendChild(label);\n",
              "      const progress = document.createElement('progress');\n",
              "      progress.max = size;\n",
              "      div.appendChild(progress);\n",
              "      document.body.appendChild(div);\n",
              "\n",
              "      const buffers = [];\n",
              "      let downloaded = 0;\n",
              "\n",
              "      const channel = await google.colab.kernel.comms.open(id);\n",
              "      // Send a message to notify the kernel that we're ready.\n",
              "      channel.send({})\n",
              "\n",
              "      for await (const message of channel.messages) {\n",
              "        // Send a message to notify the kernel that we're ready.\n",
              "        channel.send({})\n",
              "        if (message.buffers) {\n",
              "          for (const buffer of message.buffers) {\n",
              "            buffers.push(buffer);\n",
              "            downloaded += buffer.byteLength;\n",
              "            progress.value = downloaded;\n",
              "          }\n",
              "        }\n",
              "      }\n",
              "      const blob = new Blob(buffers, {type: 'application/binary'});\n",
              "      const a = document.createElement('a');\n",
              "      a.href = window.URL.createObjectURL(blob);\n",
              "      a.download = filename;\n",
              "      div.appendChild(a);\n",
              "      a.click();\n",
              "      div.remove();\n",
              "    }\n",
              "  "
            ]
          },
          "metadata": {}
        },
        {
          "output_type": "display_data",
          "data": {
            "text/plain": [
              "<IPython.core.display.Javascript object>"
            ],
            "application/javascript": [
              "download(\"download_861615ee-c470-45eb-b1d6-7328eda6beda\", \"wav2vec2-finetuned-librispeech\", 4096)"
            ]
          },
          "metadata": {}
        },
        {
          "output_type": "display_data",
          "data": {
            "text/plain": [
              "<IPython.core.display.Javascript object>"
            ],
            "application/javascript": [
              "\n",
              "    async function download(id, filename, size) {\n",
              "      if (!google.colab.kernel.accessAllowed) {\n",
              "        return;\n",
              "      }\n",
              "      const div = document.createElement('div');\n",
              "      const label = document.createElement('label');\n",
              "      label.textContent = `Downloading \"${filename}\": `;\n",
              "      div.appendChild(label);\n",
              "      const progress = document.createElement('progress');\n",
              "      progress.max = size;\n",
              "      div.appendChild(progress);\n",
              "      document.body.appendChild(div);\n",
              "\n",
              "      const buffers = [];\n",
              "      let downloaded = 0;\n",
              "\n",
              "      const channel = await google.colab.kernel.comms.open(id);\n",
              "      // Send a message to notify the kernel that we're ready.\n",
              "      channel.send({})\n",
              "\n",
              "      for await (const message of channel.messages) {\n",
              "        // Send a message to notify the kernel that we're ready.\n",
              "        channel.send({})\n",
              "        if (message.buffers) {\n",
              "          for (const buffer of message.buffers) {\n",
              "            buffers.push(buffer);\n",
              "            downloaded += buffer.byteLength;\n",
              "            progress.value = downloaded;\n",
              "          }\n",
              "        }\n",
              "      }\n",
              "      const blob = new Blob(buffers, {type: 'application/binary'});\n",
              "      const a = document.createElement('a');\n",
              "      a.href = window.URL.createObjectURL(blob);\n",
              "      a.download = filename;\n",
              "      div.appendChild(a);\n",
              "      a.click();\n",
              "      div.remove();\n",
              "    }\n",
              "  "
            ]
          },
          "metadata": {}
        },
        {
          "output_type": "display_data",
          "data": {
            "text/plain": [
              "<IPython.core.display.Javascript object>"
            ],
            "application/javascript": [
              "download(\"download_1e15c776-1001-4662-982b-d39de66cf288\", \"wav2vec2-checkpoint\", 4096)"
            ]
          },
          "metadata": {}
        }
      ]
    },
    {
      "cell_type": "code",
      "execution_count": null,
      "metadata": {
        "id": "vVXYxVEs_Phl"
      },
      "outputs": [],
      "source": [
        "\n",
        "# Obtener un batch del test loader\n",
        "inputs, targets, input_lengths, target_lengths = next(iter(test_loader))\n",
        "inputs = inputs.to(device)\n",
        "targets = targets.to(device)\n",
        "\n",
        "# --- RNN Simple ---\n",
        "rnn_simple.eval()\n",
        "with torch.no_grad():\n",
        "    raw_output_rnn_simple = rnn_simple(inputs)\n",
        "\n",
        "output_rnn_simple = raw_output_rnn_simple.permute(1, 0, 2)  # (time, batch, classes)\n",
        "pred_text_rnn_simple = greedy_decoder(output_rnn_simple, index_to_char)\n",
        "true_text = \"\".join([index_to_char[i.item()] for i in targets if i.item() != 0])\n",
        "\n",
        "wer_rnn_simple = wer_metric.compute(predictions=[pred_text_rnn_simple], references=[true_text])\n",
        "\n",
        "# --- RNN Mejorado ---\n",
        "rnn_best.eval()\n",
        "with torch.no_grad():\n",
        "    raw_output_rnn_adv = rnn_best(inputs)\n",
        "\n",
        "output_rnn_adv = raw_output_rnn_adv.permute(1, 0, 2)\n",
        "pred_text_rnn_adv = greedy_decoder(output_rnn_adv, index_to_char)\n",
        "\n",
        "wer_rnn_adv = wer_metric.compute(predictions=[pred_text_rnn_adv], references=[true_text])\n"
      ]
    },
    {
      "cell_type": "code",
      "execution_count": null,
      "metadata": {
        "id": "ECkxyGtK_Q0b"
      },
      "outputs": [],
      "source": [
        "wer_values = [wer_rnn_simple, wer_rnn_adv, wer_score]\n"
      ]
    },
    {
      "cell_type": "code",
      "execution_count": null,
      "metadata": {
        "colab": {
          "base_uri": "https://localhost:8080/",
          "height": 391
        },
        "id": "ik4H2yiniztc",
        "outputId": "3f765712-86f4-447e-dc53-2909c6b0d338"
      },
      "outputs": [
        {
          "output_type": "display_data",
          "data": {
            "text/plain": [
              "<Figure size 600x400 with 1 Axes>"
            ],
            "image/png": "[encoded data removed]"
          },
          "metadata": {}
        }
      ],
      "source": [
        "# Decodificación de predicciones\n",
        "output_rnn_simple = raw_output_rnn_simple.permute(1, 0, 2)\n",
        "output_rnn_adv = raw_output_rnn_adv.permute(1, 0, 2)\n",
        "\n",
        "# Greedy decoding\n",
        "def greedy_decoder(output, index_to_char):\n",
        "    pred_indices = torch.argmax(output, dim=2)[:, 0].tolist()\n",
        "    pred_text = []\n",
        "    prev_idx = None\n",
        "    for idx in pred_indices:\n",
        "        if idx != prev_idx and idx != 0:\n",
        "            pred_text.append(index_to_char.get(idx, \"\"))\n",
        "        prev_idx = idx\n",
        "    return \"\".join(pred_text)\n",
        "\n",
        "# Predicciones\n",
        "pred_text_rnn_simple = greedy_decoder(output_rnn_simple, index_to_char)\n",
        "pred_text_rnn_adv = greedy_decoder(output_rnn_adv, index_to_char)\n",
        "true_text = \"\".join([index_to_char[i.item()] for i in targets if i.item() != 0])\n",
        "\n",
        "# Calcular WERs\n",
        "wer_rnn_simple = wer_metric.compute(predictions=[pred_text_rnn_simple], references=[true_text])\n",
        "wer_rnn_adv = wer_metric.compute(predictions=[pred_text_rnn_adv], references=[true_text])\n",
        "\n",
        "# Juntar con wav2vec2\n",
        "wer_values = [wer_rnn_simple, wer_rnn_adv, wer_score]\n",
        "\n",
        "\n",
        "\n",
        "model_names = [\"RNN Simple\", \"RNN Mejorado\", \"Wav2Vec2\"]\n",
        "\n",
        "plt.figure(figsize=(6, 4))\n",
        "plt.bar(model_names, wer_values, color=[\"orange\", \"blue\", \"green\"])\n",
        "plt.title(\"Comparativa Word Error Rate (WER)\")\n",
        "plt.ylabel(\"WER\")\n",
        "plt.ylim(0, 1)\n",
        "for i, val in enumerate(wer_values):\n",
        "    plt.text(i, val + 0.02, f\"{val:.2f}\", ha='center')\n",
        "plt.show()\n"
      ]
    },
    {
      "cell_type": "code",
      "execution_count": null,
      "metadata": {
        "id": "AJQ1m0czINKz"
      },
      "outputs": [],
      "source": [
        "import gc\n",
        "gc.collect()\n",
        "torch.cuda.empty_cache()\n",
        "import gradio as gr\n",
        "import torchaudio\n",
        "import torch"
      ]
    },
    {
      "cell_type": "code",
      "execution_count": null,
      "metadata": {
        "colab": {
          "base_uri": "https://localhost:8080/",
          "height": 681
        },
        "id": "fAO4yVshliP_",
        "outputId": "c0faaeff-40d0-4005-cb1c-a64217335732"
      },
      "outputs": [
        {
          "output_type": "stream",
          "name": "stdout",
          "text": [
            "Running Gradio in a Colab notebook requires sharing enabled. Automatically setting `share=True` (you can turn this off by setting `share=False` in `launch()` explicitly).\n",
            "\n",
            "Colab notebook detected. This cell will run indefinitely so that you can see errors and logs. To turn off, set debug=False in launch().\n",
            "* Running on public URL: https://27a47cb159a45fd2da.gradio.live\n",
            "\n",
            "This share link expires in 72 hours. For free permanent hosting and GPU upgrades, run `gradio deploy` from the terminal in the working directory to deploy to Hugging Face Spaces (https://huggingface.co/spaces)\n"
          ]
        },
        {
          "output_type": "display_data",
          "data": {
            "text/plain": [
              "<IPython.core.display.HTML object>"
            ],
            "text/html": [
              "<div><iframe src=\"https://27a47cb159a45fd2da.gradio.live\" width=\"100%\" height=\"500\" allow=\"autoplay; camera; microphone; clipboard-read; clipboard-write;\" frameborder=\"0\" allowfullscreen></iframe></div>"
            ]
          },
          "metadata": {}
        },
        {
          "output_type": "stream",
          "name": "stdout",
          "text": [
            "Keyboard interruption in main thread... closing server.\n",
            "Killing tunnel 127.0.0.1:7860 <> https://27a47cb159a45fd2da.gradio.live\n"
          ]
        },
        {
          "output_type": "execute_result",
          "data": {
            "text/plain": []
          },
          "metadata": {},
          "execution_count": 74
        }
      ],
      "source": [
        "\n",
        "def transcribe_from_file(audio_file):\n",
        "    # Cargar audio\n",
        "    waveform, sample_rate = torchaudio.load(audio_file)\n",
        "\n",
        "    if sample_rate != 16000:\n",
        "        resampler = torchaudio.transforms.Resample(orig_freq=sample_rate, new_freq=16000)\n",
        "        waveform = resampler(waveform)\n",
        "\n",
        "    # Procesar audio\n",
        "    input_values = processor(\n",
        "        waveform.squeeze().numpy(), return_tensors=\"pt\", sampling_rate=16000\n",
        "    ).input_values.to(model.device)\n",
        "\n",
        "    # Inferencia\n",
        "    with torch.no_grad():\n",
        "        logits = model(input_values).logits\n",
        "\n",
        "    predicted_ids = torch.argmax(logits, dim=-1)\n",
        "    transcription = processor.batch_decode(predicted_ids)[0]\n",
        "    return transcription\n",
        "\n",
        "# Gradio\n",
        "demo = gr.Interface(\n",
        "    fn=transcribe_from_file,\n",
        "    inputs=gr.Audio(type=\"filepath\", label=\"Sube tu archivo de audio (.wav)\"),\n",
        "    outputs=gr.Textbox(label=\"Transcripción\"),\n",
        "    title=\"Demo ASR con Wav2Vec2\",\n",
        "    description=\"Sube un audio (formato WAV) y este modelo lo transcribirá automáticamente.\",\n",
        ")\n",
        "\n",
        "demo.launch(debug=True)\n"
      ]
    },
    {
      "cell_type": "markdown",
      "metadata": {
        "id": "DyyTL7FAAilp"
      },
      "source": [
        "# CNN"
      ]
    },
    {
      "cell_type": "code",
      "execution_count": null,
      "metadata": {
        "id": "CSH1VAipAZ2f"
      },
      "outputs": [],
      "source": [
        "import torch\n",
        "import torch.nn as nn\n",
        "import torch.nn.functional as F\n",
        "import random\n",
        "import torch\n",
        "import torchaudio\n",
        "from evaluate import load\n",
        "\n",
        "class CNN_ASR(nn.Module):\n",
        "    def __init__(self, input_dim, output_dim):\n",
        "        super(CNN_ASR, self).__init__()\n",
        "\n",
        "        self.conv = nn.Sequential(\n",
        "            nn.Conv1d(input_dim, 128, kernel_size=3, stride=2, padding=1),  # Conv1\n",
        "            nn.ReLU(),\n",
        "            nn.Conv1d(128, 256, kernel_size=3, stride=2, padding=1),         # Conv2\n",
        "            nn.ReLU(),\n",
        "            nn.Conv1d(256, 256, kernel_size=3, stride=2, padding=1),         # Conv3\n",
        "            nn.ReLU()\n",
        "        )\n",
        "\n",
        "        self.classifier = nn.Linear(256, output_dim)  # Final dense capa\n",
        "\n",
        "    def forward(self, x):\n",
        "        x = x.transpose(1, 2)  # (batch, time, features) → (batch, features, time)\n",
        "        x = self.conv(x)\n",
        "        x = x.transpose(1, 2)  # (batch, time, features) otra vez\n",
        "        x = self.classifier(x)\n",
        "        return F.log_softmax(x, dim=2)\n",
        "\n",
        "    def get_output_lengths(self, input_lengths):\n",
        "        for _ in range(3):\n",
        "            input_lengths = ((input_lengths + 1) // 2)\n",
        "        return input_lengths\n"
      ]
    },
    {
      "cell_type": "code",
      "execution_count": null,
      "metadata": {
        "id": "pw6OEN7XBKXq"
      },
      "outputs": [],
      "source": [
        "cnn_model = CNN_ASR(input_dim=13, output_dim=len(char_to_index)).to(device)\n",
        "optimizer = torch.optim.Adam(cnn_model.parameters(), lr=0.001)\n",
        "ctc_loss = nn.CTCLoss(blank=0, zero_infinity=True)\n"
      ]
    },
    {
      "cell_type": "markdown",
      "metadata": {
        "id": "SvoVYY6XBA-T"
      },
      "source": [
        "# Funciones de entrenamiento y validación (para CNN + CTC):\n",
        "\n",
        "\n",
        "\n"
      ]
    },
    {
      "cell_type": "code",
      "execution_count": null,
      "metadata": {
        "id": "H7PhSecOBDvA"
      },
      "outputs": [],
      "source": [
        "def train_epoch(loader):\n",
        "    cnn_model.train()\n",
        "    total_loss = 0\n",
        "    for inputs, targets, input_lengths, target_lengths in loader:\n",
        "        inputs, targets = inputs.to(device), targets.to(device)\n",
        "\n",
        "        optimizer.zero_grad()\n",
        "        outputs = cnn_model(inputs)\n",
        "        outputs = outputs.permute(1, 0, 2)\n",
        "\n",
        "        output_lengths = cnn_model.get_output_lengths(input_lengths)\n",
        "\n",
        "        loss = ctc_loss(outputs, targets, output_lengths, target_lengths)\n",
        "        loss.backward()\n",
        "        optimizer.step()\n",
        "\n",
        "        total_loss += loss.item()\n",
        "    return total_loss / len(loader)\n",
        "\n",
        "def validate(loader):\n",
        "    cnn_model.eval()\n",
        "    total_loss = 0\n",
        "    with torch.no_grad():\n",
        "        for inputs, targets, input_lengths, target_lengths in loader:\n",
        "            inputs, targets = inputs.to(device), targets.to(device)\n",
        "            outputs = cnn_model(inputs).permute(1, 0, 2)\n",
        "            output_lengths = cnn_model.get_output_lengths(input_lengths)\n",
        "\n",
        "            loss = ctc_loss(outputs, targets, output_lengths, target_lengths)\n",
        "            total_loss += loss.item()\n",
        "    return total_loss / len(loader)\n"
      ]
    },
    {
      "cell_type": "code",
      "execution_count": null,
      "metadata": {
        "colab": {
          "base_uri": "https://localhost:8080/"
        },
        "id": "at-nlpfCBNbE",
        "outputId": "d4990981-860c-42f7-ddbb-d915943ee72f"
      },
      "outputs": [
        {
          "output_type": "stream",
          "name": "stdout",
          "text": [
            "Epoch 1: Train Loss = 0.5301 | Val Loss = 0.6621\n",
            "Epoch 2: Train Loss = 0.5078 | Val Loss = 0.6573\n",
            "Epoch 3: Train Loss = 0.5152 | Val Loss = 0.6557\n",
            "Epoch 4: Train Loss = 0.5088 | Val Loss = 0.6575\n",
            "Epoch 5: Train Loss = 0.5057 | Val Loss = 0.6607\n",
            "Epoch 6: Train Loss = 0.5028 | Val Loss = 0.6535\n",
            "Epoch 7: Train Loss = 0.5043 | Val Loss = 0.6545\n",
            "Epoch 8: Train Loss = 0.5015 | Val Loss = 0.6539\n",
            "Epoch 9: Train Loss = 0.4966 | Val Loss = 0.6563\n",
            "Epoch 10: Train Loss = 0.4891 | Val Loss = 0.6586\n"
          ]
        }
      ],
      "source": [
        "cnn_train_losses = []\n",
        "cnn_val_losses = []\n",
        "\n",
        "for epoch in range(10):\n",
        "    train_loss = train_epoch(train_loader)\n",
        "    val_loss = validate(valid_loader)\n",
        "\n",
        "    cnn_train_losses.append(train_loss)\n",
        "    cnn_val_losses.append(val_loss)\n",
        "\n",
        "    print(f\"Epoch {epoch+1}: Train Loss = {train_loss:.4f} | Val Loss = {val_loss:.4f}\")\n"
      ]
    },
    {
      "cell_type": "code",
      "execution_count": null,
      "metadata": {
        "colab": {
          "base_uri": "https://localhost:8080/"
        },
        "id": "lci2tdPRCsL7",
        "outputId": "29ee63d6-0cb0-412f-bda8-7029cd849166"
      },
      "outputs": [
        {
          "output_type": "stream",
          "name": "stdout",
          "text": [
            "Modelo CNN guardado.\n"
          ]
        }
      ],
      "source": [
        "torch.save(cnn_model.state_dict(), \"cnn_asr_model.pth\")\n",
        "print(\"Modelo CNN guardado.\")"
      ]
    },
    {
      "cell_type": "code",
      "execution_count": null,
      "metadata": {
        "colab": {
          "base_uri": "https://localhost:8080/",
          "height": 575
        },
        "id": "lsnazkaFDRMx",
        "outputId": "024f34ee-5c52-4d1a-aae4-6ff88c774eb1"
      },
      "outputs": [
        {
          "output_type": "stream",
          "name": "stdout",
          "text": [
            "Texto real:\n",
            "LOVE IS A BABE THEN MIGHT I NOT SAY SO TO GIVE FULL GROWTH TO THAT WHICH STILL DOTH GROW\n",
            "\n",
            "Predicción CNN:\n",
            "<UNK>\n",
            "\n",
            "WER (CNN): 1.0000\n"
          ]
        },
        {
          "output_type": "display_data",
          "data": {
            "text/plain": [
              "<Figure size 640x480 with 1 Axes>"
            ],
            "image/png": "[encoded data removed]"
          },
          "metadata": {}
        }
      ],
      "source": [
        "\n",
        "wer_metric = load(\"wer\")\n",
        "\n",
        "# Greedy decoder (CTC)\n",
        "def greedy_decoder(output, index_to_char):\n",
        "    pred_indices = torch.argmax(output, dim=2)[0].tolist()  # (time,)\n",
        "    pred_text = []\n",
        "    prev_idx = None\n",
        "    for idx in pred_indices:\n",
        "        if idx != prev_idx and idx != 0:  # ignorar BLANK\n",
        "            pred_text.append(index_to_char.get(idx, \"\"))\n",
        "        prev_idx = idx\n",
        "    return \"\".join(pred_text)\n",
        "\n",
        "\n",
        "# Sample aleatorio del dataset\n",
        "sample_idx = random.randint(0, len(test_data) - 1)\n",
        "waveform, sample_rate, true_text = test_data[sample_idx]\n",
        "\n",
        "\n",
        "# Convertir a MFCC\n",
        "transform = torchaudio.transforms.MFCC(\n",
        "    sample_rate=16000,\n",
        "    n_mfcc=13,\n",
        "    melkwargs={\"n_fft\": 400, \"hop_length\": 160, \"n_mels\": 23}\n",
        ")\n",
        "mfcc = transform(waveform).squeeze(0).transpose(0, 1).unsqueeze(0).to(device)  # (1, time, 13)\n",
        "\n",
        "\n",
        "# Inference con CNN\n",
        "cnn_model.eval()\n",
        "with torch.no_grad():\n",
        "    output = cnn_model(mfcc).permute(1, 0, 2)  # (time, batch, classes)\n",
        "\n",
        "\n",
        "# Decodificar predicción\n",
        "pred_text = greedy_decoder(output, index_to_char)\n",
        "\n",
        "\n",
        "# Texto real\n",
        "true_text_clean = \"\".join([c for c in true_text if c in char_to_index])\n",
        "\n",
        "\n",
        "# Calcular WER\n",
        "wer_cnn = wer_metric.compute(predictions=[pred_text.lower()], references=[true_text_clean.lower()])\n",
        "\n",
        "\n",
        "# resultados\n",
        "print(\"Texto real:\")\n",
        "print(true_text_clean)\n",
        "print(\"\\nPredicción CNN:\")\n",
        "print(pred_text)\n",
        "print(f\"\\nWER (CNN): {wer_cnn:.4f}\")\n",
        "\n",
        "# longitudes\n",
        "plt.bar([\"Real\", \"Predicción\"], [len(true_text_clean), len(pred_text)], color=[\"green\", \"orange\"])\n",
        "plt.title(\"Comparación de longitud de transcripción\")\n",
        "plt.ylabel(\"Nº de caracteres\")\n",
        "plt.show()\n"
      ]
    },
    {
      "cell_type": "markdown",
      "source": [
        "fatality"
      ],
      "metadata": {
        "id": "QL0dUvT3sDZQ"
      }
    },
    {
      "cell_type": "markdown",
      "source": [
        "# Mejorar el modelo CNN\n"
      ],
      "metadata": {
        "id": "kscIvhkdqq-8"
      }
    },
    {
      "cell_type": "markdown",
      "source": [
        "Modelo CNN_ASR mejorado con :\n",
        "\n",
        "- Dropout\n",
        "- BatchNorm\n",
        "- Más capas convolucionales\n",
        "- Activaciones ReLU\n"
      ],
      "metadata": {
        "id": "DKBMdvYOr_hT"
      }
    },
    {
      "cell_type": "code",
      "source": [
        "import torch\n",
        "import torch.nn as nn\n",
        "import torch.nn.functional as F\n",
        "\n",
        "class CNN_ASR(nn.Module):\n",
        "    def __init__(self, input_dim, output_dim):\n",
        "        super(CNN_ASR, self).__init__()\n",
        "\n",
        "        self.conv = nn.Sequential(\n",
        "            nn.Conv1d(input_dim, 128, kernel_size=3, stride=1, padding=1),  # Conv1\n",
        "            nn.BatchNorm1d(128),\n",
        "            nn.ReLU(),\n",
        "            nn.Dropout(0.1),\n",
        "\n",
        "            nn.Conv1d(128, 256, kernel_size=3, stride=2, padding=1),        # Conv2\n",
        "            nn.BatchNorm1d(256),\n",
        "            nn.ReLU(),\n",
        "            nn.Dropout(0.1),\n",
        "\n",
        "            nn.Conv1d(256, 256, kernel_size=3, stride=2, padding=1),        # Conv3\n",
        "            nn.BatchNorm1d(256),\n",
        "            nn.ReLU(),\n",
        "            nn.Dropout(0.1),\n",
        "\n",
        "            nn.Conv1d(256, 256, kernel_size=3, stride=2, padding=1),        # Conv4\n",
        "            nn.BatchNorm1d(256),\n",
        "            nn.ReLU(),\n",
        "            nn.Dropout(0.1),\n",
        "        )\n",
        "\n",
        "        self.classifier = nn.Linear(256, output_dim)\n",
        "\n",
        "    def forward(self, x):\n",
        "        x = x.transpose(1, 2)\n",
        "        x = self.conv(x)\n",
        "        x = x.transpose(1, 2)\n",
        "        x = self.classifier(x)          # capa final lineal\n",
        "        return F.log_softmax(x, dim=2)  # output para CTC Loss\n",
        "\n",
        "    def get_output_lengths(self, input_lengths):\n",
        "        for _ in range(3):\n",
        "            input_lengths = ((input_lengths + 1) // 2)\n",
        "        return input_lengths\n"
      ],
      "metadata": {
        "id": "bn8C4fVoqtWe"
      },
      "execution_count": null,
      "outputs": []
    },
    {
      "cell_type": "code",
      "source": [
        "cnn_model = CNN_ASR(input_dim=13, output_dim=len(char_to_index)).to(device)\n",
        "optimizer = torch.optim.Adam(cnn_model.parameters(), lr=0.001)\n",
        "ctc_loss = nn.CTCLoss(blank=0, zero_infinity=True)\n"
      ],
      "metadata": {
        "id": "Ox-zgdLxqqij"
      },
      "execution_count": null,
      "outputs": []
    },
    {
      "cell_type": "code",
      "source": [
        "cnn_train_losses = []\n",
        "cnn_val_losses = []\n",
        "\n",
        "for epoch in range(30):\n",
        "    train_loss = train_epoch(train_loader)\n",
        "    val_loss = validate(valid_loader)\n",
        "\n",
        "    cnn_train_losses.append(train_loss)\n",
        "    cnn_val_losses.append(val_loss)\n",
        "\n",
        "    print(f\"Epoch {epoch+1}: Train Loss = {train_loss:.4f} | Val Loss = {val_loss:.4f}\")\n"
      ],
      "metadata": {
        "colab": {
          "base_uri": "https://localhost:8080/"
        },
        "id": "1ISkDBwDrPlQ",
        "outputId": "1e2ad8b3-85d8-412c-cc35-d90cb2ad3d60"
      },
      "execution_count": null,
      "outputs": [
        {
          "output_type": "stream",
          "name": "stdout",
          "text": [
            "Epoch 1: Train Loss = 0.4526 | Val Loss = 0.4629\n",
            "Epoch 2: Train Loss = 0.4436 | Val Loss = 0.4605\n",
            "Epoch 3: Train Loss = 0.4419 | Val Loss = 0.4619\n",
            "Epoch 4: Train Loss = 0.4419 | Val Loss = 0.4570\n",
            "Epoch 5: Train Loss = 0.4392 | Val Loss = 0.4561\n",
            "Epoch 6: Train Loss = 0.4373 | Val Loss = 0.4577\n",
            "Epoch 7: Train Loss = 0.4380 | Val Loss = 0.4578\n",
            "Epoch 8: Train Loss = 0.4343 | Val Loss = 0.4559\n",
            "Epoch 9: Train Loss = 0.4328 | Val Loss = 0.4554\n",
            "Epoch 10: Train Loss = 0.4346 | Val Loss = 0.4580\n",
            "Epoch 11: Train Loss = 0.4300 | Val Loss = 0.4574\n",
            "Epoch 12: Train Loss = 0.4253 | Val Loss = 0.4565\n",
            "Epoch 13: Train Loss = 0.4222 | Val Loss = 0.4613\n",
            "Epoch 14: Train Loss = 0.4186 | Val Loss = 0.4590\n",
            "Epoch 15: Train Loss = 0.4150 | Val Loss = 0.4561\n",
            "Epoch 16: Train Loss = 0.4106 | Val Loss = 0.4603\n",
            "Epoch 17: Train Loss = 0.4066 | Val Loss = 0.4600\n",
            "Epoch 18: Train Loss = 0.4046 | Val Loss = 0.4647\n",
            "Epoch 19: Train Loss = 0.4018 | Val Loss = 0.4664\n",
            "Epoch 20: Train Loss = 0.3944 | Val Loss = 0.4614\n",
            "Epoch 21: Train Loss = 0.3889 | Val Loss = 0.4705\n",
            "Epoch 22: Train Loss = 0.3858 | Val Loss = 0.4690\n",
            "Epoch 23: Train Loss = 0.3807 | Val Loss = 0.4758\n",
            "Epoch 24: Train Loss = 0.3789 | Val Loss = 0.4693\n",
            "Epoch 25: Train Loss = 0.3724 | Val Loss = 0.4752\n",
            "Epoch 26: Train Loss = 0.3720 | Val Loss = 0.4756\n",
            "Epoch 27: Train Loss = 0.3672 | Val Loss = 0.4724\n",
            "Epoch 28: Train Loss = 0.3603 | Val Loss = 0.4775\n",
            "Epoch 29: Train Loss = 0.3566 | Val Loss = 0.4787\n",
            "Epoch 30: Train Loss = 0.3530 | Val Loss = 0.4868\n"
          ]
        }
      ]
    },
    {
      "cell_type": "code",
      "source": [
        "torch.save(cnn_model.state_dict(), \"cnn_asr_improved.pth\")\n"
      ],
      "metadata": {
        "id": "h5wZEtMOrbMJ"
      },
      "execution_count": null,
      "outputs": []
    },
    {
      "cell_type": "markdown",
      "source": [
        "# Evaluar en el test set\n"
      ],
      "metadata": {
        "id": "D_Ox5E4srpzX"
      }
    },
    {
      "cell_type": "code",
      "source": [
        "cnn_model.eval()\n",
        "with torch.no_grad():\n",
        "    output = cnn_model(mfcc).permute(1, 0, 2)\n",
        "\n",
        "pred_text = greedy_decoder(output, index_to_char)\n",
        "\n",
        "wer = wer_metric.compute(predictions=[pred_text.lower()], references=[true_text.lower()])\n"
      ],
      "metadata": {
        "id": "epGjjz2IreBk"
      },
      "execution_count": null,
      "outputs": []
    },
    {
      "cell_type": "code",
      "source": [
        "import random\n",
        "from torchaudio.transforms import MFCC\n",
        "\n",
        "#  muestra aleatoria del test set\n",
        "sample_idx = random.randint(0, len(test_data) - 1)\n",
        "waveform, sample_rate, true_text = test_data[sample_idx]\n",
        "\n",
        "# Convertir a MFCC\n",
        "transform = MFCC(\n",
        "    sample_rate=16000,\n",
        "    n_mfcc=13,\n",
        "    melkwargs={\"n_fft\": 400, \"hop_length\": 160, \"n_mels\": 23}\n",
        ")\n",
        "mfcc = transform(waveform).squeeze(0).transpose(0, 1).unsqueeze(0).to(device)\n"
      ],
      "metadata": {
        "id": "U9ODX7pIsLwF"
      },
      "execution_count": null,
      "outputs": []
    },
    {
      "cell_type": "code",
      "source": [
        "cnn_model.eval()\n",
        "with torch.no_grad():\n",
        "    output = cnn_model(mfcc).permute(1, 0, 2)  # (time, batch, vocab)\n"
      ],
      "metadata": {
        "id": "vm89ef4ssMtm"
      },
      "execution_count": null,
      "outputs": []
    },
    {
      "cell_type": "code",
      "source": [
        "def greedy_decoder(output, index_to_char):\n",
        "    pred_indices = torch.argmax(output, dim=2)[0].tolist()\n",
        "    pred_text = []\n",
        "    prev_idx = None\n",
        "    for idx in pred_indices:\n",
        "        if idx != prev_idx and idx != 0:\n",
        "            pred_text.append(index_to_char.get(idx, \"\"))\n",
        "        prev_idx = idx\n",
        "    return \"\".join(pred_text)\n",
        "\n",
        "pred_text = greedy_decoder(output, index_to_char)\n"
      ],
      "metadata": {
        "id": "3YSuum1hsNwo"
      },
      "execution_count": null,
      "outputs": []
    },
    {
      "cell_type": "code",
      "source": [
        "cnn_model.load_state_dict(torch.load(\"cnn_asr_improved.pth\"))\n",
        "cnn_model.eval()\n"
      ],
      "metadata": {
        "colab": {
          "base_uri": "https://localhost:8080/"
        },
        "id": "tVGuClTdsWGF",
        "outputId": "126e13a5-94bb-4d32-bce4-fcbc1cb083b3"
      },
      "execution_count": null,
      "outputs": [
        {
          "output_type": "execute_result",
          "data": {
            "text/plain": [
              "CNN_ASR(\n",
              "  (conv): Sequential(\n",
              "    (0): Conv1d(13, 128, kernel_size=(3,), stride=(1,), padding=(1,))\n",
              "    (1): BatchNorm1d(128, eps=1e-05, momentum=0.1, affine=True, track_running_stats=True)\n",
              "    (2): ReLU()\n",
              "    (3): Dropout(p=0.1, inplace=False)\n",
              "    (4): Conv1d(128, 256, kernel_size=(3,), stride=(2,), padding=(1,))\n",
              "    (5): BatchNorm1d(256, eps=1e-05, momentum=0.1, affine=True, track_running_stats=True)\n",
              "    (6): ReLU()\n",
              "    (7): Dropout(p=0.1, inplace=False)\n",
              "    (8): Conv1d(256, 256, kernel_size=(3,), stride=(2,), padding=(1,))\n",
              "    (9): BatchNorm1d(256, eps=1e-05, momentum=0.1, affine=True, track_running_stats=True)\n",
              "    (10): ReLU()\n",
              "    (11): Dropout(p=0.1, inplace=False)\n",
              "    (12): Conv1d(256, 256, kernel_size=(3,), stride=(2,), padding=(1,))\n",
              "    (13): BatchNorm1d(256, eps=1e-05, momentum=0.1, affine=True, track_running_stats=True)\n",
              "    (14): ReLU()\n",
              "    (15): Dropout(p=0.1, inplace=False)\n",
              "  )\n",
              "  (classifier): Linear(in_features=256, out_features=32, bias=True)\n",
              ")"
            ]
          },
          "metadata": {},
          "execution_count": 131
        }
      ]
    },
    {
      "cell_type": "code",
      "source": [
        "import random\n",
        "import torchaudio\n",
        "import torch\n",
        "import matplotlib.pyplot as plt\n",
        "from evaluate import load\n",
        "\n",
        "wer_metric = load(\"wer\")\n",
        "\n",
        "sample_idx = random.randint(0, len(test_data) - 1)\n",
        "waveform, sample_rate, true_text = test_data[sample_idx]\n",
        "\n",
        "transform = torchaudio.transforms.MFCC(\n",
        "    sample_rate=16000,\n",
        "    n_mfcc=13,\n",
        "    melkwargs={\"n_fft\": 400, \"hop_length\": 160, \"n_mels\": 23}\n",
        ")\n",
        "mfcc = transform(waveform).squeeze(0).transpose(0, 1).unsqueeze(0).to(device)\n",
        "mfcc = (mfcc - mfcc.mean()) / (mfcc.std() + 1e-5)\n",
        "\n",
        "\n",
        "#  Predicción\n",
        "cnn_model.eval()\n",
        "with torch.no_grad():\n",
        "    output = cnn_model(mfcc).permute(1, 0, 2)  # (time, batch, vocab)\n",
        "\n",
        "# Greedy decoder (CTC)\n",
        "def greedy_decoder(output, index_to_char):\n",
        "    pred_indices = torch.argmax(output, dim=2)[0].tolist()\n",
        "    pred_text = []\n",
        "    prev_idx = None\n",
        "    for idx in pred_indices:\n",
        "        if idx != prev_idx and idx != 0:  # 0 = <BLANK>\n",
        "            pred_text.append(index_to_char.get(idx, \"\"))\n",
        "        prev_idx = idx\n",
        "    return \"\".join(pred_text)\n",
        "\n",
        "pred_text = greedy_decoder(output, index_to_char)\n",
        "\n",
        "true_text_clean = \"\".join([c for c in true_text if c in char_to_index])\n",
        "\n",
        "# Calcular WER\n",
        "wer = wer_metric.compute(predictions=[pred_text.lower()], references=[true_text_clean.lower()])\n",
        "\n",
        "print(\"🎙️ Texto real:\")\n",
        "print(true_text_clean)\n",
        "\n",
        "print(\"\\nTexto predicho (CNN):\")\n",
        "print(pred_text)\n",
        "\n",
        "print(f\"\\nWER: {wer:.4f}\")\n",
        "\n",
        "# longitud\n",
        "plt.bar([\"Real\", \"Predicho\"], [len(true_text_clean), len(pred_text)], color=[\"green\", \"orange\"])\n",
        "plt.title(\"Comparación de longitud de transcripción\")\n",
        "plt.ylabel(\"Nº de caracteres\")\n",
        "plt.show()\n",
        "print(\"Indices predichos:\", torch.argmax(output, dim=2)[0][:50].tolist())\n"
      ],
      "metadata": {
        "colab": {
          "base_uri": "https://localhost:8080/",
          "height": 592
        },
        "id": "iRKolMyOssGl",
        "outputId": "06d0c9f9-a772-4d2c-8506-3c419ac73d85"
      },
      "execution_count": null,
      "outputs": [
        {
          "output_type": "stream",
          "name": "stdout",
          "text": [
            "🎙️ Texto real:\n",
            "VENICE\n",
            "\n",
            "🧠 Texto predicho (CNN):\n",
            " \n",
            "\n",
            "📏 WER: 1.0000\n"
          ]
        },
        {
          "output_type": "display_data",
          "data": {
            "text/plain": [
              "<Figure size 640x480 with 1 Axes>"
            ],
            "image/png": "[encoded data removed]"
          },
          "metadata": {}
        },
        {
          "output_type": "stream",
          "name": "stdout",
          "text": [
            "Indices predichos: [4]\n"
          ]
        }
      ]
    },
    {
      "cell_type": "code",
      "source": [
        "with torch.no_grad():\n",
        "    output = cnn_model(mfcc).permute(1, 0, 2)\n",
        "    print(\"Logits promedio (por clase):\", output.mean(dim=[0, 1]))\n"
      ],
      "metadata": {
        "colab": {
          "base_uri": "https://localhost:8080/"
        },
        "id": "1t3akod3vWGi",
        "outputId": "d2edd1dc-08ae-41de-b0e2-eaa8ce22a7a3"
      },
      "execution_count": null,
      "outputs": [
        {
          "output_type": "stream",
          "name": "stdout",
          "text": [
            "Logits promedio (por clase): tensor([ -4.0324, -18.4268,  -4.9425, -24.0010,  -0.6828, -11.3168,  -3.9675,\n",
            "         -7.0404,  -5.3091,  -5.1422,  -3.5777,  -4.8770,  -4.9469,  -2.0277,\n",
            "         -2.5708, -14.5284,  -6.6540,  -5.8470,  -5.5461,  -3.6222,  -3.5249,\n",
            "         -5.9549, -12.2530,  -4.9314,  -3.4557,  -3.5568,  -3.9798,  -8.1676,\n",
            "         -6.0149, -10.7996,  -5.8822,  -9.9972], device='cuda:0')\n"
          ]
        }
      ]
    },
    {
      "cell_type": "code",
      "source": [
        "import torch\n",
        "import torch.nn as nn\n",
        "import torch.nn.functional as F\n",
        "\n",
        "class Wav2LetterCNN(nn.Module):\n",
        "    def __init__(self, input_dim=40, num_classes=32):\n",
        "        super(Wav2LetterCNN, self).__init__()\n",
        "\n",
        "        self.conv_layers = nn.Sequential(\n",
        "            nn.Conv1d(input_dim, 250, kernel_size=48, stride=2, padding=24),\n",
        "            nn.BatchNorm1d(250),\n",
        "            nn.GELU(),\n",
        "\n",
        "            *[\n",
        "                nn.Sequential(\n",
        "                    nn.Conv1d(250, 250, kernel_size=7, stride=1, padding=3),\n",
        "                    nn.BatchNorm1d(250),\n",
        "                    nn.GELU()\n",
        "                ) for _ in range(7)\n",
        "            ],\n",
        "\n",
        "            nn.Conv1d(250, 512, kernel_size=32, stride=1, padding=16),\n",
        "            nn.BatchNorm1d(512),\n",
        "            nn.GELU(),\n",
        "\n",
        "            nn.Conv1d(512, 512, kernel_size=1),\n",
        "            nn.BatchNorm1d(512),\n",
        "            nn.GELU(),\n",
        "\n",
        "            nn.Conv1d(512, num_classes, kernel_size=1)\n",
        "        )\n",
        "\n",
        "    def forward(self, x):\n",
        "        x = x.transpose(1, 2)\n",
        "        x = self.conv_layers(x)\n",
        "        x = x.transpose(1, 2)\n",
        "        return F.log_softmax(x, dim=2)\n",
        "\n",
        "    def get_output_lengths(self, input_lengths):\n",
        "        return (input_lengths + 1) // 2\n"
      ],
      "metadata": {
        "id": "20LT9ZNlwOCS"
      },
      "execution_count": null,
      "outputs": []
    },
    {
      "cell_type": "code",
      "source": [
        "model = Wav2LetterCNN(input_dim=40, num_classes=len(char_to_index)).to(device)\n",
        "optimizer = torch.optim.Adam(model.parameters(), lr=0.001)\n",
        "ctc_loss = nn.CTCLoss(blank=0, zero_infinity=True)\n"
      ],
      "metadata": {
        "id": "doU4jAbKwUk7"
      },
      "execution_count": null,
      "outputs": []
    },
    {
      "cell_type": "code",
      "source": [
        "# Funciones de entrenamiento\n",
        "def train_epoch(loader):\n",
        "    model.train()\n",
        "    total_loss = 0\n",
        "    for inputs, targets, input_lengths, target_lengths in loader:\n",
        "        inputs, targets = inputs.to(device), targets.to(device)\n",
        "\n",
        "        optimizer.zero_grad()\n",
        "        outputs = model(inputs)\n",
        "        outputs = outputs.permute(1, 0, 2)\n",
        "\n",
        "        output_lengths = model.get_output_lengths(input_lengths)\n",
        "        loss = ctc_loss(outputs, targets, output_lengths, target_lengths)\n",
        "        loss.backward()\n",
        "        optimizer.step()\n",
        "\n",
        "        total_loss += loss.item()\n",
        "    return total_loss / len(loader)\n",
        "\n",
        "def validate(loader):\n",
        "    model.eval()\n",
        "    total_loss = 0\n",
        "    with torch.no_grad():\n",
        "        for inputs, targets, input_lengths, target_lengths in loader:\n",
        "            inputs, targets = inputs.to(device), targets.to(device)\n",
        "            outputs = model(inputs).permute(1, 0, 2)\n",
        "            output_lengths = model.get_output_lengths(input_lengths)\n",
        "            loss = ctc_loss(outputs, targets, output_lengths, target_lengths)\n",
        "            total_loss += loss.item()\n",
        "    return total_loss / len(loader)\n"
      ],
      "metadata": {
        "id": "4JGtzjnawXky"
      },
      "execution_count": null,
      "outputs": []
    },
    {
      "cell_type": "code",
      "source": [
        "import torchaudio\n",
        "from torchaudio.transforms import MFCC\n",
        "\n",
        "mfcc_transform = MFCC(\n",
        "    sample_rate=16000,\n",
        "    n_mfcc=40,\n",
        "    melkwargs={\"n_fft\": 400, \"hop_length\": 160, \"n_mels\": 40}\n",
        ")\n",
        "\n",
        "import torch\n",
        "from torch.utils.data import Dataset\n",
        "\n",
        "class SpeechDataset(Dataset):\n",
        "    def __init__(self, data, transform, char_to_index):\n",
        "        self.data = data\n",
        "        self.transform = transform\n",
        "        self.char_to_index = char_to_index\n",
        "\n",
        "    def __len__(self):\n",
        "        return len(self.data)\n",
        "\n",
        "    def __getitem__(self, idx):\n",
        "        waveform, sample_rate, transcript = self.data[idx]\n",
        "\n",
        "        if waveform.shape[0] > 1:\n",
        "            waveform = waveform.mean(dim=0, keepdim=True)\n",
        "        if sample_rate != 16000:\n",
        "            resampler = torchaudio.transforms.Resample(orig_freq=sample_rate, new_freq=16000)\n",
        "            waveform = resampler(waveform)\n",
        "\n",
        "        mfcc = self.transform(waveform).squeeze(0).transpose(0, 1)  # (time, n_mfcc)\n",
        "        target = [self.char_to_index[c] for c in transcript.upper() if c in self.char_to_index]\n",
        "\n",
        "        return mfcc, torch.tensor(target, dtype=torch.long), mfcc.shape[0], len(target)\n",
        "\n",
        "\n"
      ],
      "metadata": {
        "id": "aFqzwpvG0DjG"
      },
      "execution_count": null,
      "outputs": []
    },
    {
      "cell_type": "code",
      "source": [
        "def collate_fn(batch):\n",
        "    batch.sort(key=lambda x: x[2], reverse=True)\n",
        "    mfccs, targets, input_lengths, target_lengths = zip(*batch)\n",
        "\n",
        "    mfccs_padded = nn.utils.rnn.pad_sequence(mfccs, batch_first=True)\n",
        "    targets_concat = torch.cat(targets)\n",
        "\n",
        "    return mfccs_padded, targets_concat, torch.tensor(input_lengths), torch.tensor(target_lengths)\n"
      ],
      "metadata": {
        "id": "KQYoL2nt0Hhp"
      },
      "execution_count": null,
      "outputs": []
    },
    {
      "cell_type": "code",
      "source": [
        "# Dataset y DataLoaders\n",
        "train_dataset = SpeechDataset(train_data, mfcc_transform, char_to_index)\n",
        "valid_dataset = SpeechDataset(valid_data, mfcc_transform, char_to_index)\n",
        "\n",
        "train_loader = DataLoader(train_dataset, batch_size=8, shuffle=True, collate_fn=collate_fn)\n",
        "valid_loader = DataLoader(valid_dataset, batch_size=8, shuffle=False, collate_fn=collate_fn)\n"
      ],
      "metadata": {
        "id": "QKbFGmKt0JAp"
      },
      "execution_count": null,
      "outputs": []
    },
    {
      "cell_type": "code",
      "source": [
        "# Entrenamiento\n",
        "train_losses, val_losses = [], []\n",
        "for epoch in range(15):\n",
        "    train_loss = train_epoch(train_loader)\n",
        "    val_loss = validate(valid_loader)\n",
        "\n",
        "    train_losses.append(train_loss)\n",
        "    val_losses.append(val_loss)\n",
        "\n",
        "    print(f\"Epoch {epoch+1}: Train Loss = {train_loss:.4f} | Val Loss = {val_loss:.4f}\")\n"
      ],
      "metadata": {
        "colab": {
          "base_uri": "https://localhost:8080/"
        },
        "id": "joCegJZxwY4a",
        "outputId": "58ef24e6-fd38-4b5f-f0b4-f8a8ccdf41e5"
      },
      "execution_count": null,
      "outputs": [
        {
          "output_type": "stream",
          "name": "stdout",
          "text": [
            "Epoch 1: Train Loss = 2.8030 | Val Loss = 2.6394\n",
            "Epoch 2: Train Loss = 2.5285 | Val Loss = 2.5291\n",
            "Epoch 3: Train Loss = 2.2000 | Val Loss = 2.0837\n",
            "Epoch 4: Train Loss = 1.6343 | Val Loss = 1.6564\n",
            "Epoch 5: Train Loss = 1.2667 | Val Loss = 1.4567\n",
            "Epoch 6: Train Loss = 1.0297 | Val Loss = 1.3362\n",
            "Epoch 7: Train Loss = 0.8572 | Val Loss = 1.2165\n",
            "Epoch 8: Train Loss = 0.7173 | Val Loss = 1.1886\n",
            "Epoch 9: Train Loss = 0.5943 | Val Loss = 1.1116\n",
            "Epoch 10: Train Loss = 0.4935 | Val Loss = 1.1243\n",
            "Epoch 11: Train Loss = 0.4041 | Val Loss = 1.1698\n",
            "Epoch 12: Train Loss = 0.3332 | Val Loss = 1.1950\n",
            "Epoch 13: Train Loss = 0.2619 | Val Loss = 1.3663\n",
            "Epoch 14: Train Loss = 0.2114 | Val Loss = 1.3348\n",
            "Epoch 15: Train Loss = 0.1731 | Val Loss = 1.4711\n"
          ]
        }
      ]
    },
    {
      "cell_type": "code",
      "source": [
        "\n",
        "# Guardar modelo\n",
        "torch.save(model.state_dict(), \"wav2letter_cnn_model.pth\")\n",
        "print(\"Modelo Wav2Letter guardado.\")\n"
      ],
      "metadata": {
        "colab": {
          "base_uri": "https://localhost:8080/"
        },
        "id": "B0KxPFzpwaAG",
        "outputId": "2e723082-556b-4b46-9368-8defe15a09e9"
      },
      "execution_count": null,
      "outputs": [
        {
          "output_type": "stream",
          "name": "stdout",
          "text": [
            "Modelo Wav2Letter guardado.\n"
          ]
        }
      ]
    },
    {
      "cell_type": "markdown",
      "source": [
        "# 1. Cargar modelo y definir decoder\n"
      ],
      "metadata": {
        "id": "PhWNWPGLwvnC"
      }
    },
    {
      "cell_type": "code",
      "source": [
        "import torch\n",
        "from evaluate import load\n",
        "\n",
        "# Cargar el modelo entrenado\n",
        "wav2letter_model = Wav2LetterCNN(input_dim=40, num_classes=len(char_to_index)).to(device)\n",
        "wav2letter_model.load_state_dict(torch.load(\"wav2letter_cnn_model.pth\"))\n",
        "wav2letter_model.eval()\n",
        "\n",
        "wer_metric = load(\"wer\")\n",
        "\n",
        "# Decoder CTC greedy\n",
        "def greedy_decoder(output, index_to_char):\n",
        "    pred_indices = torch.argmax(output, dim=2)[:, 0].tolist()\n",
        "    pred_text = []\n",
        "    prev_idx = None\n",
        "    for idx in pred_indices:\n",
        "        if idx != prev_idx and idx != 0:  # 0 = <BLANK>\n",
        "            pred_text.append(index_to_char.get(idx, \"\"))\n",
        "        prev_idx = idx\n",
        "    return \"\".join(pred_text)\n"
      ],
      "metadata": {
        "id": "2qqWP-czwqYQ"
      },
      "execution_count": null,
      "outputs": []
    },
    {
      "cell_type": "markdown",
      "source": [
        "# 2. Seleccionar muestra del test set y preparar MFCCs\n",
        "\n"
      ],
      "metadata": {
        "id": "njcRYDs6wt-M"
      }
    },
    {
      "cell_type": "code",
      "source": [
        "import random\n",
        "import torchaudio\n",
        "\n",
        "# muestra aleatoria\n",
        "sample_idx = random.randint(0, len(test_data)-1)\n",
        "waveform, sample_rate, true_text = test_data[sample_idx]\n",
        "\n",
        "# mono y 16kHz\n",
        "if waveform.shape[0] > 1:\n",
        "    waveform = waveform.mean(dim=0, keepdim=True)\n",
        "if sample_rate != 16000:\n",
        "    waveform = torchaudio.transforms.Resample(orig_freq=sample_rate, new_freq=16000)(waveform)\n",
        "\n",
        "# Convertir a MFCCs\n",
        "transform = torchaudio.transforms.MFCC(\n",
        "    sample_rate=16000,\n",
        "    n_mfcc=40,\n",
        "    melkwargs={\"n_fft\": 400, \"hop_length\": 160, \"n_mels\": 40}\n",
        ")\n",
        "mfcc = transform(waveform).squeeze(0).transpose(0, 1).unsqueeze(0).to(device)\n"
      ],
      "metadata": {
        "id": "ggkzX-NOws2N"
      },
      "execution_count": null,
      "outputs": []
    },
    {
      "cell_type": "markdown",
      "source": [
        "# 3. Inferencia + evaluación\n"
      ],
      "metadata": {
        "id": "iUb9tSE4wyGg"
      }
    },
    {
      "cell_type": "code",
      "source": [
        "with torch.no_grad():\n",
        "    output = wav2letter_model(mfcc).permute(1, 0, 2)\n",
        "\n",
        "# Decodificar predicción\n",
        "pred_text = greedy_decoder(output, index_to_char)\n",
        "\n",
        "# Limpiar texto real\n",
        "true_text_clean = \"\".join([c for c in true_text if c in char_to_index])\n",
        "\n",
        "# Calcular WER\n",
        "wer_wav2letter = wer_metric.compute(predictions=[pred_text.lower()], references=[true_text_clean.lower()])\n",
        "\n",
        "print(\"Texto real:\")\n",
        "print(true_text_clean)\n",
        "\n",
        "print(\"\\nPredicción (Wav2Letter CNN):\")\n",
        "print(pred_text)\n",
        "\n",
        "print(f\"\\nWER: {wer_wav2letter:.4f}\")\n",
        "\n"
      ],
      "metadata": {
        "colab": {
          "base_uri": "https://localhost:8080/"
        },
        "id": "lOTPmmyCwzlM",
        "outputId": "530852cf-8cfe-4143-c0c6-9761bcf5d46e"
      },
      "execution_count": null,
      "outputs": [
        {
          "output_type": "stream",
          "name": "stdout",
          "text": [
            "Texto real:\n",
            "HAM TO BE OR NOT TO BE\n",
            "\n",
            "Predicción (Wav2Letter CNN):\n",
            "AM TO BE OR NOT TO BE\n",
            "\n",
            "WER: 0.1429\n"
          ]
        }
      ]
    },
    {
      "cell_type": "code",
      "source": [
        "import gradio as gr\n",
        "import torchaudio\n",
        "import torch\n",
        "\n",
        "def transcribe_with_wav2letter(audio_path):\n",
        "    waveform, sr = torchaudio.load(audio_path)\n",
        "\n",
        "    if waveform.shape[0] > 1:\n",
        "        waveform = waveform.mean(dim=0, keepdim=True)\n",
        "    if sr != 16000:\n",
        "        waveform = torchaudio.transforms.Resample(sr, 16000)(waveform)\n",
        "\n",
        "    transform = torchaudio.transforms.MFCC(\n",
        "        sample_rate=16000,\n",
        "        n_mfcc=40,\n",
        "        melkwargs={\"n_fft\": 400, \"hop_length\": 160, \"n_mels\": 40}\n",
        "    )\n",
        "    mfcc = transform(waveform).squeeze(0).transpose(0, 1).unsqueeze(0).to(device)\n",
        "\n",
        "    with torch.no_grad():\n",
        "        output = wav2letter_model(mfcc).permute(1, 0, 2)\n",
        "    pred_text = greedy_decoder(output, index_to_char)\n",
        "    return pred_text\n",
        "\n",
        "# Gradio\n",
        "gr.Interface(\n",
        "    fn=transcribe_with_wav2letter,\n",
        "    inputs=gr.Audio(label=\"Sube tu audio WAV\", type=\"filepath\"),\n",
        "    outputs=gr.Textbox(label=\"Transcripción\"),\n",
        "    title=\"Reconocimiento de Voz - Wav2LetterCNN\",\n",
        "    description=\"Demo de transcripción de audio usando CNN con CTC (modelo Wav2Letter).\"\n",
        ").launch(debug=True, share=True)\n"
      ],
      "metadata": {
        "colab": {
          "base_uri": "https://localhost:8080/",
          "height": 646
        },
        "id": "pI4ForZI2q4-",
        "outputId": "909e39d9-3763-4198-edaa-9a031f924d43"
      },
      "execution_count": null,
      "outputs": [
        {
          "output_type": "stream",
          "name": "stdout",
          "text": [
            "Colab notebook detected. This cell will run indefinitely so that you can see errors and logs. To turn off, set debug=False in launch().\n",
            "* Running on public URL: https://10f9fc40a84759d960.gradio.live\n",
            "\n",
            "This share link expires in 72 hours. For free permanent hosting and GPU upgrades, run `gradio deploy` from the terminal in the working directory to deploy to Hugging Face Spaces (https://huggingface.co/spaces)\n"
          ]
        },
        {
          "output_type": "display_data",
          "data": {
            "text/plain": [
              "<IPython.core.display.HTML object>"
            ],
            "text/html": [
              "<div><iframe src=\"https://10f9fc40a84759d960.gradio.live\" width=\"100%\" height=\"500\" allow=\"autoplay; camera; microphone; clipboard-read; clipboard-write;\" frameborder=\"0\" allowfullscreen></iframe></div>"
            ]
          },
          "metadata": {}
        },
        {
          "output_type": "stream",
          "name": "stdout",
          "text": [
            "Keyboard interruption in main thread... closing server.\n",
            "Killing tunnel 127.0.0.1:7860 <> https://10f9fc40a84759d960.gradio.live\n"
          ]
        },
        {
          "output_type": "execute_result",
          "data": {
            "text/plain": []
          },
          "metadata": {},
          "execution_count": 255
        }
      ]
    },
    {
      "cell_type": "code",
      "source": [
        "import matplotlib.pyplot as plt\n",
        "\n",
        "wer_values = [wer_rnn_simple, wer_rnn_adv, wer_cnn, wer_wav2letter, wer_score]\n",
        "model_names = [\"RNN Simple\", \"RNN Mejorado\", \"CNN Mejorado\", \"CNN Wav2Letter\", \"Transformer Wav2Vec2 Fine-Tuned\"]\n",
        "\n",
        "colors = [\"orange\", \"blue\", \"purple\", \"teal\", \"green\"]\n",
        "\n",
        "plt.figure(figsize=(8, 5))\n",
        "bars = plt.bar(model_names, wer_values, color=colors)\n",
        "plt.title(\"Comparativa final del WER\")\n",
        "plt.ylabel(\"WER\")\n",
        "plt.ylim(0, 1.25)\n",
        "\n",
        "for bar, value in zip(bars, wer_values):\n",
        "    plt.text(bar.get_x() + bar.get_width() / 2, value + 0.02, f\"{value:.2f}\", ha='center', fontsize=10)\n",
        "\n",
        "plt.xticks(rotation=20)\n",
        "plt.grid(axis=\"y\", linestyle=\"--\", alpha=0.5)\n",
        "plt.tight_layout()\n",
        "plt.show()\n"
      ],
      "metadata": {
        "colab": {
          "base_uri": "https://localhost:8080/",
          "height": 507
        },
        "id": "Dnotwrnf5TS9",
        "outputId": "1ee0ab1c-8cdf-4229-d735-571b7677adf3"
      },
      "execution_count": null,
      "outputs": [
        {
          "output_type": "display_data",
          "data": {
            "text/plain": [
              "<Figure size 800x500 with 1 Axes>"
            ],
            "image/png": "[encoded data removed]"
          },
          "metadata": {}
        }
      ]
    },
    {
      "cell_type": "code",
      "source": [
        "plt.figure(figsize=(10, 6))\n",
        "plt.plot(rnn_simple_train_losses, label=\"RNN Simple - Train\")\n",
        "plt.plot(rnn_simple_val_losses, label=\"RNN Simple - Val\")\n",
        "plt.plot(rnn_adv_train_losses, label=\"RNN Mejorado - Train\")\n",
        "plt.plot(rnn_adv_val_losses, label=\"RNN Mejorado - Val\")\n",
        "plt.plot(cnn_train_losses, label=\"CNN Mejorado - Train\")\n",
        "plt.plot(cnn_val_losses, label=\"CNN Mejorado - Val\")\n",
        "plt.xlabel(\"Época\")\n",
        "plt.ylabel(\"CTC Loss\")\n",
        "plt.title(\"Curvas de pérdida por modelo\")\n",
        "plt.legend()\n",
        "plt.grid(True)\n",
        "plt.show()\n"
      ],
      "metadata": {
        "colab": {
          "base_uri": "https://localhost:8080/",
          "height": 567
        },
        "id": "ZkH6gMMc5zg6",
        "outputId": "1da232ce-c02c-4861-c47a-73c8a3cefa41"
      },
      "execution_count": null,
      "outputs": [
        {
          "output_type": "display_data",
          "data": {
            "text/plain": [
              "<Figure size 1000x600 with 1 Axes>"
            ],
            "image/png": "[encoded data removed]"
          },
          "metadata": {}
        }
      ]
    },
    {
      "cell_type": "code",
      "source": [
        "model_names = [\"Real\", \"RNN Simple\", \"RNN Mejorado\", \"CNN\", \"Wav2Vec2\"]\n",
        "lengths = [len(true_text), len(pred_text_rnn_simple), len(pred_text_rnn_adv), len(pred_text), len(predicted_text)]\n",
        "\n",
        "plt.bar(model_names, lengths, color=[\"green\", \"orange\", \"blue\", \"purple\", \"gray\"])\n",
        "plt.title(\"Longitud de transcripción por modelo\")\n",
        "plt.ylabel(\"Número de caracteres\")\n",
        "plt.show()\n"
      ],
      "metadata": {
        "colab": {
          "base_uri": "https://localhost:8080/",
          "height": 453
        },
        "id": "fsgeXu5Z6Jnf",
        "outputId": "b400eca1-4cd6-461a-e646-b3f9b1a273bd"
      },
      "execution_count": null,
      "outputs": [
        {
          "output_type": "display_data",
          "data": {
            "text/plain": [
              "<Figure size 640x480 with 1 Axes>"
            ],
            "image/png": "[encoded data removed]"
          },
          "metadata": {}
        }
      ]
    },
    {
      "cell_type": "code",
      "source": [
        "def count_parameters(model):\n",
        "    return sum(p.numel() for p in model.parameters() if p.requires_grad)\n",
        "\n",
        "sizes = [\n",
        "    count_parameters(rnn_simple),\n",
        "    count_parameters(rnn_best),\n",
        "    count_parameters(cnn_model),\n",
        "    count_parameters(wav2vec2_model)\n",
        "]\n",
        "\n",
        "plt.bar([\"RNN Simple\", \"RNN Mejorado\", \"CNN\", \"Wav2Vec2\"], sizes)\n",
        "plt.ylabel(\"Número de parámetros\")\n",
        "plt.title(\"Tamaño de los modelos\")\n",
        "plt.show()\n"
      ],
      "metadata": {
        "colab": {
          "base_uri": "https://localhost:8080/",
          "height": 452
        },
        "id": "JyflKrqC6bZA",
        "outputId": "02f8e86a-9836-497c-a117-655c4e551578"
      },
      "execution_count": null,
      "outputs": [
        {
          "output_type": "display_data",
          "data": {
            "text/plain": [
              "<Figure size 640x480 with 1 Axes>"
            ],
            "image/png": "[encoded data removed]"
          },
          "metadata": {}
        }
      ]
    }
  ],
  "metadata": {
    "accelerator": "GPU",
    "colab": {
      "gpuType": "A100",
      "machine_shape": "hm",
      "provenance": []
    },
    "kernelspec": {
      "display_name": "Python 3",
      "name": "python3"
    },
    "language_info": {
      "name": "python"
    },
    "widgets": {
      "application/vnd.jupyter.widget-state+json": {
        "a1fcea1173d94146b06d2edb5361622f": {
          "model_module": "@jupyter-widgets/controls",
          "model_name": "HBoxModel",
          "model_module_version": "1.5.0",
          "state": {
            "_dom_classes": [],
            "_model_module": "@jupyter-widgets/controls",
            "_model_module_version": "1.5.0",
            "_model_name": "HBoxModel",
            "_view_count": null,
            "_view_module": "@jupyter-widgets/controls",
            "_view_module_version": "1.5.0",
            "_view_name": "HBoxView",
            "box_style": "",
            "children": [
              "IPY_MODEL_cb4563a45ffe41f6888b7af0c91d7e33",
              "IPY_MODEL_b160222ae40a42358e55f3d0ad728ffa",
              "IPY_MODEL_3e51c276ccf444f58319a1d044b66dcb"
            ],
            "layout": "IPY_MODEL_4a90d2515e9b46ebb8e0ef1d65530d84"
          }
        },
        "cb4563a45ffe41f6888b7af0c91d7e33": {
          "model_module": "@jupyter-widgets/controls",
          "model_name": "HTMLModel",
          "model_module_version": "1.5.0",
          "state": {
            "_dom_classes": [],
            "_model_module": "@jupyter-widgets/controls",
            "_model_module_version": "1.5.0",
            "_model_name": "HTMLModel",
            "_view_count": null,
            "_view_module": "@jupyter-widgets/controls",
            "_view_module_version": "1.5.0",
            "_view_name": "HTMLView",
            "description": "",
            "description_tooltip": null,
            "layout": "IPY_MODEL_9c733a911f00492cac63eb83184fed88",
            "placeholder": "​",
            "style": "IPY_MODEL_cdeb9b3b1fda40629d7594eef67c76c4",
            "value": "Generating train split: "
          }
        },
        "b160222ae40a42358e55f3d0ad728ffa": {
          "model_module": "@jupyter-widgets/controls",
          "model_name": "FloatProgressModel",
          "model_module_version": "1.5.0",
          "state": {
            "_dom_classes": [],
            "_model_module": "@jupyter-widgets/controls",
            "_model_module_version": "1.5.0",
            "_model_name": "FloatProgressModel",
            "_view_count": null,
            "_view_module": "@jupyter-widgets/controls",
            "_view_module_version": "1.5.0",
            "_view_name": "ProgressView",
            "bar_style": "success",
            "description": "",
            "description_tooltip": null,
            "layout": "IPY_MODEL_c3fbedfbf74b42c7a48f271fc06ba744",
            "max": 1,
            "min": 0,
            "orientation": "horizontal",
            "style": "IPY_MODEL_4de4c258219f45d988ee5c42ce0ec71e",
            "value": 1
          }
        },
        "3e51c276ccf444f58319a1d044b66dcb": {
          "model_module": "@jupyter-widgets/controls",
          "model_name": "HTMLModel",
          "model_module_version": "1.5.0",
          "state": {
            "_dom_classes": [],
            "_model_module": "@jupyter-widgets/controls",
            "_model_module_version": "1.5.0",
            "_model_name": "HTMLModel",
            "_view_count": null,
            "_view_module": "@jupyter-widgets/controls",
            "_view_module_version": "1.5.0",
            "_view_name": "HTMLView",
            "description": "",
            "description_tooltip": null,
            "layout": "IPY_MODEL_ef4e00dc7a5642c4b41678302e906b0f",
            "placeholder": "​",
            "style": "IPY_MODEL_febb8ff6de1746cc9da30ea173578732",
            "value": " 4178/0 [00:00&lt;00:00, 82019.54 examples/s]"
          }
        },
        "4a90d2515e9b46ebb8e0ef1d65530d84": {
          "model_module": "@jupyter-widgets/base",
          "model_name": "LayoutModel",
          "model_module_version": "1.2.0",
          "state": {
            "_model_module": "@jupyter-widgets/base",
            "_model_module_version": "1.2.0",
            "_model_name": "LayoutModel",
            "_view_count": null,
            "_view_module": "@jupyter-widgets/base",
            "_view_module_version": "1.2.0",
            "_view_name": "LayoutView",
            "align_content": null,
            "align_items": null,
            "align_self": null,
            "border": null,
            "bottom": null,
            "display": null,
            "flex": null,
            "flex_flow": null,
            "grid_area": null,
            "grid_auto_columns": null,
            "grid_auto_flow": null,
            "grid_auto_rows": null,
            "grid_column": null,
            "grid_gap": null,
            "grid_row": null,
            "grid_template_areas": null,
            "grid_template_columns": null,
            "grid_template_rows": null,
            "height": null,
            "justify_content": null,
            "justify_items": null,
            "left": null,
            "margin": null,
            "max_height": null,
            "max_width": null,
            "min_height": null,
            "min_width": null,
            "object_fit": null,
            "object_position": null,
            "order": null,
            "overflow": null,
            "overflow_x": null,
            "overflow_y": null,
            "padding": null,
            "right": null,
            "top": null,
            "visibility": null,
            "width": null
          }
        },
        "9c733a911f00492cac63eb83184fed88": {
          "model_module": "@jupyter-widgets/base",
          "model_name": "LayoutModel",
          "model_module_version": "1.2.0",
          "state": {
            "_model_module": "@jupyter-widgets/base",
            "_model_module_version": "1.2.0",
            "_model_name": "LayoutModel",
            "_view_count": null,
            "_view_module": "@jupyter-widgets/base",
            "_view_module_version": "1.2.0",
            "_view_name": "LayoutView",
            "align_content": null,
            "align_items": null,
            "align_self": null,
            "border": null,
            "bottom": null,
            "display": null,
            "flex": null,
            "flex_flow": null,
            "grid_area": null,
            "grid_auto_columns": null,
            "grid_auto_flow": null,
            "grid_auto_rows": null,
            "grid_column": null,
            "grid_gap": null,
            "grid_row": null,
            "grid_template_areas": null,
            "grid_template_columns": null,
            "grid_template_rows": null,
            "height": null,
            "justify_content": null,
            "justify_items": null,
            "left": null,
            "margin": null,
            "max_height": null,
            "max_width": null,
            "min_height": null,
            "min_width": null,
            "object_fit": null,
            "object_position": null,
            "order": null,
            "overflow": null,
            "overflow_x": null,
            "overflow_y": null,
            "padding": null,
            "right": null,
            "top": null,
            "visibility": null,
            "width": null
          }
        },
        "cdeb9b3b1fda40629d7594eef67c76c4": {
          "model_module": "@jupyter-widgets/controls",
          "model_name": "DescriptionStyleModel",
          "model_module_version": "1.5.0",
          "state": {
            "_model_module": "@jupyter-widgets/controls",
            "_model_module_version": "1.5.0",
            "_model_name": "DescriptionStyleModel",
            "_view_count": null,
            "_view_module": "@jupyter-widgets/base",
            "_view_module_version": "1.2.0",
            "_view_name": "StyleView",
            "description_width": ""
          }
        },
        "c3fbedfbf74b42c7a48f271fc06ba744": {
          "model_module": "@jupyter-widgets/base",
          "model_name": "LayoutModel",
          "model_module_version": "1.2.0",
          "state": {
            "_model_module": "@jupyter-widgets/base",
            "_model_module_version": "1.2.0",
            "_model_name": "LayoutModel",
            "_view_count": null,
            "_view_module": "@jupyter-widgets/base",
            "_view_module_version": "1.2.0",
            "_view_name": "LayoutView",
            "align_content": null,
            "align_items": null,
            "align_self": null,
            "border": null,
            "bottom": null,
            "display": null,
            "flex": null,
            "flex_flow": null,
            "grid_area": null,
            "grid_auto_columns": null,
            "grid_auto_flow": null,
            "grid_auto_rows": null,
            "grid_column": null,
            "grid_gap": null,
            "grid_row": null,
            "grid_template_areas": null,
            "grid_template_columns": null,
            "grid_template_rows": null,
            "height": null,
            "justify_content": null,
            "justify_items": null,
            "left": null,
            "margin": null,
            "max_height": null,
            "max_width": null,
            "min_height": null,
            "min_width": null,
            "object_fit": null,
            "object_position": null,
            "order": null,
            "overflow": null,
            "overflow_x": null,
            "overflow_y": null,
            "padding": null,
            "right": null,
            "top": null,
            "visibility": null,
            "width": "20px"
          }
        },
        "4de4c258219f45d988ee5c42ce0ec71e": {
          "model_module": "@jupyter-widgets/controls",
          "model_name": "ProgressStyleModel",
          "model_module_version": "1.5.0",
          "state": {
            "_model_module": "@jupyter-widgets/controls",
            "_model_module_version": "1.5.0",
            "_model_name": "ProgressStyleModel",
            "_view_count": null,
            "_view_module": "@jupyter-widgets/base",
            "_view_module_version": "1.2.0",
            "_view_name": "StyleView",
            "bar_color": null,
            "description_width": ""
          }
        },
        "ef4e00dc7a5642c4b41678302e906b0f": {
          "model_module": "@jupyter-widgets/base",
          "model_name": "LayoutModel",
          "model_module_version": "1.2.0",
          "state": {
            "_model_module": "@jupyter-widgets/base",
            "_model_module_version": "1.2.0",
            "_model_name": "LayoutModel",
            "_view_count": null,
            "_view_module": "@jupyter-widgets/base",
            "_view_module_version": "1.2.0",
            "_view_name": "LayoutView",
            "align_content": null,
            "align_items": null,
            "align_self": null,
            "border": null,
            "bottom": null,
            "display": null,
            "flex": null,
            "flex_flow": null,
            "grid_area": null,
            "grid_auto_columns": null,
            "grid_auto_flow": null,
            "grid_auto_rows": null,
            "grid_column": null,
            "grid_gap": null,
            "grid_row": null,
            "grid_template_areas": null,
            "grid_template_columns": null,
            "grid_template_rows": null,
            "height": null,
            "justify_content": null,
            "justify_items": null,
            "left": null,
            "margin": null,
            "max_height": null,
            "max_width": null,
            "min_height": null,
            "min_width": null,
            "object_fit": null,
            "object_position": null,
            "order": null,
            "overflow": null,
            "overflow_x": null,
            "overflow_y": null,
            "padding": null,
            "right": null,
            "top": null,
            "visibility": null,
            "width": null
          }
        },
        "febb8ff6de1746cc9da30ea173578732": {
          "model_module": "@jupyter-widgets/controls",
          "model_name": "DescriptionStyleModel",
          "model_module_version": "1.5.0",
          "state": {
            "_model_module": "@jupyter-widgets/controls",
            "_model_module_version": "1.5.0",
            "_model_name": "DescriptionStyleModel",
            "_view_count": null,
            "_view_module": "@jupyter-widgets/base",
            "_view_module_version": "1.2.0",
            "_view_name": "StyleView",
            "description_width": ""
          }
        },
        "8b4c6b579be54c9d953cb290411942d0": {
          "model_module": "@jupyter-widgets/controls",
          "model_name": "HBoxModel",
          "model_module_version": "1.5.0",
          "state": {
            "_dom_classes": [],
            "_model_module": "@jupyter-widgets/controls",
            "_model_module_version": "1.5.0",
            "_model_name": "HBoxModel",
            "_view_count": null,
            "_view_module": "@jupyter-widgets/controls",
            "_view_module_version": "1.5.0",
            "_view_name": "HBoxView",
            "box_style": "",
            "children": [
              "IPY_MODEL_8987d75f337e424f91492c11a35e9a10",
              "IPY_MODEL_f9e0746a328e4d04aba2cee3e411ca7f",
              "IPY_MODEL_31bf68b4f95949d98bfc7ac348cb6212"
            ],
            "layout": "IPY_MODEL_4bc45458a1dd4c61bfcb3603e99d8c6d"
          }
        },
        "8987d75f337e424f91492c11a35e9a10": {
          "model_module": "@jupyter-widgets/controls",
          "model_name": "HTMLModel",
          "model_module_version": "1.5.0",
          "state": {
            "_dom_classes": [],
            "_model_module": "@jupyter-widgets/controls",
            "_model_module_version": "1.5.0",
            "_model_name": "HTMLModel",
            "_view_count": null,
            "_view_module": "@jupyter-widgets/controls",
            "_view_module_version": "1.5.0",
            "_view_name": "HTMLView",
            "description": "",
            "description_tooltip": null,
            "layout": "IPY_MODEL_3d7a85b447464907be22feedcb8a327b",
            "placeholder": "​",
            "style": "IPY_MODEL_d43e7d8aaa45493487e90d4b693eda42",
            "value": "Generating train split: "
          }
        },
        "f9e0746a328e4d04aba2cee3e411ca7f": {
          "model_module": "@jupyter-widgets/controls",
          "model_name": "FloatProgressModel",
          "model_module_version": "1.5.0",
          "state": {
            "_dom_classes": [],
            "_model_module": "@jupyter-widgets/controls",
            "_model_module_version": "1.5.0",
            "_model_name": "FloatProgressModel",
            "_view_count": null,
            "_view_module": "@jupyter-widgets/controls",
            "_view_module_version": "1.5.0",
            "_view_name": "ProgressView",
            "bar_style": "success",
            "description": "",
            "description_tooltip": null,
            "layout": "IPY_MODEL_54d9f0604ed34a82b87f1ccdca352b31",
            "max": 1,
            "min": 0,
            "orientation": "horizontal",
            "style": "IPY_MODEL_8888d373e74c49b1bbbe5b8327cc0993",
            "value": 1
          }
        },
        "31bf68b4f95949d98bfc7ac348cb6212": {
          "model_module": "@jupyter-widgets/controls",
          "model_name": "HTMLModel",
          "model_module_version": "1.5.0",
          "state": {
            "_dom_classes": [],
            "_model_module": "@jupyter-widgets/controls",
            "_model_module_version": "1.5.0",
            "_model_name": "HTMLModel",
            "_view_count": null,
            "_view_module": "@jupyter-widgets/controls",
            "_view_module_version": "1.5.0",
            "_view_name": "HTMLView",
            "description": "",
            "description_tooltip": null,
            "layout": "IPY_MODEL_d36eb89807c745acb14ba6e353c89c27",
            "placeholder": "​",
            "style": "IPY_MODEL_24594dfd956e4bd4904caa9e3db77e95",
            "value": " 2703/0 [00:00&lt;00:00, 99523.36 examples/s]"
          }
        },
        "4bc45458a1dd4c61bfcb3603e99d8c6d": {
          "model_module": "@jupyter-widgets/base",
          "model_name": "LayoutModel",
          "model_module_version": "1.2.0",
          "state": {
            "_model_module": "@jupyter-widgets/base",
            "_model_module_version": "1.2.0",
            "_model_name": "LayoutModel",
            "_view_count": null,
            "_view_module": "@jupyter-widgets/base",
            "_view_module_version": "1.2.0",
            "_view_name": "LayoutView",
            "align_content": null,
            "align_items": null,
            "align_self": null,
            "border": null,
            "bottom": null,
            "display": null,
            "flex": null,
            "flex_flow": null,
            "grid_area": null,
            "grid_auto_columns": null,
            "grid_auto_flow": null,
            "grid_auto_rows": null,
            "grid_column": null,
            "grid_gap": null,
            "grid_row": null,
            "grid_template_areas": null,
            "grid_template_columns": null,
            "grid_template_rows": null,
            "height": null,
            "justify_content": null,
            "justify_items": null,
            "left": null,
            "margin": null,
            "max_height": null,
            "max_width": null,
            "min_height": null,
            "min_width": null,
            "object_fit": null,
            "object_position": null,
            "order": null,
            "overflow": null,
            "overflow_x": null,
            "overflow_y": null,
            "padding": null,
            "right": null,
            "top": null,
            "visibility": null,
            "width": null
          }
        },
        "3d7a85b447464907be22feedcb8a327b": {
          "model_module": "@jupyter-widgets/base",
          "model_name": "LayoutModel",
          "model_module_version": "1.2.0",
          "state": {
            "_model_module": "@jupyter-widgets/base",
            "_model_module_version": "1.2.0",
            "_model_name": "LayoutModel",
            "_view_count": null,
            "_view_module": "@jupyter-widgets/base",
            "_view_module_version": "1.2.0",
            "_view_name": "LayoutView",
            "align_content": null,
            "align_items": null,
            "align_self": null,
            "border": null,
            "bottom": null,
            "display": null,
            "flex": null,
            "flex_flow": null,
            "grid_area": null,
            "grid_auto_columns": null,
            "grid_auto_flow": null,
            "grid_auto_rows": null,
            "grid_column": null,
            "grid_gap": null,
            "grid_row": null,
            "grid_template_areas": null,
            "grid_template_columns": null,
            "grid_template_rows": null,
            "height": null,
            "justify_content": null,
            "justify_items": null,
            "left": null,
            "margin": null,
            "max_height": null,
            "max_width": null,
            "min_height": null,
            "min_width": null,
            "object_fit": null,
            "object_position": null,
            "order": null,
            "overflow": null,
            "overflow_x": null,
            "overflow_y": null,
            "padding": null,
            "right": null,
            "top": null,
            "visibility": null,
            "width": null
          }
        },
        "d43e7d8aaa45493487e90d4b693eda42": {
          "model_module": "@jupyter-widgets/controls",
          "model_name": "DescriptionStyleModel",
          "model_module_version": "1.5.0",
          "state": {
            "_model_module": "@jupyter-widgets/controls",
            "_model_module_version": "1.5.0",
            "_model_name": "DescriptionStyleModel",
            "_view_count": null,
            "_view_module": "@jupyter-widgets/base",
            "_view_module_version": "1.2.0",
            "_view_name": "StyleView",
            "description_width": ""
          }
        },
        "54d9f0604ed34a82b87f1ccdca352b31": {
          "model_module": "@jupyter-widgets/base",
          "model_name": "LayoutModel",
          "model_module_version": "1.2.0",
          "state": {
            "_model_module": "@jupyter-widgets/base",
            "_model_module_version": "1.2.0",
            "_model_name": "LayoutModel",
            "_view_count": null,
            "_view_module": "@jupyter-widgets/base",
            "_view_module_version": "1.2.0",
            "_view_name": "LayoutView",
            "align_content": null,
            "align_items": null,
            "align_self": null,
            "border": null,
            "bottom": null,
            "display": null,
            "flex": null,
            "flex_flow": null,
            "grid_area": null,
            "grid_auto_columns": null,
            "grid_auto_flow": null,
            "grid_auto_rows": null,
            "grid_column": null,
            "grid_gap": null,
            "grid_row": null,
            "grid_template_areas": null,
            "grid_template_columns": null,
            "grid_template_rows": null,
            "height": null,
            "justify_content": null,
            "justify_items": null,
            "left": null,
            "margin": null,
            "max_height": null,
            "max_width": null,
            "min_height": null,
            "min_width": null,
            "object_fit": null,
            "object_position": null,
            "order": null,
            "overflow": null,
            "overflow_x": null,
            "overflow_y": null,
            "padding": null,
            "right": null,
            "top": null,
            "visibility": null,
            "width": "20px"
          }
        },
        "8888d373e74c49b1bbbe5b8327cc0993": {
          "model_module": "@jupyter-widgets/controls",
          "model_name": "ProgressStyleModel",
          "model_module_version": "1.5.0",
          "state": {
            "_model_module": "@jupyter-widgets/controls",
            "_model_module_version": "1.5.0",
            "_model_name": "ProgressStyleModel",
            "_view_count": null,
            "_view_module": "@jupyter-widgets/base",
            "_view_module_version": "1.2.0",
            "_view_name": "StyleView",
            "bar_color": null,
            "description_width": ""
          }
        },
        "d36eb89807c745acb14ba6e353c89c27": {
          "model_module": "@jupyter-widgets/base",
          "model_name": "LayoutModel",
          "model_module_version": "1.2.0",
          "state": {
            "_model_module": "@jupyter-widgets/base",
            "_model_module_version": "1.2.0",
            "_model_name": "LayoutModel",
            "_view_count": null,
            "_view_module": "@jupyter-widgets/base",
            "_view_module_version": "1.2.0",
            "_view_name": "LayoutView",
            "align_content": null,
            "align_items": null,
            "align_self": null,
            "border": null,
            "bottom": null,
            "display": null,
            "flex": null,
            "flex_flow": null,
            "grid_area": null,
            "grid_auto_columns": null,
            "grid_auto_flow": null,
            "grid_auto_rows": null,
            "grid_column": null,
            "grid_gap": null,
            "grid_row": null,
            "grid_template_areas": null,
            "grid_template_columns": null,
            "grid_template_rows": null,
            "height": null,
            "justify_content": null,
            "justify_items": null,
            "left": null,
            "margin": null,
            "max_height": null,
            "max_width": null,
            "min_height": null,
            "min_width": null,
            "object_fit": null,
            "object_position": null,
            "order": null,
            "overflow": null,
            "overflow_x": null,
            "overflow_y": null,
            "padding": null,
            "right": null,
            "top": null,
            "visibility": null,
            "width": null
          }
        },
        "24594dfd956e4bd4904caa9e3db77e95": {
          "model_module": "@jupyter-widgets/controls",
          "model_name": "DescriptionStyleModel",
          "model_module_version": "1.5.0",
          "state": {
            "_model_module": "@jupyter-widgets/controls",
            "_model_module_version": "1.5.0",
            "_model_name": "DescriptionStyleModel",
            "_view_count": null,
            "_view_module": "@jupyter-widgets/base",
            "_view_module_version": "1.2.0",
            "_view_name": "StyleView",
            "description_width": ""
          }
        },
        "b23f53c1c1624f21ba15ece1482c34a9": {
          "model_module": "@jupyter-widgets/controls",
          "model_name": "HBoxModel",
          "model_module_version": "1.5.0",
          "state": {
            "_dom_classes": [],
            "_model_module": "@jupyter-widgets/controls",
            "_model_module_version": "1.5.0",
            "_model_name": "HBoxModel",
            "_view_count": null,
            "_view_module": "@jupyter-widgets/controls",
            "_view_module_version": "1.5.0",
            "_view_name": "HBoxView",
            "box_style": "",
            "children": [
              "IPY_MODEL_9221b53d0e9e4cc0b721fed7328bfdc6",
              "IPY_MODEL_5adbd8ba68c4455ca4dda68bc33df438",
              "IPY_MODEL_130c8ec077424cfa8bc75385c81dc802"
            ],
            "layout": "IPY_MODEL_03228cfeeed146129b5066c9848d90cc"
          }
        },
        "9221b53d0e9e4cc0b721fed7328bfdc6": {
          "model_module": "@jupyter-widgets/controls",
          "model_name": "HTMLModel",
          "model_module_version": "1.5.0",
          "state": {
            "_dom_classes": [],
            "_model_module": "@jupyter-widgets/controls",
            "_model_module_version": "1.5.0",
            "_model_name": "HTMLModel",
            "_view_count": null,
            "_view_module": "@jupyter-widgets/controls",
            "_view_module_version": "1.5.0",
            "_view_name": "HTMLView",
            "description": "",
            "description_tooltip": null,
            "layout": "IPY_MODEL_26cf0f3532934fe9ba3b23b1bfdd953e",
            "placeholder": "​",
            "style": "IPY_MODEL_3540f64b949f4ca280711e384ae51952",
            "value": "Generating train split: "
          }
        },
        "5adbd8ba68c4455ca4dda68bc33df438": {
          "model_module": "@jupyter-widgets/controls",
          "model_name": "FloatProgressModel",
          "model_module_version": "1.5.0",
          "state": {
            "_dom_classes": [],
            "_model_module": "@jupyter-widgets/controls",
            "_model_module_version": "1.5.0",
            "_model_name": "FloatProgressModel",
            "_view_count": null,
            "_view_module": "@jupyter-widgets/controls",
            "_view_module_version": "1.5.0",
            "_view_name": "ProgressView",
            "bar_style": "success",
            "description": "",
            "description_tooltip": null,
            "layout": "IPY_MODEL_d2feea5a27744f6188322c02cb383b90",
            "max": 1,
            "min": 0,
            "orientation": "horizontal",
            "style": "IPY_MODEL_9b09647f90094b05aabc2920509c1550",
            "value": 1
          }
        },
        "130c8ec077424cfa8bc75385c81dc802": {
          "model_module": "@jupyter-widgets/controls",
          "model_name": "HTMLModel",
          "model_module_version": "1.5.0",
          "state": {
            "_dom_classes": [],
            "_model_module": "@jupyter-widgets/controls",
            "_model_module_version": "1.5.0",
            "_model_name": "HTMLModel",
            "_view_count": null,
            "_view_module": "@jupyter-widgets/controls",
            "_view_module_version": "1.5.0",
            "_view_name": "HTMLView",
            "description": "",
            "description_tooltip": null,
            "layout": "IPY_MODEL_2a95cdc2bb954703963284f4eb263c4b",
            "placeholder": "​",
            "style": "IPY_MODEL_da7e65e03c7b4e1c9b2886f55d00c5aa",
            "value": " 2620/0 [00:00&lt;00:00, 103228.40 examples/s]"
          }
        },
        "03228cfeeed146129b5066c9848d90cc": {
          "model_module": "@jupyter-widgets/base",
          "model_name": "LayoutModel",
          "model_module_version": "1.2.0",
          "state": {
            "_model_module": "@jupyter-widgets/base",
            "_model_module_version": "1.2.0",
            "_model_name": "LayoutModel",
            "_view_count": null,
            "_view_module": "@jupyter-widgets/base",
            "_view_module_version": "1.2.0",
            "_view_name": "LayoutView",
            "align_content": null,
            "align_items": null,
            "align_self": null,
            "border": null,
            "bottom": null,
            "display": null,
            "flex": null,
            "flex_flow": null,
            "grid_area": null,
            "grid_auto_columns": null,
            "grid_auto_flow": null,
            "grid_auto_rows": null,
            "grid_column": null,
            "grid_gap": null,
            "grid_row": null,
            "grid_template_areas": null,
            "grid_template_columns": null,
            "grid_template_rows": null,
            "height": null,
            "justify_content": null,
            "justify_items": null,
            "left": null,
            "margin": null,
            "max_height": null,
            "max_width": null,
            "min_height": null,
            "min_width": null,
            "object_fit": null,
            "object_position": null,
            "order": null,
            "overflow": null,
            "overflow_x": null,
            "overflow_y": null,
            "padding": null,
            "right": null,
            "top": null,
            "visibility": null,
            "width": null
          }
        },
        "26cf0f3532934fe9ba3b23b1bfdd953e": {
          "model_module": "@jupyter-widgets/base",
          "model_name": "LayoutModel",
          "model_module_version": "1.2.0",
          "state": {
            "_model_module": "@jupyter-widgets/base",
            "_model_module_version": "1.2.0",
            "_model_name": "LayoutModel",
            "_view_count": null,
            "_view_module": "@jupyter-widgets/base",
            "_view_module_version": "1.2.0",
            "_view_name": "LayoutView",
            "align_content": null,
            "align_items": null,
            "align_self": null,
            "border": null,
            "bottom": null,
            "display": null,
            "flex": null,
            "flex_flow": null,
            "grid_area": null,
            "grid_auto_columns": null,
            "grid_auto_flow": null,
            "grid_auto_rows": null,
            "grid_column": null,
            "grid_gap": null,
            "grid_row": null,
            "grid_template_areas": null,
            "grid_template_columns": null,
            "grid_template_rows": null,
            "height": null,
            "justify_content": null,
            "justify_items": null,
            "left": null,
            "margin": null,
            "max_height": null,
            "max_width": null,
            "min_height": null,
            "min_width": null,
            "object_fit": null,
            "object_position": null,
            "order": null,
            "overflow": null,
            "overflow_x": null,
            "overflow_y": null,
            "padding": null,
            "right": null,
            "top": null,
            "visibility": null,
            "width": null
          }
        },
        "3540f64b949f4ca280711e384ae51952": {
          "model_module": "@jupyter-widgets/controls",
          "model_name": "DescriptionStyleModel",
          "model_module_version": "1.5.0",
          "state": {
            "_model_module": "@jupyter-widgets/controls",
            "_model_module_version": "1.5.0",
            "_model_name": "DescriptionStyleModel",
            "_view_count": null,
            "_view_module": "@jupyter-widgets/base",
            "_view_module_version": "1.2.0",
            "_view_name": "StyleView",
            "description_width": ""
          }
        },
        "d2feea5a27744f6188322c02cb383b90": {
          "model_module": "@jupyter-widgets/base",
          "model_name": "LayoutModel",
          "model_module_version": "1.2.0",
          "state": {
            "_model_module": "@jupyter-widgets/base",
            "_model_module_version": "1.2.0",
            "_model_name": "LayoutModel",
            "_view_count": null,
            "_view_module": "@jupyter-widgets/base",
            "_view_module_version": "1.2.0",
            "_view_name": "LayoutView",
            "align_content": null,
            "align_items": null,
            "align_self": null,
            "border": null,
            "bottom": null,
            "display": null,
            "flex": null,
            "flex_flow": null,
            "grid_area": null,
            "grid_auto_columns": null,
            "grid_auto_flow": null,
            "grid_auto_rows": null,
            "grid_column": null,
            "grid_gap": null,
            "grid_row": null,
            "grid_template_areas": null,
            "grid_template_columns": null,
            "grid_template_rows": null,
            "height": null,
            "justify_content": null,
            "justify_items": null,
            "left": null,
            "margin": null,
            "max_height": null,
            "max_width": null,
            "min_height": null,
            "min_width": null,
            "object_fit": null,
            "object_position": null,
            "order": null,
            "overflow": null,
            "overflow_x": null,
            "overflow_y": null,
            "padding": null,
            "right": null,
            "top": null,
            "visibility": null,
            "width": "20px"
          }
        },
        "9b09647f90094b05aabc2920509c1550": {
          "model_module": "@jupyter-widgets/controls",
          "model_name": "ProgressStyleModel",
          "model_module_version": "1.5.0",
          "state": {
            "_model_module": "@jupyter-widgets/controls",
            "_model_module_version": "1.5.0",
            "_model_name": "ProgressStyleModel",
            "_view_count": null,
            "_view_module": "@jupyter-widgets/base",
            "_view_module_version": "1.2.0",
            "_view_name": "StyleView",
            "bar_color": null,
            "description_width": ""
          }
        },
        "2a95cdc2bb954703963284f4eb263c4b": {
          "model_module": "@jupyter-widgets/base",
          "model_name": "LayoutModel",
          "model_module_version": "1.2.0",
          "state": {
            "_model_module": "@jupyter-widgets/base",
            "_model_module_version": "1.2.0",
            "_model_name": "LayoutModel",
            "_view_count": null,
            "_view_module": "@jupyter-widgets/base",
            "_view_module_version": "1.2.0",
            "_view_name": "LayoutView",
            "align_content": null,
            "align_items": null,
            "align_self": null,
            "border": null,
            "bottom": null,
            "display": null,
            "flex": null,
            "flex_flow": null,
            "grid_area": null,
            "grid_auto_columns": null,
            "grid_auto_flow": null,
            "grid_auto_rows": null,
            "grid_column": null,
            "grid_gap": null,
            "grid_row": null,
            "grid_template_areas": null,
            "grid_template_columns": null,
            "grid_template_rows": null,
            "height": null,
            "justify_content": null,
            "justify_items": null,
            "left": null,
            "margin": null,
            "max_height": null,
            "max_width": null,
            "min_height": null,
            "min_width": null,
            "object_fit": null,
            "object_position": null,
            "order": null,
            "overflow": null,
            "overflow_x": null,
            "overflow_y": null,
            "padding": null,
            "right": null,
            "top": null,
            "visibility": null,
            "width": null
          }
        },
        "da7e65e03c7b4e1c9b2886f55d00c5aa": {
          "model_module": "@jupyter-widgets/controls",
          "model_name": "DescriptionStyleModel",
          "model_module_version": "1.5.0",
          "state": {
            "_model_module": "@jupyter-widgets/controls",
            "_model_module_version": "1.5.0",
            "_model_name": "DescriptionStyleModel",
            "_view_count": null,
            "_view_module": "@jupyter-widgets/base",
            "_view_module_version": "1.2.0",
            "_view_name": "StyleView",
            "description_width": ""
          }
        },
        "221899e386a24c98b6b387e83e7e4576": {
          "model_module": "@jupyter-widgets/controls",
          "model_name": "HBoxModel",
          "model_module_version": "1.5.0",
          "state": {
            "_dom_classes": [],
            "_model_module": "@jupyter-widgets/controls",
            "_model_module_version": "1.5.0",
            "_model_name": "HBoxModel",
            "_view_count": null,
            "_view_module": "@jupyter-widgets/controls",
            "_view_module_version": "1.5.0",
            "_view_name": "HBoxView",
            "box_style": "",
            "children": [
              "IPY_MODEL_0ed383ee70af4e508f9ca09abe5ef6fe",
              "IPY_MODEL_38c8544902194e038986e33301c7ccc8",
              "IPY_MODEL_e409cee0cec44ee9a78f0560a0d59966"
            ],
            "layout": "IPY_MODEL_beeb6687be774202b26cea17eb3552d0"
          }
        },
        "0ed383ee70af4e508f9ca09abe5ef6fe": {
          "model_module": "@jupyter-widgets/controls",
          "model_name": "HTMLModel",
          "model_module_version": "1.5.0",
          "state": {
            "_dom_classes": [],
            "_model_module": "@jupyter-widgets/controls",
            "_model_module_version": "1.5.0",
            "_model_name": "HTMLModel",
            "_view_count": null,
            "_view_module": "@jupyter-widgets/controls",
            "_view_module_version": "1.5.0",
            "_view_name": "HTMLView",
            "description": "",
            "description_tooltip": null,
            "layout": "IPY_MODEL_d068e8db1c274494b2525d44a355e942",
            "placeholder": "​",
            "style": "IPY_MODEL_0d6c5fe77e1c4d5c9fc8e146c2d9399f",
            "value": "preprocessor_config.json: 100%"
          }
        },
        "38c8544902194e038986e33301c7ccc8": {
          "model_module": "@jupyter-widgets/controls",
          "model_name": "FloatProgressModel",
          "model_module_version": "1.5.0",
          "state": {
            "_dom_classes": [],
            "_model_module": "@jupyter-widgets/controls",
            "_model_module_version": "1.5.0",
            "_model_name": "FloatProgressModel",
            "_view_count": null,
            "_view_module": "@jupyter-widgets/controls",
            "_view_module_version": "1.5.0",
            "_view_name": "ProgressView",
            "bar_style": "success",
            "description": "",
            "description_tooltip": null,
            "layout": "IPY_MODEL_9dde0f2104dc4ddaab5bce7ae9786310",
            "max": 159,
            "min": 0,
            "orientation": "horizontal",
            "style": "IPY_MODEL_4f7b1b875bae4d45aeeeb2c532ea5743",
            "value": 159
          }
        },
        "e409cee0cec44ee9a78f0560a0d59966": {
          "model_module": "@jupyter-widgets/controls",
          "model_name": "HTMLModel",
          "model_module_version": "1.5.0",
          "state": {
            "_dom_classes": [],
            "_model_module": "@jupyter-widgets/controls",
            "_model_module_version": "1.5.0",
            "_model_name": "HTMLModel",
            "_view_count": null,
            "_view_module": "@jupyter-widgets/controls",
            "_view_module_version": "1.5.0",
            "_view_name": "HTMLView",
            "description": "",
            "description_tooltip": null,
            "layout": "IPY_MODEL_3d170d049b3b44d291e3d9210141c24c",
            "placeholder": "​",
            "style": "IPY_MODEL_bc2f7888846c4090bb2eca9617a8684d",
            "value": " 159/159 [00:00&lt;00:00, 15.8kB/s]"
          }
        },
        "beeb6687be774202b26cea17eb3552d0": {
          "model_module": "@jupyter-widgets/base",
          "model_name": "LayoutModel",
          "model_module_version": "1.2.0",
          "state": {
            "_model_module": "@jupyter-widgets/base",
            "_model_module_version": "1.2.0",
            "_model_name": "LayoutModel",
            "_view_count": null,
            "_view_module": "@jupyter-widgets/base",
            "_view_module_version": "1.2.0",
            "_view_name": "LayoutView",
            "align_content": null,
            "align_items": null,
            "align_self": null,
            "border": null,
            "bottom": null,
            "display": null,
            "flex": null,
            "flex_flow": null,
            "grid_area": null,
            "grid_auto_columns": null,
            "grid_auto_flow": null,
            "grid_auto_rows": null,
            "grid_column": null,
            "grid_gap": null,
            "grid_row": null,
            "grid_template_areas": null,
            "grid_template_columns": null,
            "grid_template_rows": null,
            "height": null,
            "justify_content": null,
            "justify_items": null,
            "left": null,
            "margin": null,
            "max_height": null,
            "max_width": null,
            "min_height": null,
            "min_width": null,
            "object_fit": null,
            "object_position": null,
            "order": null,
            "overflow": null,
            "overflow_x": null,
            "overflow_y": null,
            "padding": null,
            "right": null,
            "top": null,
            "visibility": null,
            "width": null
          }
        },
        "d068e8db1c274494b2525d44a355e942": {
          "model_module": "@jupyter-widgets/base",
          "model_name": "LayoutModel",
          "model_module_version": "1.2.0",
          "state": {
            "_model_module": "@jupyter-widgets/base",
            "_model_module_version": "1.2.0",
            "_model_name": "LayoutModel",
            "_view_count": null,
            "_view_module": "@jupyter-widgets/base",
            "_view_module_version": "1.2.0",
            "_view_name": "LayoutView",
            "align_content": null,
            "align_items": null,
            "align_self": null,
            "border": null,
            "bottom": null,
            "display": null,
            "flex": null,
            "flex_flow": null,
            "grid_area": null,
            "grid_auto_columns": null,
            "grid_auto_flow": null,
            "grid_auto_rows": null,
            "grid_column": null,
            "grid_gap": null,
            "grid_row": null,
            "grid_template_areas": null,
            "grid_template_columns": null,
            "grid_template_rows": null,
            "height": null,
            "justify_content": null,
            "justify_items": null,
            "left": null,
            "margin": null,
            "max_height": null,
            "max_width": null,
            "min_height": null,
            "min_width": null,
            "object_fit": null,
            "object_position": null,
            "order": null,
            "overflow": null,
            "overflow_x": null,
            "overflow_y": null,
            "padding": null,
            "right": null,
            "top": null,
            "visibility": null,
            "width": null
          }
        },
        "0d6c5fe77e1c4d5c9fc8e146c2d9399f": {
          "model_module": "@jupyter-widgets/controls",
          "model_name": "DescriptionStyleModel",
          "model_module_version": "1.5.0",
          "state": {
            "_model_module": "@jupyter-widgets/controls",
            "_model_module_version": "1.5.0",
            "_model_name": "DescriptionStyleModel",
            "_view_count": null,
            "_view_module": "@jupyter-widgets/base",
            "_view_module_version": "1.2.0",
            "_view_name": "StyleView",
            "description_width": ""
          }
        },
        "9dde0f2104dc4ddaab5bce7ae9786310": {
          "model_module": "@jupyter-widgets/base",
          "model_name": "LayoutModel",
          "model_module_version": "1.2.0",
          "state": {
            "_model_module": "@jupyter-widgets/base",
            "_model_module_version": "1.2.0",
            "_model_name": "LayoutModel",
            "_view_count": null,
            "_view_module": "@jupyter-widgets/base",
            "_view_module_version": "1.2.0",
            "_view_name": "LayoutView",
            "align_content": null,
            "align_items": null,
            "align_self": null,
            "border": null,
            "bottom": null,
            "display": null,
            "flex": null,
            "flex_flow": null,
            "grid_area": null,
            "grid_auto_columns": null,
            "grid_auto_flow": null,
            "grid_auto_rows": null,
            "grid_column": null,
            "grid_gap": null,
            "grid_row": null,
            "grid_template_areas": null,
            "grid_template_columns": null,
            "grid_template_rows": null,
            "height": null,
            "justify_content": null,
            "justify_items": null,
            "left": null,
            "margin": null,
            "max_height": null,
            "max_width": null,
            "min_height": null,
            "min_width": null,
            "object_fit": null,
            "object_position": null,
            "order": null,
            "overflow": null,
            "overflow_x": null,
            "overflow_y": null,
            "padding": null,
            "right": null,
            "top": null,
            "visibility": null,
            "width": null
          }
        },
        "4f7b1b875bae4d45aeeeb2c532ea5743": {
          "model_module": "@jupyter-widgets/controls",
          "model_name": "ProgressStyleModel",
          "model_module_version": "1.5.0",
          "state": {
            "_model_module": "@jupyter-widgets/controls",
            "_model_module_version": "1.5.0",
            "_model_name": "ProgressStyleModel",
            "_view_count": null,
            "_view_module": "@jupyter-widgets/base",
            "_view_module_version": "1.2.0",
            "_view_name": "StyleView",
            "bar_color": null,
            "description_width": ""
          }
        },
        "3d170d049b3b44d291e3d9210141c24c": {
          "model_module": "@jupyter-widgets/base",
          "model_name": "LayoutModel",
          "model_module_version": "1.2.0",
          "state": {
            "_model_module": "@jupyter-widgets/base",
            "_model_module_version": "1.2.0",
            "_model_name": "LayoutModel",
            "_view_count": null,
            "_view_module": "@jupyter-widgets/base",
            "_view_module_version": "1.2.0",
            "_view_name": "LayoutView",
            "align_content": null,
            "align_items": null,
            "align_self": null,
            "border": null,
            "bottom": null,
            "display": null,
            "flex": null,
            "flex_flow": null,
            "grid_area": null,
            "grid_auto_columns": null,
            "grid_auto_flow": null,
            "grid_auto_rows": null,
            "grid_column": null,
            "grid_gap": null,
            "grid_row": null,
            "grid_template_areas": null,
            "grid_template_columns": null,
            "grid_template_rows": null,
            "height": null,
            "justify_content": null,
            "justify_items": null,
            "left": null,
            "margin": null,
            "max_height": null,
            "max_width": null,
            "min_height": null,
            "min_width": null,
            "object_fit": null,
            "object_position": null,
            "order": null,
            "overflow": null,
            "overflow_x": null,
            "overflow_y": null,
            "padding": null,
            "right": null,
            "top": null,
            "visibility": null,
            "width": null
          }
        },
        "bc2f7888846c4090bb2eca9617a8684d": {
          "model_module": "@jupyter-widgets/controls",
          "model_name": "DescriptionStyleModel",
          "model_module_version": "1.5.0",
          "state": {
            "_model_module": "@jupyter-widgets/controls",
            "_model_module_version": "1.5.0",
            "_model_name": "DescriptionStyleModel",
            "_view_count": null,
            "_view_module": "@jupyter-widgets/base",
            "_view_module_version": "1.2.0",
            "_view_name": "StyleView",
            "description_width": ""
          }
        },
        "28d8b137c2e34d4d9cdfe9563fbf69b7": {
          "model_module": "@jupyter-widgets/controls",
          "model_name": "HBoxModel",
          "model_module_version": "1.5.0",
          "state": {
            "_dom_classes": [],
            "_model_module": "@jupyter-widgets/controls",
            "_model_module_version": "1.5.0",
            "_model_name": "HBoxModel",
            "_view_count": null,
            "_view_module": "@jupyter-widgets/controls",
            "_view_module_version": "1.5.0",
            "_view_name": "HBoxView",
            "box_style": "",
            "children": [
              "IPY_MODEL_e8b762255d644325a4c5561f6726e7a0",
              "IPY_MODEL_b3017f19f72941618e06d5d784c5b9e1",
              "IPY_MODEL_63a06866be6d4756baff0c62a87a033e"
            ],
            "layout": "IPY_MODEL_2326edf5bce14134a8acfbb379d50bda"
          }
        },
        "e8b762255d644325a4c5561f6726e7a0": {
          "model_module": "@jupyter-widgets/controls",
          "model_name": "HTMLModel",
          "model_module_version": "1.5.0",
          "state": {
            "_dom_classes": [],
            "_model_module": "@jupyter-widgets/controls",
            "_model_module_version": "1.5.0",
            "_model_name": "HTMLModel",
            "_view_count": null,
            "_view_module": "@jupyter-widgets/controls",
            "_view_module_version": "1.5.0",
            "_view_name": "HTMLView",
            "description": "",
            "description_tooltip": null,
            "layout": "IPY_MODEL_9cb0066875004efdb7c1f85066ce4e47",
            "placeholder": "​",
            "style": "IPY_MODEL_0c6a836169d44c0abf407c388663e75a",
            "value": "tokenizer_config.json: 100%"
          }
        },
        "b3017f19f72941618e06d5d784c5b9e1": {
          "model_module": "@jupyter-widgets/controls",
          "model_name": "FloatProgressModel",
          "model_module_version": "1.5.0",
          "state": {
            "_dom_classes": [],
            "_model_module": "@jupyter-widgets/controls",
            "_model_module_version": "1.5.0",
            "_model_name": "FloatProgressModel",
            "_view_count": null,
            "_view_module": "@jupyter-widgets/controls",
            "_view_module_version": "1.5.0",
            "_view_name": "ProgressView",
            "bar_style": "success",
            "description": "",
            "description_tooltip": null,
            "layout": "IPY_MODEL_66bed04880de4c7bac4154a4644a1bce",
            "max": 163,
            "min": 0,
            "orientation": "horizontal",
            "style": "IPY_MODEL_609bb6b3b3604d158028b2637bf31803",
            "value": 163
          }
        },
        "63a06866be6d4756baff0c62a87a033e": {
          "model_module": "@jupyter-widgets/controls",
          "model_name": "HTMLModel",
          "model_module_version": "1.5.0",
          "state": {
            "_dom_classes": [],
            "_model_module": "@jupyter-widgets/controls",
            "_model_module_version": "1.5.0",
            "_model_name": "HTMLModel",
            "_view_count": null,
            "_view_module": "@jupyter-widgets/controls",
            "_view_module_version": "1.5.0",
            "_view_name": "HTMLView",
            "description": "",
            "description_tooltip": null,
            "layout": "IPY_MODEL_867edc41969d4ee4bf7d2c6c2ad0a220",
            "placeholder": "​",
            "style": "IPY_MODEL_d9714c1a49dd45daa45eaafcbc4ebee8",
            "value": " 163/163 [00:00&lt;00:00, 17.7kB/s]"
          }
        },
        "2326edf5bce14134a8acfbb379d50bda": {
          "model_module": "@jupyter-widgets/base",
          "model_name": "LayoutModel",
          "model_module_version": "1.2.0",
          "state": {
            "_model_module": "@jupyter-widgets/base",
            "_model_module_version": "1.2.0",
            "_model_name": "LayoutModel",
            "_view_count": null,
            "_view_module": "@jupyter-widgets/base",
            "_view_module_version": "1.2.0",
            "_view_name": "LayoutView",
            "align_content": null,
            "align_items": null,
            "align_self": null,
            "border": null,
            "bottom": null,
            "display": null,
            "flex": null,
            "flex_flow": null,
            "grid_area": null,
            "grid_auto_columns": null,
            "grid_auto_flow": null,
            "grid_auto_rows": null,
            "grid_column": null,
            "grid_gap": null,
            "grid_row": null,
            "grid_template_areas": null,
            "grid_template_columns": null,
            "grid_template_rows": null,
            "height": null,
            "justify_content": null,
            "justify_items": null,
            "left": null,
            "margin": null,
            "max_height": null,
            "max_width": null,
            "min_height": null,
            "min_width": null,
            "object_fit": null,
            "object_position": null,
            "order": null,
            "overflow": null,
            "overflow_x": null,
            "overflow_y": null,
            "padding": null,
            "right": null,
            "top": null,
            "visibility": null,
            "width": null
          }
        },
        "9cb0066875004efdb7c1f85066ce4e47": {
          "model_module": "@jupyter-widgets/base",
          "model_name": "LayoutModel",
          "model_module_version": "1.2.0",
          "state": {
            "_model_module": "@jupyter-widgets/base",
            "_model_module_version": "1.2.0",
            "_model_name": "LayoutModel",
            "_view_count": null,
            "_view_module": "@jupyter-widgets/base",
            "_view_module_version": "1.2.0",
            "_view_name": "LayoutView",
            "align_content": null,
            "align_items": null,
            "align_self": null,
            "border": null,
            "bottom": null,
            "display": null,
            "flex": null,
            "flex_flow": null,
            "grid_area": null,
            "grid_auto_columns": null,
            "grid_auto_flow": null,
            "grid_auto_rows": null,
            "grid_column": null,
            "grid_gap": null,
            "grid_row": null,
            "grid_template_areas": null,
            "grid_template_columns": null,
            "grid_template_rows": null,
            "height": null,
            "justify_content": null,
            "justify_items": null,
            "left": null,
            "margin": null,
            "max_height": null,
            "max_width": null,
            "min_height": null,
            "min_width": null,
            "object_fit": null,
            "object_position": null,
            "order": null,
            "overflow": null,
            "overflow_x": null,
            "overflow_y": null,
            "padding": null,
            "right": null,
            "top": null,
            "visibility": null,
            "width": null
          }
        },
        "0c6a836169d44c0abf407c388663e75a": {
          "model_module": "@jupyter-widgets/controls",
          "model_name": "DescriptionStyleModel",
          "model_module_version": "1.5.0",
          "state": {
            "_model_module": "@jupyter-widgets/controls",
            "_model_module_version": "1.5.0",
            "_model_name": "DescriptionStyleModel",
            "_view_count": null,
            "_view_module": "@jupyter-widgets/base",
            "_view_module_version": "1.2.0",
            "_view_name": "StyleView",
            "description_width": ""
          }
        },
        "66bed04880de4c7bac4154a4644a1bce": {
          "model_module": "@jupyter-widgets/base",
          "model_name": "LayoutModel",
          "model_module_version": "1.2.0",
          "state": {
            "_model_module": "@jupyter-widgets/base",
            "_model_module_version": "1.2.0",
            "_model_name": "LayoutModel",
            "_view_count": null,
            "_view_module": "@jupyter-widgets/base",
            "_view_module_version": "1.2.0",
            "_view_name": "LayoutView",
            "align_content": null,
            "align_items": null,
            "align_self": null,
            "border": null,
            "bottom": null,
            "display": null,
            "flex": null,
            "flex_flow": null,
            "grid_area": null,
            "grid_auto_columns": null,
            "grid_auto_flow": null,
            "grid_auto_rows": null,
            "grid_column": null,
            "grid_gap": null,
            "grid_row": null,
            "grid_template_areas": null,
            "grid_template_columns": null,
            "grid_template_rows": null,
            "height": null,
            "justify_content": null,
            "justify_items": null,
            "left": null,
            "margin": null,
            "max_height": null,
            "max_width": null,
            "min_height": null,
            "min_width": null,
            "object_fit": null,
            "object_position": null,
            "order": null,
            "overflow": null,
            "overflow_x": null,
            "overflow_y": null,
            "padding": null,
            "right": null,
            "top": null,
            "visibility": null,
            "width": null
          }
        },
        "609bb6b3b3604d158028b2637bf31803": {
          "model_module": "@jupyter-widgets/controls",
          "model_name": "ProgressStyleModel",
          "model_module_version": "1.5.0",
          "state": {
            "_model_module": "@jupyter-widgets/controls",
            "_model_module_version": "1.5.0",
            "_model_name": "ProgressStyleModel",
            "_view_count": null,
            "_view_module": "@jupyter-widgets/base",
            "_view_module_version": "1.2.0",
            "_view_name": "StyleView",
            "bar_color": null,
            "description_width": ""
          }
        },
        "867edc41969d4ee4bf7d2c6c2ad0a220": {
          "model_module": "@jupyter-widgets/base",
          "model_name": "LayoutModel",
          "model_module_version": "1.2.0",
          "state": {
            "_model_module": "@jupyter-widgets/base",
            "_model_module_version": "1.2.0",
            "_model_name": "LayoutModel",
            "_view_count": null,
            "_view_module": "@jupyter-widgets/base",
            "_view_module_version": "1.2.0",
            "_view_name": "LayoutView",
            "align_content": null,
            "align_items": null,
            "align_self": null,
            "border": null,
            "bottom": null,
            "display": null,
            "flex": null,
            "flex_flow": null,
            "grid_area": null,
            "grid_auto_columns": null,
            "grid_auto_flow": null,
            "grid_auto_rows": null,
            "grid_column": null,
            "grid_gap": null,
            "grid_row": null,
            "grid_template_areas": null,
            "grid_template_columns": null,
            "grid_template_rows": null,
            "height": null,
            "justify_content": null,
            "justify_items": null,
            "left": null,
            "margin": null,
            "max_height": null,
            "max_width": null,
            "min_height": null,
            "min_width": null,
            "object_fit": null,
            "object_position": null,
            "order": null,
            "overflow": null,
            "overflow_x": null,
            "overflow_y": null,
            "padding": null,
            "right": null,
            "top": null,
            "visibility": null,
            "width": null
          }
        },
        "d9714c1a49dd45daa45eaafcbc4ebee8": {
          "model_module": "@jupyter-widgets/controls",
          "model_name": "DescriptionStyleModel",
          "model_module_version": "1.5.0",
          "state": {
            "_model_module": "@jupyter-widgets/controls",
            "_model_module_version": "1.5.0",
            "_model_name": "DescriptionStyleModel",
            "_view_count": null,
            "_view_module": "@jupyter-widgets/base",
            "_view_module_version": "1.2.0",
            "_view_name": "StyleView",
            "description_width": ""
          }
        },
        "b23ce56fc3e7417f8cf82f69d09fc0b7": {
          "model_module": "@jupyter-widgets/controls",
          "model_name": "HBoxModel",
          "model_module_version": "1.5.0",
          "state": {
            "_dom_classes": [],
            "_model_module": "@jupyter-widgets/controls",
            "_model_module_version": "1.5.0",
            "_model_name": "HBoxModel",
            "_view_count": null,
            "_view_module": "@jupyter-widgets/controls",
            "_view_module_version": "1.5.0",
            "_view_name": "HBoxView",
            "box_style": "",
            "children": [
              "IPY_MODEL_55b6e7c567644f93b323df1951e315b1",
              "IPY_MODEL_b5dd4df278c94a2e91674f97bda76411",
              "IPY_MODEL_612d71ab917f40ccadd0d33e898554de"
            ],
            "layout": "IPY_MODEL_b819c76031774363ab2de0b6b3d77c65"
          }
        },
        "55b6e7c567644f93b323df1951e315b1": {
          "model_module": "@jupyter-widgets/controls",
          "model_name": "HTMLModel",
          "model_module_version": "1.5.0",
          "state": {
            "_dom_classes": [],
            "_model_module": "@jupyter-widgets/controls",
            "_model_module_version": "1.5.0",
            "_model_name": "HTMLModel",
            "_view_count": null,
            "_view_module": "@jupyter-widgets/controls",
            "_view_module_version": "1.5.0",
            "_view_name": "HTMLView",
            "description": "",
            "description_tooltip": null,
            "layout": "IPY_MODEL_5c69c2694246428abccb2c5252767190",
            "placeholder": "​",
            "style": "IPY_MODEL_e35340d889b9454abefa918f106f7845",
            "value": "config.json: 100%"
          }
        },
        "b5dd4df278c94a2e91674f97bda76411": {
          "model_module": "@jupyter-widgets/controls",
          "model_name": "FloatProgressModel",
          "model_module_version": "1.5.0",
          "state": {
            "_dom_classes": [],
            "_model_module": "@jupyter-widgets/controls",
            "_model_module_version": "1.5.0",
            "_model_name": "FloatProgressModel",
            "_view_count": null,
            "_view_module": "@jupyter-widgets/controls",
            "_view_module_version": "1.5.0",
            "_view_name": "ProgressView",
            "bar_style": "success",
            "description": "",
            "description_tooltip": null,
            "layout": "IPY_MODEL_0a92d8ad3ace4e35b9c7291cae0040b9",
            "max": 1596,
            "min": 0,
            "orientation": "horizontal",
            "style": "IPY_MODEL_474bc232024543588cdc84406354c8c5",
            "value": 1596
          }
        },
        "612d71ab917f40ccadd0d33e898554de": {
          "model_module": "@jupyter-widgets/controls",
          "model_name": "HTMLModel",
          "model_module_version": "1.5.0",
          "state": {
            "_dom_classes": [],
            "_model_module": "@jupyter-widgets/controls",
            "_model_module_version": "1.5.0",
            "_model_name": "HTMLModel",
            "_view_count": null,
            "_view_module": "@jupyter-widgets/controls",
            "_view_module_version": "1.5.0",
            "_view_name": "HTMLView",
            "description": "",
            "description_tooltip": null,
            "layout": "IPY_MODEL_87a9fd42ce6842868fe476144f2d734e",
            "placeholder": "​",
            "style": "IPY_MODEL_6b0334bae722490f9811ca8f20f7aa2e",
            "value": " 1.60k/1.60k [00:00&lt;00:00, 172kB/s]"
          }
        },
        "b819c76031774363ab2de0b6b3d77c65": {
          "model_module": "@jupyter-widgets/base",
          "model_name": "LayoutModel",
          "model_module_version": "1.2.0",
          "state": {
            "_model_module": "@jupyter-widgets/base",
            "_model_module_version": "1.2.0",
            "_model_name": "LayoutModel",
            "_view_count": null,
            "_view_module": "@jupyter-widgets/base",
            "_view_module_version": "1.2.0",
            "_view_name": "LayoutView",
            "align_content": null,
            "align_items": null,
            "align_self": null,
            "border": null,
            "bottom": null,
            "display": null,
            "flex": null,
            "flex_flow": null,
            "grid_area": null,
            "grid_auto_columns": null,
            "grid_auto_flow": null,
            "grid_auto_rows": null,
            "grid_column": null,
            "grid_gap": null,
            "grid_row": null,
            "grid_template_areas": null,
            "grid_template_columns": null,
            "grid_template_rows": null,
            "height": null,
            "justify_content": null,
            "justify_items": null,
            "left": null,
            "margin": null,
            "max_height": null,
            "max_width": null,
            "min_height": null,
            "min_width": null,
            "object_fit": null,
            "object_position": null,
            "order": null,
            "overflow": null,
            "overflow_x": null,
            "overflow_y": null,
            "padding": null,
            "right": null,
            "top": null,
            "visibility": null,
            "width": null
          }
        },
        "5c69c2694246428abccb2c5252767190": {
          "model_module": "@jupyter-widgets/base",
          "model_name": "LayoutModel",
          "model_module_version": "1.2.0",
          "state": {
            "_model_module": "@jupyter-widgets/base",
            "_model_module_version": "1.2.0",
            "_model_name": "LayoutModel",
            "_view_count": null,
            "_view_module": "@jupyter-widgets/base",
            "_view_module_version": "1.2.0",
            "_view_name": "LayoutView",
            "align_content": null,
            "align_items": null,
            "align_self": null,
            "border": null,
            "bottom": null,
            "display": null,
            "flex": null,
            "flex_flow": null,
            "grid_area": null,
            "grid_auto_columns": null,
            "grid_auto_flow": null,
            "grid_auto_rows": null,
            "grid_column": null,
            "grid_gap": null,
            "grid_row": null,
            "grid_template_areas": null,
            "grid_template_columns": null,
            "grid_template_rows": null,
            "height": null,
            "justify_content": null,
            "justify_items": null,
            "left": null,
            "margin": null,
            "max_height": null,
            "max_width": null,
            "min_height": null,
            "min_width": null,
            "object_fit": null,
            "object_position": null,
            "order": null,
            "overflow": null,
            "overflow_x": null,
            "overflow_y": null,
            "padding": null,
            "right": null,
            "top": null,
            "visibility": null,
            "width": null
          }
        },
        "e35340d889b9454abefa918f106f7845": {
          "model_module": "@jupyter-widgets/controls",
          "model_name": "DescriptionStyleModel",
          "model_module_version": "1.5.0",
          "state": {
            "_model_module": "@jupyter-widgets/controls",
            "_model_module_version": "1.5.0",
            "_model_name": "DescriptionStyleModel",
            "_view_count": null,
            "_view_module": "@jupyter-widgets/base",
            "_view_module_version": "1.2.0",
            "_view_name": "StyleView",
            "description_width": ""
          }
        },
        "0a92d8ad3ace4e35b9c7291cae0040b9": {
          "model_module": "@jupyter-widgets/base",
          "model_name": "LayoutModel",
          "model_module_version": "1.2.0",
          "state": {
            "_model_module": "@jupyter-widgets/base",
            "_model_module_version": "1.2.0",
            "_model_name": "LayoutModel",
            "_view_count": null,
            "_view_module": "@jupyter-widgets/base",
            "_view_module_version": "1.2.0",
            "_view_name": "LayoutView",
            "align_content": null,
            "align_items": null,
            "align_self": null,
            "border": null,
            "bottom": null,
            "display": null,
            "flex": null,
            "flex_flow": null,
            "grid_area": null,
            "grid_auto_columns": null,
            "grid_auto_flow": null,
            "grid_auto_rows": null,
            "grid_column": null,
            "grid_gap": null,
            "grid_row": null,
            "grid_template_areas": null,
            "grid_template_columns": null,
            "grid_template_rows": null,
            "height": null,
            "justify_content": null,
            "justify_items": null,
            "left": null,
            "margin": null,
            "max_height": null,
            "max_width": null,
            "min_height": null,
            "min_width": null,
            "object_fit": null,
            "object_position": null,
            "order": null,
            "overflow": null,
            "overflow_x": null,
            "overflow_y": null,
            "padding": null,
            "right": null,
            "top": null,
            "visibility": null,
            "width": null
          }
        },
        "474bc232024543588cdc84406354c8c5": {
          "model_module": "@jupyter-widgets/controls",
          "model_name": "ProgressStyleModel",
          "model_module_version": "1.5.0",
          "state": {
            "_model_module": "@jupyter-widgets/controls",
            "_model_module_version": "1.5.0",
            "_model_name": "ProgressStyleModel",
            "_view_count": null,
            "_view_module": "@jupyter-widgets/base",
            "_view_module_version": "1.2.0",
            "_view_name": "StyleView",
            "bar_color": null,
            "description_width": ""
          }
        },
        "87a9fd42ce6842868fe476144f2d734e": {
          "model_module": "@jupyter-widgets/base",
          "model_name": "LayoutModel",
          "model_module_version": "1.2.0",
          "state": {
            "_model_module": "@jupyter-widgets/base",
            "_model_module_version": "1.2.0",
            "_model_name": "LayoutModel",
            "_view_count": null,
            "_view_module": "@jupyter-widgets/base",
            "_view_module_version": "1.2.0",
            "_view_name": "LayoutView",
            "align_content": null,
            "align_items": null,
            "align_self": null,
            "border": null,
            "bottom": null,
            "display": null,
            "flex": null,
            "flex_flow": null,
            "grid_area": null,
            "grid_auto_columns": null,
            "grid_auto_flow": null,
            "grid_auto_rows": null,
            "grid_column": null,
            "grid_gap": null,
            "grid_row": null,
            "grid_template_areas": null,
            "grid_template_columns": null,
            "grid_template_rows": null,
            "height": null,
            "justify_content": null,
            "justify_items": null,
            "left": null,
            "margin": null,
            "max_height": null,
            "max_width": null,
            "min_height": null,
            "min_width": null,
            "object_fit": null,
            "object_position": null,
            "order": null,
            "overflow": null,
            "overflow_x": null,
            "overflow_y": null,
            "padding": null,
            "right": null,
            "top": null,
            "visibility": null,
            "width": null
          }
        },
        "6b0334bae722490f9811ca8f20f7aa2e": {
          "model_module": "@jupyter-widgets/controls",
          "model_name": "DescriptionStyleModel",
          "model_module_version": "1.5.0",
          "state": {
            "_model_module": "@jupyter-widgets/controls",
            "_model_module_version": "1.5.0",
            "_model_name": "DescriptionStyleModel",
            "_view_count": null,
            "_view_module": "@jupyter-widgets/base",
            "_view_module_version": "1.2.0",
            "_view_name": "StyleView",
            "description_width": ""
          }
        },
        "524938ef560d4c6c8d650e8ed6db9d8a": {
          "model_module": "@jupyter-widgets/controls",
          "model_name": "HBoxModel",
          "model_module_version": "1.5.0",
          "state": {
            "_dom_classes": [],
            "_model_module": "@jupyter-widgets/controls",
            "_model_module_version": "1.5.0",
            "_model_name": "HBoxModel",
            "_view_count": null,
            "_view_module": "@jupyter-widgets/controls",
            "_view_module_version": "1.5.0",
            "_view_name": "HBoxView",
            "box_style": "",
            "children": [
              "IPY_MODEL_c24638e8916f47d683f4e9502786bf36",
              "IPY_MODEL_24feaf9fe554427583f645525704b189",
              "IPY_MODEL_cb2814dd832f4d4492b2c0aed7c7d62d"
            ],
            "layout": "IPY_MODEL_157039ca55ee40699e7b80e6fe580e2b"
          }
        },
        "c24638e8916f47d683f4e9502786bf36": {
          "model_module": "@jupyter-widgets/controls",
          "model_name": "HTMLModel",
          "model_module_version": "1.5.0",
          "state": {
            "_dom_classes": [],
            "_model_module": "@jupyter-widgets/controls",
            "_model_module_version": "1.5.0",
            "_model_name": "HTMLModel",
            "_view_count": null,
            "_view_module": "@jupyter-widgets/controls",
            "_view_module_version": "1.5.0",
            "_view_name": "HTMLView",
            "description": "",
            "description_tooltip": null,
            "layout": "IPY_MODEL_7edb6f53e5df45caad083981d33d3eea",
            "placeholder": "​",
            "style": "IPY_MODEL_e21c9837adf74feeab950be06ab3308f",
            "value": "vocab.json: 100%"
          }
        },
        "24feaf9fe554427583f645525704b189": {
          "model_module": "@jupyter-widgets/controls",
          "model_name": "FloatProgressModel",
          "model_module_version": "1.5.0",
          "state": {
            "_dom_classes": [],
            "_model_module": "@jupyter-widgets/controls",
            "_model_module_version": "1.5.0",
            "_model_name": "FloatProgressModel",
            "_view_count": null,
            "_view_module": "@jupyter-widgets/controls",
            "_view_module_version": "1.5.0",
            "_view_name": "ProgressView",
            "bar_style": "success",
            "description": "",
            "description_tooltip": null,
            "layout": "IPY_MODEL_50edf5a477ea4fe2b8fdd7bfb9a01076",
            "max": 291,
            "min": 0,
            "orientation": "horizontal",
            "style": "IPY_MODEL_d5d9a811c1e840618e81471c4612da4c",
            "value": 291
          }
        },
        "cb2814dd832f4d4492b2c0aed7c7d62d": {
          "model_module": "@jupyter-widgets/controls",
          "model_name": "HTMLModel",
          "model_module_version": "1.5.0",
          "state": {
            "_dom_classes": [],
            "_model_module": "@jupyter-widgets/controls",
            "_model_module_version": "1.5.0",
            "_model_name": "HTMLModel",
            "_view_count": null,
            "_view_module": "@jupyter-widgets/controls",
            "_view_module_version": "1.5.0",
            "_view_name": "HTMLView",
            "description": "",
            "description_tooltip": null,
            "layout": "IPY_MODEL_7c1039c48d224c84a18ad3bb201edf65",
            "placeholder": "​",
            "style": "IPY_MODEL_03329069fbdc44d4a3be48f48ef56f73",
            "value": " 291/291 [00:00&lt;00:00, 37.4kB/s]"
          }
        },
        "157039ca55ee40699e7b80e6fe580e2b": {
          "model_module": "@jupyter-widgets/base",
          "model_name": "LayoutModel",
          "model_module_version": "1.2.0",
          "state": {
            "_model_module": "@jupyter-widgets/base",
            "_model_module_version": "1.2.0",
            "_model_name": "LayoutModel",
            "_view_count": null,
            "_view_module": "@jupyter-widgets/base",
            "_view_module_version": "1.2.0",
            "_view_name": "LayoutView",
            "align_content": null,
            "align_items": null,
            "align_self": null,
            "border": null,
            "bottom": null,
            "display": null,
            "flex": null,
            "flex_flow": null,
            "grid_area": null,
            "grid_auto_columns": null,
            "grid_auto_flow": null,
            "grid_auto_rows": null,
            "grid_column": null,
            "grid_gap": null,
            "grid_row": null,
            "grid_template_areas": null,
            "grid_template_columns": null,
            "grid_template_rows": null,
            "height": null,
            "justify_content": null,
            "justify_items": null,
            "left": null,
            "margin": null,
            "max_height": null,
            "max_width": null,
            "min_height": null,
            "min_width": null,
            "object_fit": null,
            "object_position": null,
            "order": null,
            "overflow": null,
            "overflow_x": null,
            "overflow_y": null,
            "padding": null,
            "right": null,
            "top": null,
            "visibility": null,
            "width": null
          }
        },
        "7edb6f53e5df45caad083981d33d3eea": {
          "model_module": "@jupyter-widgets/base",
          "model_name": "LayoutModel",
          "model_module_version": "1.2.0",
          "state": {
            "_model_module": "@jupyter-widgets/base",
            "_model_module_version": "1.2.0",
            "_model_name": "LayoutModel",
            "_view_count": null,
            "_view_module": "@jupyter-widgets/base",
            "_view_module_version": "1.2.0",
            "_view_name": "LayoutView",
            "align_content": null,
            "align_items": null,
            "align_self": null,
            "border": null,
            "bottom": null,
            "display": null,
            "flex": null,
            "flex_flow": null,
            "grid_area": null,
            "grid_auto_columns": null,
            "grid_auto_flow": null,
            "grid_auto_rows": null,
            "grid_column": null,
            "grid_gap": null,
            "grid_row": null,
            "grid_template_areas": null,
            "grid_template_columns": null,
            "grid_template_rows": null,
            "height": null,
            "justify_content": null,
            "justify_items": null,
            "left": null,
            "margin": null,
            "max_height": null,
            "max_width": null,
            "min_height": null,
            "min_width": null,
            "object_fit": null,
            "object_position": null,
            "order": null,
            "overflow": null,
            "overflow_x": null,
            "overflow_y": null,
            "padding": null,
            "right": null,
            "top": null,
            "visibility": null,
            "width": null
          }
        },
        "e21c9837adf74feeab950be06ab3308f": {
          "model_module": "@jupyter-widgets/controls",
          "model_name": "DescriptionStyleModel",
          "model_module_version": "1.5.0",
          "state": {
            "_model_module": "@jupyter-widgets/controls",
            "_model_module_version": "1.5.0",
            "_model_name": "DescriptionStyleModel",
            "_view_count": null,
            "_view_module": "@jupyter-widgets/base",
            "_view_module_version": "1.2.0",
            "_view_name": "StyleView",
            "description_width": ""
          }
        },
        "50edf5a477ea4fe2b8fdd7bfb9a01076": {
          "model_module": "@jupyter-widgets/base",
          "model_name": "LayoutModel",
          "model_module_version": "1.2.0",
          "state": {
            "_model_module": "@jupyter-widgets/base",
            "_model_module_version": "1.2.0",
            "_model_name": "LayoutModel",
            "_view_count": null,
            "_view_module": "@jupyter-widgets/base",
            "_view_module_version": "1.2.0",
            "_view_name": "LayoutView",
            "align_content": null,
            "align_items": null,
            "align_self": null,
            "border": null,
            "bottom": null,
            "display": null,
            "flex": null,
            "flex_flow": null,
            "grid_area": null,
            "grid_auto_columns": null,
            "grid_auto_flow": null,
            "grid_auto_rows": null,
            "grid_column": null,
            "grid_gap": null,
            "grid_row": null,
            "grid_template_areas": null,
            "grid_template_columns": null,
            "grid_template_rows": null,
            "height": null,
            "justify_content": null,
            "justify_items": null,
            "left": null,
            "margin": null,
            "max_height": null,
            "max_width": null,
            "min_height": null,
            "min_width": null,
            "object_fit": null,
            "object_position": null,
            "order": null,
            "overflow": null,
            "overflow_x": null,
            "overflow_y": null,
            "padding": null,
            "right": null,
            "top": null,
            "visibility": null,
            "width": null
          }
        },
        "d5d9a811c1e840618e81471c4612da4c": {
          "model_module": "@jupyter-widgets/controls",
          "model_name": "ProgressStyleModel",
          "model_module_version": "1.5.0",
          "state": {
            "_model_module": "@jupyter-widgets/controls",
            "_model_module_version": "1.5.0",
            "_model_name": "ProgressStyleModel",
            "_view_count": null,
            "_view_module": "@jupyter-widgets/base",
            "_view_module_version": "1.2.0",
            "_view_name": "StyleView",
            "bar_color": null,
            "description_width": ""
          }
        },
        "7c1039c48d224c84a18ad3bb201edf65": {
          "model_module": "@jupyter-widgets/base",
          "model_name": "LayoutModel",
          "model_module_version": "1.2.0",
          "state": {
            "_model_module": "@jupyter-widgets/base",
            "_model_module_version": "1.2.0",
            "_model_name": "LayoutModel",
            "_view_count": null,
            "_view_module": "@jupyter-widgets/base",
            "_view_module_version": "1.2.0",
            "_view_name": "LayoutView",
            "align_content": null,
            "align_items": null,
            "align_self": null,
            "border": null,
            "bottom": null,
            "display": null,
            "flex": null,
            "flex_flow": null,
            "grid_area": null,
            "grid_auto_columns": null,
            "grid_auto_flow": null,
            "grid_auto_rows": null,
            "grid_column": null,
            "grid_gap": null,
            "grid_row": null,
            "grid_template_areas": null,
            "grid_template_columns": null,
            "grid_template_rows": null,
            "height": null,
            "justify_content": null,
            "justify_items": null,
            "left": null,
            "margin": null,
            "max_height": null,
            "max_width": null,
            "min_height": null,
            "min_width": null,
            "object_fit": null,
            "object_position": null,
            "order": null,
            "overflow": null,
            "overflow_x": null,
            "overflow_y": null,
            "padding": null,
            "right": null,
            "top": null,
            "visibility": null,
            "width": null
          }
        },
        "03329069fbdc44d4a3be48f48ef56f73": {
          "model_module": "@jupyter-widgets/controls",
          "model_name": "DescriptionStyleModel",
          "model_module_version": "1.5.0",
          "state": {
            "_model_module": "@jupyter-widgets/controls",
            "_model_module_version": "1.5.0",
            "_model_name": "DescriptionStyleModel",
            "_view_count": null,
            "_view_module": "@jupyter-widgets/base",
            "_view_module_version": "1.2.0",
            "_view_name": "StyleView",
            "description_width": ""
          }
        },
        "ca5d030eb90c431f8cda750168963903": {
          "model_module": "@jupyter-widgets/controls",
          "model_name": "HBoxModel",
          "model_module_version": "1.5.0",
          "state": {
            "_dom_classes": [],
            "_model_module": "@jupyter-widgets/controls",
            "_model_module_version": "1.5.0",
            "_model_name": "HBoxModel",
            "_view_count": null,
            "_view_module": "@jupyter-widgets/controls",
            "_view_module_version": "1.5.0",
            "_view_name": "HBoxView",
            "box_style": "",
            "children": [
              "IPY_MODEL_d778ae27e83141ba912a08f299a8ce00",
              "IPY_MODEL_5371215b372f4d8caf6a234323f61ae3",
              "IPY_MODEL_a25371077519472791ed3b133387efef"
            ],
            "layout": "IPY_MODEL_d584bf0af65c46f8836b989391b8cdda"
          }
        },
        "d778ae27e83141ba912a08f299a8ce00": {
          "model_module": "@jupyter-widgets/controls",
          "model_name": "HTMLModel",
          "model_module_version": "1.5.0",
          "state": {
            "_dom_classes": [],
            "_model_module": "@jupyter-widgets/controls",
            "_model_module_version": "1.5.0",
            "_model_name": "HTMLModel",
            "_view_count": null,
            "_view_module": "@jupyter-widgets/controls",
            "_view_module_version": "1.5.0",
            "_view_name": "HTMLView",
            "description": "",
            "description_tooltip": null,
            "layout": "IPY_MODEL_0b54dc3c93bd480d8b7e83fa911aabec",
            "placeholder": "​",
            "style": "IPY_MODEL_44aa6a88a95544be8a7162eff3ffb3a7",
            "value": "special_tokens_map.json: 100%"
          }
        },
        "5371215b372f4d8caf6a234323f61ae3": {
          "model_module": "@jupyter-widgets/controls",
          "model_name": "FloatProgressModel",
          "model_module_version": "1.5.0",
          "state": {
            "_dom_classes": [],
            "_model_module": "@jupyter-widgets/controls",
            "_model_module_version": "1.5.0",
            "_model_name": "FloatProgressModel",
            "_view_count": null,
            "_view_module": "@jupyter-widgets/controls",
            "_view_module_version": "1.5.0",
            "_view_name": "ProgressView",
            "bar_style": "success",
            "description": "",
            "description_tooltip": null,
            "layout": "IPY_MODEL_8bd7ff15ebe4477085083aacc522ed9e",
            "max": 85,
            "min": 0,
            "orientation": "horizontal",
            "style": "IPY_MODEL_c634b0b7d2b64b6a86cd176c4e3faa93",
            "value": 85
          }
        },
        "a25371077519472791ed3b133387efef": {
          "model_module": "@jupyter-widgets/controls",
          "model_name": "HTMLModel",
          "model_module_version": "1.5.0",
          "state": {
            "_dom_classes": [],
            "_model_module": "@jupyter-widgets/controls",
            "_model_module_version": "1.5.0",
            "_model_name": "HTMLModel",
            "_view_count": null,
            "_view_module": "@jupyter-widgets/controls",
            "_view_module_version": "1.5.0",
            "_view_name": "HTMLView",
            "description": "",
            "description_tooltip": null,
            "layout": "IPY_MODEL_38abc2f13f1e4d22bf48375587609eb6",
            "placeholder": "​",
            "style": "IPY_MODEL_8d1c33872643493da0d61cfdb9b63f9a",
            "value": " 85.0/85.0 [00:00&lt;00:00, 7.34kB/s]"
          }
        },
        "d584bf0af65c46f8836b989391b8cdda": {
          "model_module": "@jupyter-widgets/base",
          "model_name": "LayoutModel",
          "model_module_version": "1.2.0",
          "state": {
            "_model_module": "@jupyter-widgets/base",
            "_model_module_version": "1.2.0",
            "_model_name": "LayoutModel",
            "_view_count": null,
            "_view_module": "@jupyter-widgets/base",
            "_view_module_version": "1.2.0",
            "_view_name": "LayoutView",
            "align_content": null,
            "align_items": null,
            "align_self": null,
            "border": null,
            "bottom": null,
            "display": null,
            "flex": null,
            "flex_flow": null,
            "grid_area": null,
            "grid_auto_columns": null,
            "grid_auto_flow": null,
            "grid_auto_rows": null,
            "grid_column": null,
            "grid_gap": null,
            "grid_row": null,
            "grid_template_areas": null,
            "grid_template_columns": null,
            "grid_template_rows": null,
            "height": null,
            "justify_content": null,
            "justify_items": null,
            "left": null,
            "margin": null,
            "max_height": null,
            "max_width": null,
            "min_height": null,
            "min_width": null,
            "object_fit": null,
            "object_position": null,
            "order": null,
            "overflow": null,
            "overflow_x": null,
            "overflow_y": null,
            "padding": null,
            "right": null,
            "top": null,
            "visibility": null,
            "width": null
          }
        },
        "0b54dc3c93bd480d8b7e83fa911aabec": {
          "model_module": "@jupyter-widgets/base",
          "model_name": "LayoutModel",
          "model_module_version": "1.2.0",
          "state": {
            "_model_module": "@jupyter-widgets/base",
            "_model_module_version": "1.2.0",
            "_model_name": "LayoutModel",
            "_view_count": null,
            "_view_module": "@jupyter-widgets/base",
            "_view_module_version": "1.2.0",
            "_view_name": "LayoutView",
            "align_content": null,
            "align_items": null,
            "align_self": null,
            "border": null,
            "bottom": null,
            "display": null,
            "flex": null,
            "flex_flow": null,
            "grid_area": null,
            "grid_auto_columns": null,
            "grid_auto_flow": null,
            "grid_auto_rows": null,
            "grid_column": null,
            "grid_gap": null,
            "grid_row": null,
            "grid_template_areas": null,
            "grid_template_columns": null,
            "grid_template_rows": null,
            "height": null,
            "justify_content": null,
            "justify_items": null,
            "left": null,
            "margin": null,
            "max_height": null,
            "max_width": null,
            "min_height": null,
            "min_width": null,
            "object_fit": null,
            "object_position": null,
            "order": null,
            "overflow": null,
            "overflow_x": null,
            "overflow_y": null,
            "padding": null,
            "right": null,
            "top": null,
            "visibility": null,
            "width": null
          }
        },
        "44aa6a88a95544be8a7162eff3ffb3a7": {
          "model_module": "@jupyter-widgets/controls",
          "model_name": "DescriptionStyleModel",
          "model_module_version": "1.5.0",
          "state": {
            "_model_module": "@jupyter-widgets/controls",
            "_model_module_version": "1.5.0",
            "_model_name": "DescriptionStyleModel",
            "_view_count": null,
            "_view_module": "@jupyter-widgets/base",
            "_view_module_version": "1.2.0",
            "_view_name": "StyleView",
            "description_width": ""
          }
        },
        "8bd7ff15ebe4477085083aacc522ed9e": {
          "model_module": "@jupyter-widgets/base",
          "model_name": "LayoutModel",
          "model_module_version": "1.2.0",
          "state": {
            "_model_module": "@jupyter-widgets/base",
            "_model_module_version": "1.2.0",
            "_model_name": "LayoutModel",
            "_view_count": null,
            "_view_module": "@jupyter-widgets/base",
            "_view_module_version": "1.2.0",
            "_view_name": "LayoutView",
            "align_content": null,
            "align_items": null,
            "align_self": null,
            "border": null,
            "bottom": null,
            "display": null,
            "flex": null,
            "flex_flow": null,
            "grid_area": null,
            "grid_auto_columns": null,
            "grid_auto_flow": null,
            "grid_auto_rows": null,
            "grid_column": null,
            "grid_gap": null,
            "grid_row": null,
            "grid_template_areas": null,
            "grid_template_columns": null,
            "grid_template_rows": null,
            "height": null,
            "justify_content": null,
            "justify_items": null,
            "left": null,
            "margin": null,
            "max_height": null,
            "max_width": null,
            "min_height": null,
            "min_width": null,
            "object_fit": null,
            "object_position": null,
            "order": null,
            "overflow": null,
            "overflow_x": null,
            "overflow_y": null,
            "padding": null,
            "right": null,
            "top": null,
            "visibility": null,
            "width": null
          }
        },
        "c634b0b7d2b64b6a86cd176c4e3faa93": {
          "model_module": "@jupyter-widgets/controls",
          "model_name": "ProgressStyleModel",
          "model_module_version": "1.5.0",
          "state": {
            "_model_module": "@jupyter-widgets/controls",
            "_model_module_version": "1.5.0",
            "_model_name": "ProgressStyleModel",
            "_view_count": null,
            "_view_module": "@jupyter-widgets/base",
            "_view_module_version": "1.2.0",
            "_view_name": "StyleView",
            "bar_color": null,
            "description_width": ""
          }
        },
        "38abc2f13f1e4d22bf48375587609eb6": {
          "model_module": "@jupyter-widgets/base",
          "model_name": "LayoutModel",
          "model_module_version": "1.2.0",
          "state": {
            "_model_module": "@jupyter-widgets/base",
            "_model_module_version": "1.2.0",
            "_model_name": "LayoutModel",
            "_view_count": null,
            "_view_module": "@jupyter-widgets/base",
            "_view_module_version": "1.2.0",
            "_view_name": "LayoutView",
            "align_content": null,
            "align_items": null,
            "align_self": null,
            "border": null,
            "bottom": null,
            "display": null,
            "flex": null,
            "flex_flow": null,
            "grid_area": null,
            "grid_auto_columns": null,
            "grid_auto_flow": null,
            "grid_auto_rows": null,
            "grid_column": null,
            "grid_gap": null,
            "grid_row": null,
            "grid_template_areas": null,
            "grid_template_columns": null,
            "grid_template_rows": null,
            "height": null,
            "justify_content": null,
            "justify_items": null,
            "left": null,
            "margin": null,
            "max_height": null,
            "max_width": null,
            "min_height": null,
            "min_width": null,
            "object_fit": null,
            "object_position": null,
            "order": null,
            "overflow": null,
            "overflow_x": null,
            "overflow_y": null,
            "padding": null,
            "right": null,
            "top": null,
            "visibility": null,
            "width": null
          }
        },
        "8d1c33872643493da0d61cfdb9b63f9a": {
          "model_module": "@jupyter-widgets/controls",
          "model_name": "DescriptionStyleModel",
          "model_module_version": "1.5.0",
          "state": {
            "_model_module": "@jupyter-widgets/controls",
            "_model_module_version": "1.5.0",
            "_model_name": "DescriptionStyleModel",
            "_view_count": null,
            "_view_module": "@jupyter-widgets/base",
            "_view_module_version": "1.2.0",
            "_view_name": "StyleView",
            "description_width": ""
          }
        },
        "66d5ca6a39014fbd829dd1d430f1e0bc": {
          "model_module": "@jupyter-widgets/controls",
          "model_name": "HBoxModel",
          "model_module_version": "1.5.0",
          "state": {
            "_dom_classes": [],
            "_model_module": "@jupyter-widgets/controls",
            "_model_module_version": "1.5.0",
            "_model_name": "HBoxModel",
            "_view_count": null,
            "_view_module": "@jupyter-widgets/controls",
            "_view_module_version": "1.5.0",
            "_view_name": "HBoxView",
            "box_style": "",
            "children": [
              "IPY_MODEL_c3da7e438d174e89a6d3526309653d4c",
              "IPY_MODEL_2b7b31d8d631443a92592e90150184a8",
              "IPY_MODEL_c259348d90c0404896c32d94012f4af2"
            ],
            "layout": "IPY_MODEL_6718204d89bb4ccfac35d515e5046977"
          }
        },
        "c3da7e438d174e89a6d3526309653d4c": {
          "model_module": "@jupyter-widgets/controls",
          "model_name": "HTMLModel",
          "model_module_version": "1.5.0",
          "state": {
            "_dom_classes": [],
            "_model_module": "@jupyter-widgets/controls",
            "_model_module_version": "1.5.0",
            "_model_name": "HTMLModel",
            "_view_count": null,
            "_view_module": "@jupyter-widgets/controls",
            "_view_module_version": "1.5.0",
            "_view_name": "HTMLView",
            "description": "",
            "description_tooltip": null,
            "layout": "IPY_MODEL_20544d60142e4520833f0581db69b4b8",
            "placeholder": "​",
            "style": "IPY_MODEL_3234a33b76a84dccb43af4cbc4162701",
            "value": "Map: 100%"
          }
        },
        "2b7b31d8d631443a92592e90150184a8": {
          "model_module": "@jupyter-widgets/controls",
          "model_name": "FloatProgressModel",
          "model_module_version": "1.5.0",
          "state": {
            "_dom_classes": [],
            "_model_module": "@jupyter-widgets/controls",
            "_model_module_version": "1.5.0",
            "_model_name": "FloatProgressModel",
            "_view_count": null,
            "_view_module": "@jupyter-widgets/controls",
            "_view_module_version": "1.5.0",
            "_view_name": "ProgressView",
            "bar_style": "success",
            "description": "",
            "description_tooltip": null,
            "layout": "IPY_MODEL_0d3e05c0abc643fd999757d4c495d2d5",
            "max": 4178,
            "min": 0,
            "orientation": "horizontal",
            "style": "IPY_MODEL_2215068bf26f4d59b2a082d92fb0db48",
            "value": 4178
          }
        },
        "c259348d90c0404896c32d94012f4af2": {
          "model_module": "@jupyter-widgets/controls",
          "model_name": "HTMLModel",
          "model_module_version": "1.5.0",
          "state": {
            "_dom_classes": [],
            "_model_module": "@jupyter-widgets/controls",
            "_model_module_version": "1.5.0",
            "_model_name": "HTMLModel",
            "_view_count": null,
            "_view_module": "@jupyter-widgets/controls",
            "_view_module_version": "1.5.0",
            "_view_name": "HTMLView",
            "description": "",
            "description_tooltip": null,
            "layout": "IPY_MODEL_3ccbdce3e8d9424c931bffd01f9debaf",
            "placeholder": "​",
            "style": "IPY_MODEL_d359a40c12524be19db2f1518bf9c1a6",
            "value": " 4178/4178 [00:54&lt;00:00, 126.61 examples/s]"
          }
        },
        "6718204d89bb4ccfac35d515e5046977": {
          "model_module": "@jupyter-widgets/base",
          "model_name": "LayoutModel",
          "model_module_version": "1.2.0",
          "state": {
            "_model_module": "@jupyter-widgets/base",
            "_model_module_version": "1.2.0",
            "_model_name": "LayoutModel",
            "_view_count": null,
            "_view_module": "@jupyter-widgets/base",
            "_view_module_version": "1.2.0",
            "_view_name": "LayoutView",
            "align_content": null,
            "align_items": null,
            "align_self": null,
            "border": null,
            "bottom": null,
            "display": null,
            "flex": null,
            "flex_flow": null,
            "grid_area": null,
            "grid_auto_columns": null,
            "grid_auto_flow": null,
            "grid_auto_rows": null,
            "grid_column": null,
            "grid_gap": null,
            "grid_row": null,
            "grid_template_areas": null,
            "grid_template_columns": null,
            "grid_template_rows": null,
            "height": null,
            "justify_content": null,
            "justify_items": null,
            "left": null,
            "margin": null,
            "max_height": null,
            "max_width": null,
            "min_height": null,
            "min_width": null,
            "object_fit": null,
            "object_position": null,
            "order": null,
            "overflow": null,
            "overflow_x": null,
            "overflow_y": null,
            "padding": null,
            "right": null,
            "top": null,
            "visibility": null,
            "width": null
          }
        },
        "20544d60142e4520833f0581db69b4b8": {
          "model_module": "@jupyter-widgets/base",
          "model_name": "LayoutModel",
          "model_module_version": "1.2.0",
          "state": {
            "_model_module": "@jupyter-widgets/base",
            "_model_module_version": "1.2.0",
            "_model_name": "LayoutModel",
            "_view_count": null,
            "_view_module": "@jupyter-widgets/base",
            "_view_module_version": "1.2.0",
            "_view_name": "LayoutView",
            "align_content": null,
            "align_items": null,
            "align_self": null,
            "border": null,
            "bottom": null,
            "display": null,
            "flex": null,
            "flex_flow": null,
            "grid_area": null,
            "grid_auto_columns": null,
            "grid_auto_flow": null,
            "grid_auto_rows": null,
            "grid_column": null,
            "grid_gap": null,
            "grid_row": null,
            "grid_template_areas": null,
            "grid_template_columns": null,
            "grid_template_rows": null,
            "height": null,
            "justify_content": null,
            "justify_items": null,
            "left": null,
            "margin": null,
            "max_height": null,
            "max_width": null,
            "min_height": null,
            "min_width": null,
            "object_fit": null,
            "object_position": null,
            "order": null,
            "overflow": null,
            "overflow_x": null,
            "overflow_y": null,
            "padding": null,
            "right": null,
            "top": null,
            "visibility": null,
            "width": null
          }
        },
        "3234a33b76a84dccb43af4cbc4162701": {
          "model_module": "@jupyter-widgets/controls",
          "model_name": "DescriptionStyleModel",
          "model_module_version": "1.5.0",
          "state": {
            "_model_module": "@jupyter-widgets/controls",
            "_model_module_version": "1.5.0",
            "_model_name": "DescriptionStyleModel",
            "_view_count": null,
            "_view_module": "@jupyter-widgets/base",
            "_view_module_version": "1.2.0",
            "_view_name": "StyleView",
            "description_width": ""
          }
        },
        "0d3e05c0abc643fd999757d4c495d2d5": {
          "model_module": "@jupyter-widgets/base",
          "model_name": "LayoutModel",
          "model_module_version": "1.2.0",
          "state": {
            "_model_module": "@jupyter-widgets/base",
            "_model_module_version": "1.2.0",
            "_model_name": "LayoutModel",
            "_view_count": null,
            "_view_module": "@jupyter-widgets/base",
            "_view_module_version": "1.2.0",
            "_view_name": "LayoutView",
            "align_content": null,
            "align_items": null,
            "align_self": null,
            "border": null,
            "bottom": null,
            "display": null,
            "flex": null,
            "flex_flow": null,
            "grid_area": null,
            "grid_auto_columns": null,
            "grid_auto_flow": null,
            "grid_auto_rows": null,
            "grid_column": null,
            "grid_gap": null,
            "grid_row": null,
            "grid_template_areas": null,
            "grid_template_columns": null,
            "grid_template_rows": null,
            "height": null,
            "justify_content": null,
            "justify_items": null,
            "left": null,
            "margin": null,
            "max_height": null,
            "max_width": null,
            "min_height": null,
            "min_width": null,
            "object_fit": null,
            "object_position": null,
            "order": null,
            "overflow": null,
            "overflow_x": null,
            "overflow_y": null,
            "padding": null,
            "right": null,
            "top": null,
            "visibility": null,
            "width": null
          }
        },
        "2215068bf26f4d59b2a082d92fb0db48": {
          "model_module": "@jupyter-widgets/controls",
          "model_name": "ProgressStyleModel",
          "model_module_version": "1.5.0",
          "state": {
            "_model_module": "@jupyter-widgets/controls",
            "_model_module_version": "1.5.0",
            "_model_name": "ProgressStyleModel",
            "_view_count": null,
            "_view_module": "@jupyter-widgets/base",
            "_view_module_version": "1.2.0",
            "_view_name": "StyleView",
            "bar_color": null,
            "description_width": ""
          }
        },
        "3ccbdce3e8d9424c931bffd01f9debaf": {
          "model_module": "@jupyter-widgets/base",
          "model_name": "LayoutModel",
          "model_module_version": "1.2.0",
          "state": {
            "_model_module": "@jupyter-widgets/base",
            "_model_module_version": "1.2.0",
            "_model_name": "LayoutModel",
            "_view_count": null,
            "_view_module": "@jupyter-widgets/base",
            "_view_module_version": "1.2.0",
            "_view_name": "LayoutView",
            "align_content": null,
            "align_items": null,
            "align_self": null,
            "border": null,
            "bottom": null,
            "display": null,
            "flex": null,
            "flex_flow": null,
            "grid_area": null,
            "grid_auto_columns": null,
            "grid_auto_flow": null,
            "grid_auto_rows": null,
            "grid_column": null,
            "grid_gap": null,
            "grid_row": null,
            "grid_template_areas": null,
            "grid_template_columns": null,
            "grid_template_rows": null,
            "height": null,
            "justify_content": null,
            "justify_items": null,
            "left": null,
            "margin": null,
            "max_height": null,
            "max_width": null,
            "min_height": null,
            "min_width": null,
            "object_fit": null,
            "object_position": null,
            "order": null,
            "overflow": null,
            "overflow_x": null,
            "overflow_y": null,
            "padding": null,
            "right": null,
            "top": null,
            "visibility": null,
            "width": null
          }
        },
        "d359a40c12524be19db2f1518bf9c1a6": {
          "model_module": "@jupyter-widgets/controls",
          "model_name": "DescriptionStyleModel",
          "model_module_version": "1.5.0",
          "state": {
            "_model_module": "@jupyter-widgets/controls",
            "_model_module_version": "1.5.0",
            "_model_name": "DescriptionStyleModel",
            "_view_count": null,
            "_view_module": "@jupyter-widgets/base",
            "_view_module_version": "1.2.0",
            "_view_name": "StyleView",
            "description_width": ""
          }
        },
        "8194a5c8cb2c4cb68f2d2a397f423e55": {
          "model_module": "@jupyter-widgets/controls",
          "model_name": "HBoxModel",
          "model_module_version": "1.5.0",
          "state": {
            "_dom_classes": [],
            "_model_module": "@jupyter-widgets/controls",
            "_model_module_version": "1.5.0",
            "_model_name": "HBoxModel",
            "_view_count": null,
            "_view_module": "@jupyter-widgets/controls",
            "_view_module_version": "1.5.0",
            "_view_name": "HBoxView",
            "box_style": "",
            "children": [
              "IPY_MODEL_b8e8305efcfa4e48bbe68f3b72ae4565",
              "IPY_MODEL_91dd2afd159f403b9cd35818188360dc",
              "IPY_MODEL_d43634afce38424194a61b1bc890c50a"
            ],
            "layout": "IPY_MODEL_f2a8ac530f954f8899049eafc83f4e25"
          }
        },
        "b8e8305efcfa4e48bbe68f3b72ae4565": {
          "model_module": "@jupyter-widgets/controls",
          "model_name": "HTMLModel",
          "model_module_version": "1.5.0",
          "state": {
            "_dom_classes": [],
            "_model_module": "@jupyter-widgets/controls",
            "_model_module_version": "1.5.0",
            "_model_name": "HTMLModel",
            "_view_count": null,
            "_view_module": "@jupyter-widgets/controls",
            "_view_module_version": "1.5.0",
            "_view_name": "HTMLView",
            "description": "",
            "description_tooltip": null,
            "layout": "IPY_MODEL_713043495f064cb8904cb83b21de0071",
            "placeholder": "​",
            "style": "IPY_MODEL_1f4a09a2e1ad45cbaaa6553f1a6e07eb",
            "value": "Map: 100%"
          }
        },
        "91dd2afd159f403b9cd35818188360dc": {
          "model_module": "@jupyter-widgets/controls",
          "model_name": "FloatProgressModel",
          "model_module_version": "1.5.0",
          "state": {
            "_dom_classes": [],
            "_model_module": "@jupyter-widgets/controls",
            "_model_module_version": "1.5.0",
            "_model_name": "FloatProgressModel",
            "_view_count": null,
            "_view_module": "@jupyter-widgets/controls",
            "_view_module_version": "1.5.0",
            "_view_name": "ProgressView",
            "bar_style": "success",
            "description": "",
            "description_tooltip": null,
            "layout": "IPY_MODEL_142ddbe9c0fa43d68a483561ba76259b",
            "max": 2703,
            "min": 0,
            "orientation": "horizontal",
            "style": "IPY_MODEL_ab5aa7435f554b9a966006108761b365",
            "value": 2703
          }
        },
        "d43634afce38424194a61b1bc890c50a": {
          "model_module": "@jupyter-widgets/controls",
          "model_name": "HTMLModel",
          "model_module_version": "1.5.0",
          "state": {
            "_dom_classes": [],
            "_model_module": "@jupyter-widgets/controls",
            "_model_module_version": "1.5.0",
            "_model_name": "HTMLModel",
            "_view_count": null,
            "_view_module": "@jupyter-widgets/controls",
            "_view_module_version": "1.5.0",
            "_view_name": "HTMLView",
            "description": "",
            "description_tooltip": null,
            "layout": "IPY_MODEL_2f6b69fba9c040d1965af368b2310c09",
            "placeholder": "​",
            "style": "IPY_MODEL_bfd9b0c71d3f493887feda77a15d9296",
            "value": " 2703/2703 [00:14&lt;00:00, 225.34 examples/s]"
          }
        },
        "f2a8ac530f954f8899049eafc83f4e25": {
          "model_module": "@jupyter-widgets/base",
          "model_name": "LayoutModel",
          "model_module_version": "1.2.0",
          "state": {
            "_model_module": "@jupyter-widgets/base",
            "_model_module_version": "1.2.0",
            "_model_name": "LayoutModel",
            "_view_count": null,
            "_view_module": "@jupyter-widgets/base",
            "_view_module_version": "1.2.0",
            "_view_name": "LayoutView",
            "align_content": null,
            "align_items": null,
            "align_self": null,
            "border": null,
            "bottom": null,
            "display": null,
            "flex": null,
            "flex_flow": null,
            "grid_area": null,
            "grid_auto_columns": null,
            "grid_auto_flow": null,
            "grid_auto_rows": null,
            "grid_column": null,
            "grid_gap": null,
            "grid_row": null,
            "grid_template_areas": null,
            "grid_template_columns": null,
            "grid_template_rows": null,
            "height": null,
            "justify_content": null,
            "justify_items": null,
            "left": null,
            "margin": null,
            "max_height": null,
            "max_width": null,
            "min_height": null,
            "min_width": null,
            "object_fit": null,
            "object_position": null,
            "order": null,
            "overflow": null,
            "overflow_x": null,
            "overflow_y": null,
            "padding": null,
            "right": null,
            "top": null,
            "visibility": null,
            "width": null
          }
        },
        "713043495f064cb8904cb83b21de0071": {
          "model_module": "@jupyter-widgets/base",
          "model_name": "LayoutModel",
          "model_module_version": "1.2.0",
          "state": {
            "_model_module": "@jupyter-widgets/base",
            "_model_module_version": "1.2.0",
            "_model_name": "LayoutModel",
            "_view_count": null,
            "_view_module": "@jupyter-widgets/base",
            "_view_module_version": "1.2.0",
            "_view_name": "LayoutView",
            "align_content": null,
            "align_items": null,
            "align_self": null,
            "border": null,
            "bottom": null,
            "display": null,
            "flex": null,
            "flex_flow": null,
            "grid_area": null,
            "grid_auto_columns": null,
            "grid_auto_flow": null,
            "grid_auto_rows": null,
            "grid_column": null,
            "grid_gap": null,
            "grid_row": null,
            "grid_template_areas": null,
            "grid_template_columns": null,
            "grid_template_rows": null,
            "height": null,
            "justify_content": null,
            "justify_items": null,
            "left": null,
            "margin": null,
            "max_height": null,
            "max_width": null,
            "min_height": null,
            "min_width": null,
            "object_fit": null,
            "object_position": null,
            "order": null,
            "overflow": null,
            "overflow_x": null,
            "overflow_y": null,
            "padding": null,
            "right": null,
            "top": null,
            "visibility": null,
            "width": null
          }
        },
        "1f4a09a2e1ad45cbaaa6553f1a6e07eb": {
          "model_module": "@jupyter-widgets/controls",
          "model_name": "DescriptionStyleModel",
          "model_module_version": "1.5.0",
          "state": {
            "_model_module": "@jupyter-widgets/controls",
            "_model_module_version": "1.5.0",
            "_model_name": "DescriptionStyleModel",
            "_view_count": null,
            "_view_module": "@jupyter-widgets/base",
            "_view_module_version": "1.2.0",
            "_view_name": "StyleView",
            "description_width": ""
          }
        },
        "142ddbe9c0fa43d68a483561ba76259b": {
          "model_module": "@jupyter-widgets/base",
          "model_name": "LayoutModel",
          "model_module_version": "1.2.0",
          "state": {
            "_model_module": "@jupyter-widgets/base",
            "_model_module_version": "1.2.0",
            "_model_name": "LayoutModel",
            "_view_count": null,
            "_view_module": "@jupyter-widgets/base",
            "_view_module_version": "1.2.0",
            "_view_name": "LayoutView",
            "align_content": null,
            "align_items": null,
            "align_self": null,
            "border": null,
            "bottom": null,
            "display": null,
            "flex": null,
            "flex_flow": null,
            "grid_area": null,
            "grid_auto_columns": null,
            "grid_auto_flow": null,
            "grid_auto_rows": null,
            "grid_column": null,
            "grid_gap": null,
            "grid_row": null,
            "grid_template_areas": null,
            "grid_template_columns": null,
            "grid_template_rows": null,
            "height": null,
            "justify_content": null,
            "justify_items": null,
            "left": null,
            "margin": null,
            "max_height": null,
            "max_width": null,
            "min_height": null,
            "min_width": null,
            "object_fit": null,
            "object_position": null,
            "order": null,
            "overflow": null,
            "overflow_x": null,
            "overflow_y": null,
            "padding": null,
            "right": null,
            "top": null,
            "visibility": null,
            "width": null
          }
        },
        "ab5aa7435f554b9a966006108761b365": {
          "model_module": "@jupyter-widgets/controls",
          "model_name": "ProgressStyleModel",
          "model_module_version": "1.5.0",
          "state": {
            "_model_module": "@jupyter-widgets/controls",
            "_model_module_version": "1.5.0",
            "_model_name": "ProgressStyleModel",
            "_view_count": null,
            "_view_module": "@jupyter-widgets/base",
            "_view_module_version": "1.2.0",
            "_view_name": "StyleView",
            "bar_color": null,
            "description_width": ""
          }
        },
        "2f6b69fba9c040d1965af368b2310c09": {
          "model_module": "@jupyter-widgets/base",
          "model_name": "LayoutModel",
          "model_module_version": "1.2.0",
          "state": {
            "_model_module": "@jupyter-widgets/base",
            "_model_module_version": "1.2.0",
            "_model_name": "LayoutModel",
            "_view_count": null,
            "_view_module": "@jupyter-widgets/base",
            "_view_module_version": "1.2.0",
            "_view_name": "LayoutView",
            "align_content": null,
            "align_items": null,
            "align_self": null,
            "border": null,
            "bottom": null,
            "display": null,
            "flex": null,
            "flex_flow": null,
            "grid_area": null,
            "grid_auto_columns": null,
            "grid_auto_flow": null,
            "grid_auto_rows": null,
            "grid_column": null,
            "grid_gap": null,
            "grid_row": null,
            "grid_template_areas": null,
            "grid_template_columns": null,
            "grid_template_rows": null,
            "height": null,
            "justify_content": null,
            "justify_items": null,
            "left": null,
            "margin": null,
            "max_height": null,
            "max_width": null,
            "min_height": null,
            "min_width": null,
            "object_fit": null,
            "object_position": null,
            "order": null,
            "overflow": null,
            "overflow_x": null,
            "overflow_y": null,
            "padding": null,
            "right": null,
            "top": null,
            "visibility": null,
            "width": null
          }
        },
        "bfd9b0c71d3f493887feda77a15d9296": {
          "model_module": "@jupyter-widgets/controls",
          "model_name": "DescriptionStyleModel",
          "model_module_version": "1.5.0",
          "state": {
            "_model_module": "@jupyter-widgets/controls",
            "_model_module_version": "1.5.0",
            "_model_name": "DescriptionStyleModel",
            "_view_count": null,
            "_view_module": "@jupyter-widgets/base",
            "_view_module_version": "1.2.0",
            "_view_name": "StyleView",
            "description_width": ""
          }
        },
        "8cce11ecdfc445b88f6ea4842f8f44e3": {
          "model_module": "@jupyter-widgets/controls",
          "model_name": "HBoxModel",
          "model_module_version": "1.5.0",
          "state": {
            "_dom_classes": [],
            "_model_module": "@jupyter-widgets/controls",
            "_model_module_version": "1.5.0",
            "_model_name": "HBoxModel",
            "_view_count": null,
            "_view_module": "@jupyter-widgets/controls",
            "_view_module_version": "1.5.0",
            "_view_name": "HBoxView",
            "box_style": "",
            "children": [
              "IPY_MODEL_a89351ce3bc342218e929fe6feee67ef",
              "IPY_MODEL_56bfe2a7172844dc9f3828a830311d36",
              "IPY_MODEL_8fcea3efafb34a7d947c200faacbd5e7"
            ],
            "layout": "IPY_MODEL_840150c57bd4423ba97db3c5b12fc912"
          }
        },
        "a89351ce3bc342218e929fe6feee67ef": {
          "model_module": "@jupyter-widgets/controls",
          "model_name": "HTMLModel",
          "model_module_version": "1.5.0",
          "state": {
            "_dom_classes": [],
            "_model_module": "@jupyter-widgets/controls",
            "_model_module_version": "1.5.0",
            "_model_name": "HTMLModel",
            "_view_count": null,
            "_view_module": "@jupyter-widgets/controls",
            "_view_module_version": "1.5.0",
            "_view_name": "HTMLView",
            "description": "",
            "description_tooltip": null,
            "layout": "IPY_MODEL_0b7766eaa0f14d0a9ec68b58850fb761",
            "placeholder": "​",
            "style": "IPY_MODEL_ea855c34758742619bd194562fe50e0c",
            "value": "Map: 100%"
          }
        },
        "56bfe2a7172844dc9f3828a830311d36": {
          "model_module": "@jupyter-widgets/controls",
          "model_name": "FloatProgressModel",
          "model_module_version": "1.5.0",
          "state": {
            "_dom_classes": [],
            "_model_module": "@jupyter-widgets/controls",
            "_model_module_version": "1.5.0",
            "_model_name": "FloatProgressModel",
            "_view_count": null,
            "_view_module": "@jupyter-widgets/controls",
            "_view_module_version": "1.5.0",
            "_view_name": "ProgressView",
            "bar_style": "success",
            "description": "",
            "description_tooltip": null,
            "layout": "IPY_MODEL_5c46f5b538a741329f5256f10556744d",
            "max": 2620,
            "min": 0,
            "orientation": "horizontal",
            "style": "IPY_MODEL_f6b6556824334deab30367bcd65900cf",
            "value": 2620
          }
        },
        "8fcea3efafb34a7d947c200faacbd5e7": {
          "model_module": "@jupyter-widgets/controls",
          "model_name": "HTMLModel",
          "model_module_version": "1.5.0",
          "state": {
            "_dom_classes": [],
            "_model_module": "@jupyter-widgets/controls",
            "_model_module_version": "1.5.0",
            "_model_name": "HTMLModel",
            "_view_count": null,
            "_view_module": "@jupyter-widgets/controls",
            "_view_module_version": "1.5.0",
            "_view_name": "HTMLView",
            "description": "",
            "description_tooltip": null,
            "layout": "IPY_MODEL_29b928198cdc4539b99e79889466e3b3",
            "placeholder": "​",
            "style": "IPY_MODEL_baf52c5776f34a0b8717c919dcaaa304",
            "value": " 2620/2620 [00:14&lt;00:00, 225.81 examples/s]"
          }
        },
        "840150c57bd4423ba97db3c5b12fc912": {
          "model_module": "@jupyter-widgets/base",
          "model_name": "LayoutModel",
          "model_module_version": "1.2.0",
          "state": {
            "_model_module": "@jupyter-widgets/base",
            "_model_module_version": "1.2.0",
            "_model_name": "LayoutModel",
            "_view_count": null,
            "_view_module": "@jupyter-widgets/base",
            "_view_module_version": "1.2.0",
            "_view_name": "LayoutView",
            "align_content": null,
            "align_items": null,
            "align_self": null,
            "border": null,
            "bottom": null,
            "display": null,
            "flex": null,
            "flex_flow": null,
            "grid_area": null,
            "grid_auto_columns": null,
            "grid_auto_flow": null,
            "grid_auto_rows": null,
            "grid_column": null,
            "grid_gap": null,
            "grid_row": null,
            "grid_template_areas": null,
            "grid_template_columns": null,
            "grid_template_rows": null,
            "height": null,
            "justify_content": null,
            "justify_items": null,
            "left": null,
            "margin": null,
            "max_height": null,
            "max_width": null,
            "min_height": null,
            "min_width": null,
            "object_fit": null,
            "object_position": null,
            "order": null,
            "overflow": null,
            "overflow_x": null,
            "overflow_y": null,
            "padding": null,
            "right": null,
            "top": null,
            "visibility": null,
            "width": null
          }
        },
        "0b7766eaa0f14d0a9ec68b58850fb761": {
          "model_module": "@jupyter-widgets/base",
          "model_name": "LayoutModel",
          "model_module_version": "1.2.0",
          "state": {
            "_model_module": "@jupyter-widgets/base",
            "_model_module_version": "1.2.0",
            "_model_name": "LayoutModel",
            "_view_count": null,
            "_view_module": "@jupyter-widgets/base",
            "_view_module_version": "1.2.0",
            "_view_name": "LayoutView",
            "align_content": null,
            "align_items": null,
            "align_self": null,
            "border": null,
            "bottom": null,
            "display": null,
            "flex": null,
            "flex_flow": null,
            "grid_area": null,
            "grid_auto_columns": null,
            "grid_auto_flow": null,
            "grid_auto_rows": null,
            "grid_column": null,
            "grid_gap": null,
            "grid_row": null,
            "grid_template_areas": null,
            "grid_template_columns": null,
            "grid_template_rows": null,
            "height": null,
            "justify_content": null,
            "justify_items": null,
            "left": null,
            "margin": null,
            "max_height": null,
            "max_width": null,
            "min_height": null,
            "min_width": null,
            "object_fit": null,
            "object_position": null,
            "order": null,
            "overflow": null,
            "overflow_x": null,
            "overflow_y": null,
            "padding": null,
            "right": null,
            "top": null,
            "visibility": null,
            "width": null
          }
        },
        "ea855c34758742619bd194562fe50e0c": {
          "model_module": "@jupyter-widgets/controls",
          "model_name": "DescriptionStyleModel",
          "model_module_version": "1.5.0",
          "state": {
            "_model_module": "@jupyter-widgets/controls",
            "_model_module_version": "1.5.0",
            "_model_name": "DescriptionStyleModel",
            "_view_count": null,
            "_view_module": "@jupyter-widgets/base",
            "_view_module_version": "1.2.0",
            "_view_name": "StyleView",
            "description_width": ""
          }
        },
        "5c46f5b538a741329f5256f10556744d": {
          "model_module": "@jupyter-widgets/base",
          "model_name": "LayoutModel",
          "model_module_version": "1.2.0",
          "state": {
            "_model_module": "@jupyter-widgets/base",
            "_model_module_version": "1.2.0",
            "_model_name": "LayoutModel",
            "_view_count": null,
            "_view_module": "@jupyter-widgets/base",
            "_view_module_version": "1.2.0",
            "_view_name": "LayoutView",
            "align_content": null,
            "align_items": null,
            "align_self": null,
            "border": null,
            "bottom": null,
            "display": null,
            "flex": null,
            "flex_flow": null,
            "grid_area": null,
            "grid_auto_columns": null,
            "grid_auto_flow": null,
            "grid_auto_rows": null,
            "grid_column": null,
            "grid_gap": null,
            "grid_row": null,
            "grid_template_areas": null,
            "grid_template_columns": null,
            "grid_template_rows": null,
            "height": null,
            "justify_content": null,
            "justify_items": null,
            "left": null,
            "margin": null,
            "max_height": null,
            "max_width": null,
            "min_height": null,
            "min_width": null,
            "object_fit": null,
            "object_position": null,
            "order": null,
            "overflow": null,
            "overflow_x": null,
            "overflow_y": null,
            "padding": null,
            "right": null,
            "top": null,
            "visibility": null,
            "width": null
          }
        },
        "f6b6556824334deab30367bcd65900cf": {
          "model_module": "@jupyter-widgets/controls",
          "model_name": "ProgressStyleModel",
          "model_module_version": "1.5.0",
          "state": {
            "_model_module": "@jupyter-widgets/controls",
            "_model_module_version": "1.5.0",
            "_model_name": "ProgressStyleModel",
            "_view_count": null,
            "_view_module": "@jupyter-widgets/base",
            "_view_module_version": "1.2.0",
            "_view_name": "StyleView",
            "bar_color": null,
            "description_width": ""
          }
        },
        "29b928198cdc4539b99e79889466e3b3": {
          "model_module": "@jupyter-widgets/base",
          "model_name": "LayoutModel",
          "model_module_version": "1.2.0",
          "state": {
            "_model_module": "@jupyter-widgets/base",
            "_model_module_version": "1.2.0",
            "_model_name": "LayoutModel",
            "_view_count": null,
            "_view_module": "@jupyter-widgets/base",
            "_view_module_version": "1.2.0",
            "_view_name": "LayoutView",
            "align_content": null,
            "align_items": null,
            "align_self": null,
            "border": null,
            "bottom": null,
            "display": null,
            "flex": null,
            "flex_flow": null,
            "grid_area": null,
            "grid_auto_columns": null,
            "grid_auto_flow": null,
            "grid_auto_rows": null,
            "grid_column": null,
            "grid_gap": null,
            "grid_row": null,
            "grid_template_areas": null,
            "grid_template_columns": null,
            "grid_template_rows": null,
            "height": null,
            "justify_content": null,
            "justify_items": null,
            "left": null,
            "margin": null,
            "max_height": null,
            "max_width": null,
            "min_height": null,
            "min_width": null,
            "object_fit": null,
            "object_position": null,
            "order": null,
            "overflow": null,
            "overflow_x": null,
            "overflow_y": null,
            "padding": null,
            "right": null,
            "top": null,
            "visibility": null,
            "width": null
          }
        },
        "baf52c5776f34a0b8717c919dcaaa304": {
          "model_module": "@jupyter-widgets/controls",
          "model_name": "DescriptionStyleModel",
          "model_module_version": "1.5.0",
          "state": {
            "_model_module": "@jupyter-widgets/controls",
            "_model_module_version": "1.5.0",
            "_model_name": "DescriptionStyleModel",
            "_view_count": null,
            "_view_module": "@jupyter-widgets/base",
            "_view_module_version": "1.2.0",
            "_view_name": "StyleView",
            "description_width": ""
          }
        },
        "5a41bad147b0484494d4c14fd61fc408": {
          "model_module": "@jupyter-widgets/controls",
          "model_name": "HBoxModel",
          "model_module_version": "1.5.0",
          "state": {
            "_dom_classes": [],
            "_model_module": "@jupyter-widgets/controls",
            "_model_module_version": "1.5.0",
            "_model_name": "HBoxModel",
            "_view_count": null,
            "_view_module": "@jupyter-widgets/controls",
            "_view_module_version": "1.5.0",
            "_view_name": "HBoxView",
            "box_style": "",
            "children": [
              "IPY_MODEL_cb85e469983e439eab111318f90c95da",
              "IPY_MODEL_313bf941a622412b907528626e1e342a",
              "IPY_MODEL_c0112cf85afe4081bf765b330d1f1b30"
            ],
            "layout": "IPY_MODEL_b3351ba6d04e473f821db6aecfc79c80"
          }
        },
        "cb85e469983e439eab111318f90c95da": {
          "model_module": "@jupyter-widgets/controls",
          "model_name": "HTMLModel",
          "model_module_version": "1.5.0",
          "state": {
            "_dom_classes": [],
            "_model_module": "@jupyter-widgets/controls",
            "_model_module_version": "1.5.0",
            "_model_name": "HTMLModel",
            "_view_count": null,
            "_view_module": "@jupyter-widgets/controls",
            "_view_module_version": "1.5.0",
            "_view_name": "HTMLView",
            "description": "",
            "description_tooltip": null,
            "layout": "IPY_MODEL_71a88060bed244aa9f749e8adf44b0ac",
            "placeholder": "​",
            "style": "IPY_MODEL_96c930a7e41545149302850b920f3fa6",
            "value": "model.safetensors: 100%"
          }
        },
        "313bf941a622412b907528626e1e342a": {
          "model_module": "@jupyter-widgets/controls",
          "model_name": "FloatProgressModel",
          "model_module_version": "1.5.0",
          "state": {
            "_dom_classes": [],
            "_model_module": "@jupyter-widgets/controls",
            "_model_module_version": "1.5.0",
            "_model_name": "FloatProgressModel",
            "_view_count": null,
            "_view_module": "@jupyter-widgets/controls",
            "_view_module_version": "1.5.0",
            "_view_name": "ProgressView",
            "bar_style": "success",
            "description": "",
            "description_tooltip": null,
            "layout": "IPY_MODEL_f844552dd25f454eb4052c938ae7b214",
            "max": 377607901,
            "min": 0,
            "orientation": "horizontal",
            "style": "IPY_MODEL_37f90b6bb276409b90feb990901279d0",
            "value": 377607901
          }
        },
        "c0112cf85afe4081bf765b330d1f1b30": {
          "model_module": "@jupyter-widgets/controls",
          "model_name": "HTMLModel",
          "model_module_version": "1.5.0",
          "state": {
            "_dom_classes": [],
            "_model_module": "@jupyter-widgets/controls",
            "_model_module_version": "1.5.0",
            "_model_name": "HTMLModel",
            "_view_count": null,
            "_view_module": "@jupyter-widgets/controls",
            "_view_module_version": "1.5.0",
            "_view_name": "HTMLView",
            "description": "",
            "description_tooltip": null,
            "layout": "IPY_MODEL_baacf35b11fd4db2ba7bd6d253c35f72",
            "placeholder": "​",
            "style": "IPY_MODEL_035f5b746ddc47bc91f6ba6850e1d848",
            "value": " 378M/378M [00:02&lt;00:00, 159MB/s]"
          }
        },
        "b3351ba6d04e473f821db6aecfc79c80": {
          "model_module": "@jupyter-widgets/base",
          "model_name": "LayoutModel",
          "model_module_version": "1.2.0",
          "state": {
            "_model_module": "@jupyter-widgets/base",
            "_model_module_version": "1.2.0",
            "_model_name": "LayoutModel",
            "_view_count": null,
            "_view_module": "@jupyter-widgets/base",
            "_view_module_version": "1.2.0",
            "_view_name": "LayoutView",
            "align_content": null,
            "align_items": null,
            "align_self": null,
            "border": null,
            "bottom": null,
            "display": null,
            "flex": null,
            "flex_flow": null,
            "grid_area": null,
            "grid_auto_columns": null,
            "grid_auto_flow": null,
            "grid_auto_rows": null,
            "grid_column": null,
            "grid_gap": null,
            "grid_row": null,
            "grid_template_areas": null,
            "grid_template_columns": null,
            "grid_template_rows": null,
            "height": null,
            "justify_content": null,
            "justify_items": null,
            "left": null,
            "margin": null,
            "max_height": null,
            "max_width": null,
            "min_height": null,
            "min_width": null,
            "object_fit": null,
            "object_position": null,
            "order": null,
            "overflow": null,
            "overflow_x": null,
            "overflow_y": null,
            "padding": null,
            "right": null,
            "top": null,
            "visibility": null,
            "width": null
          }
        },
        "71a88060bed244aa9f749e8adf44b0ac": {
          "model_module": "@jupyter-widgets/base",
          "model_name": "LayoutModel",
          "model_module_version": "1.2.0",
          "state": {
            "_model_module": "@jupyter-widgets/base",
            "_model_module_version": "1.2.0",
            "_model_name": "LayoutModel",
            "_view_count": null,
            "_view_module": "@jupyter-widgets/base",
            "_view_module_version": "1.2.0",
            "_view_name": "LayoutView",
            "align_content": null,
            "align_items": null,
            "align_self": null,
            "border": null,
            "bottom": null,
            "display": null,
            "flex": null,
            "flex_flow": null,
            "grid_area": null,
            "grid_auto_columns": null,
            "grid_auto_flow": null,
            "grid_auto_rows": null,
            "grid_column": null,
            "grid_gap": null,
            "grid_row": null,
            "grid_template_areas": null,
            "grid_template_columns": null,
            "grid_template_rows": null,
            "height": null,
            "justify_content": null,
            "justify_items": null,
            "left": null,
            "margin": null,
            "max_height": null,
            "max_width": null,
            "min_height": null,
            "min_width": null,
            "object_fit": null,
            "object_position": null,
            "order": null,
            "overflow": null,
            "overflow_x": null,
            "overflow_y": null,
            "padding": null,
            "right": null,
            "top": null,
            "visibility": null,
            "width": null
          }
        },
        "96c930a7e41545149302850b920f3fa6": {
          "model_module": "@jupyter-widgets/controls",
          "model_name": "DescriptionStyleModel",
          "model_module_version": "1.5.0",
          "state": {
            "_model_module": "@jupyter-widgets/controls",
            "_model_module_version": "1.5.0",
            "_model_name": "DescriptionStyleModel",
            "_view_count": null,
            "_view_module": "@jupyter-widgets/base",
            "_view_module_version": "1.2.0",
            "_view_name": "StyleView",
            "description_width": ""
          }
        },
        "f844552dd25f454eb4052c938ae7b214": {
          "model_module": "@jupyter-widgets/base",
          "model_name": "LayoutModel",
          "model_module_version": "1.2.0",
          "state": {
            "_model_module": "@jupyter-widgets/base",
            "_model_module_version": "1.2.0",
            "_model_name": "LayoutModel",
            "_view_count": null,
            "_view_module": "@jupyter-widgets/base",
            "_view_module_version": "1.2.0",
            "_view_name": "LayoutView",
            "align_content": null,
            "align_items": null,
            "align_self": null,
            "border": null,
            "bottom": null,
            "display": null,
            "flex": null,
            "flex_flow": null,
            "grid_area": null,
            "grid_auto_columns": null,
            "grid_auto_flow": null,
            "grid_auto_rows": null,
            "grid_column": null,
            "grid_gap": null,
            "grid_row": null,
            "grid_template_areas": null,
            "grid_template_columns": null,
            "grid_template_rows": null,
            "height": null,
            "justify_content": null,
            "justify_items": null,
            "left": null,
            "margin": null,
            "max_height": null,
            "max_width": null,
            "min_height": null,
            "min_width": null,
            "object_fit": null,
            "object_position": null,
            "order": null,
            "overflow": null,
            "overflow_x": null,
            "overflow_y": null,
            "padding": null,
            "right": null,
            "top": null,
            "visibility": null,
            "width": null
          }
        },
        "37f90b6bb276409b90feb990901279d0": {
          "model_module": "@jupyter-widgets/controls",
          "model_name": "ProgressStyleModel",
          "model_module_version": "1.5.0",
          "state": {
            "_model_module": "@jupyter-widgets/controls",
            "_model_module_version": "1.5.0",
            "_model_name": "ProgressStyleModel",
            "_view_count": null,
            "_view_module": "@jupyter-widgets/base",
            "_view_module_version": "1.2.0",
            "_view_name": "StyleView",
            "bar_color": null,
            "description_width": ""
          }
        },
        "baacf35b11fd4db2ba7bd6d253c35f72": {
          "model_module": "@jupyter-widgets/base",
          "model_name": "LayoutModel",
          "model_module_version": "1.2.0",
          "state": {
            "_model_module": "@jupyter-widgets/base",
            "_model_module_version": "1.2.0",
            "_model_name": "LayoutModel",
            "_view_count": null,
            "_view_module": "@jupyter-widgets/base",
            "_view_module_version": "1.2.0",
            "_view_name": "LayoutView",
            "align_content": null,
            "align_items": null,
            "align_self": null,
            "border": null,
            "bottom": null,
            "display": null,
            "flex": null,
            "flex_flow": null,
            "grid_area": null,
            "grid_auto_columns": null,
            "grid_auto_flow": null,
            "grid_auto_rows": null,
            "grid_column": null,
            "grid_gap": null,
            "grid_row": null,
            "grid_template_areas": null,
            "grid_template_columns": null,
            "grid_template_rows": null,
            "height": null,
            "justify_content": null,
            "justify_items": null,
            "left": null,
            "margin": null,
            "max_height": null,
            "max_width": null,
            "min_height": null,
            "min_width": null,
            "object_fit": null,
            "object_position": null,
            "order": null,
            "overflow": null,
            "overflow_x": null,
            "overflow_y": null,
            "padding": null,
            "right": null,
            "top": null,
            "visibility": null,
            "width": null
          }
        },
        "035f5b746ddc47bc91f6ba6850e1d848": {
          "model_module": "@jupyter-widgets/controls",
          "model_name": "DescriptionStyleModel",
          "model_module_version": "1.5.0",
          "state": {
            "_model_module": "@jupyter-widgets/controls",
            "_model_module_version": "1.5.0",
            "_model_name": "DescriptionStyleModel",
            "_view_count": null,
            "_view_module": "@jupyter-widgets/base",
            "_view_module_version": "1.2.0",
            "_view_name": "StyleView",
            "description_width": ""
          }
        }
      }
    }
  },
  "nbformat": 4,
  "nbformat_minor": 0
}